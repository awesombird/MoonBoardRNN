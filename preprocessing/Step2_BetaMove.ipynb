{
 "cells": [
  {
   "cell_type": "markdown",
   "metadata": {},
   "source": [
    "## Moonboard Sequence Simulator"
   ]
  },
  {
   "attachments": {},
   "cell_type": "markdown",
   "metadata": {},
   "source": [
    "MoonboardSequenceSimulator\n",
    "\n",
    "Input:\n",
    "- Single moonboard problem from `\"MoonBoard_2016_raw\"` to get url\n",
    "- processed data `processed_data_xy_mode`. It will be neater to read directly from `\"MoonBoard_2016_raw\"` `[(six hand feature) X, Y, isStart, isFinish]`\n",
    "- Table for each hold's right/left hand difficulty\n",
    "\n",
    "Output:\n",
    "\n",
    "hand sequence generator:\n",
    "- Predict a reasonable hand sequence for each problem. \n",
    "- i.e. 5B-R (Start) 7C-L (Start) 6A-R 8B-L 9C-L ... 18B-L 18B-R(Finished)\n",
    "- return an array with `[RH, RH, LH,......]` and all holds in used along the way    \n",
    "\n",
    "move sequence generator:\n",
    "- A list of moves. `[move1, move2, move3...]`\n",
    "- Each move is a dictionary. i.e.\n",
    "- ```py\n",
    "  {\n",
    "    'TargetHoldString': 'F6',\n",
    "    'TargetHoldHand': 'RH',\n",
    "    'TargetHoldScore': array([1]),\n",
    "    'RemainingHoldString': 'B4',\n",
    "    'RemainingHoldHand': 'LH',\n",
    "    'RemainingHoldScore': array([6]),\n",
    "    'dxdyRtoT': (4.0, 2.0),\n",
    "    'MovingHoldString': 'D3',\n",
    "    'MovingHoldHand': 'RH',\n",
    "    'MovingHoldScore': array([3]),\n",
    "    'dxdyMtoT': (2.0, 3.0),\n",
    "    'FootPlacement': [0, 0, 0, 1, 1, 1, 0]\n",
    "  }\n",
    "  ```\n",
    "    \n",
    "Author: Yi-Shiou Duh (allenduh@stanford.edu)"
   ]
  },
  {
   "cell_type": "code",
   "execution_count": null,
   "metadata": {},
   "outputs": [],
   "source": [
    "import numpy as np\n",
    "import copy\n",
    "import pickle\n",
    "import heapq\n",
    "import matplotlib.pyplot as plt\n",
    "import pandas as pd\n",
    "from preprocessing_helper import *\n",
    "\n",
    "import constants"
   ]
  },
  {
   "cell_type": "markdown",
   "metadata": {},
   "source": [
    "## 1. Read all preprocessed data\n"
   ]
  },
  {
   "cell_type": "markdown",
   "metadata": {},
   "source": [
    "### 1-1. Read hand feature files"
   ]
  },
  {
   "cell_type": "code",
   "execution_count": 2,
   "metadata": {},
   "outputs": [
    {
     "data": {
      "text/plain": [
       "((0, 17), array([5]))"
      ]
     },
     "execution_count": 2,
     "metadata": {},
     "output_type": "execute_result"
    }
   ],
   "source": [
    "# left/right hand features are single difficulties (0-9) for each hold\n",
    "LeftHandfeatures = pd.read_csv(constants.HOLD_FEATURES_LEFT_HAND_PATH, dtype=str)\n",
    "RightHandfeatures = pd.read_csv(constants.HOLD_FEATURES_RIGHT_HAND_PATH, dtype=str)\n",
    "\n",
    "# convert features from pd dataframe to dictionary of left and right hand\n",
    "# key: (x,y) value: difficulty\n",
    "RightHandfeature_dict = {}\n",
    "LeftHandfeature_dict = {}\n",
    "for index in RightHandfeatures.index:\n",
    "    LeftHandfeature_item = LeftHandfeatures.loc[index]\n",
    "    LeftHandfeature_dict[(int(LeftHandfeature_item['X_coord']), int(LeftHandfeature_item['Y_coord']))] = np.array(\n",
    "        list(LeftHandfeature_item['Difficulties'])).astype(int)\n",
    "    RightHandfeature_item = RightHandfeatures.loc[index]\n",
    "    RightHandfeature_dict[(int(RightHandfeature_item['X_coord']), int(RightHandfeature_item['Y_coord']))] = np.array(\n",
    "        list(RightHandfeature_item['Difficulties'])).astype(int)\n",
    "\n",
    "next(iter(RightHandfeature_dict.items()))"
   ]
  },
  {
   "cell_type": "markdown",
   "metadata": {},
   "source": [
    "### 1-2. Read moonboard problems with url file"
   ]
  },
  {
   "cell_type": "code",
   "execution_count": 3,
   "metadata": {},
   "outputs": [
    {
     "data": {
      "text/plain": [
       "('367894',\n",
       " {'problem_name': 'TALL POPPY',\n",
       "  'info': ['halladay',\n",
       "   'Be the first to repeat this problem',\n",
       "   '6C+',\n",
       "   'Feet follow hands',\n",
       "   ''],\n",
       "  'url': 'https://moonboard.com/Problems/View/367894/tall-poppy',\n",
       "  'num_empty': 3,\n",
       "  'num_stars': 0,\n",
       "  'moves': [{'Id': 2119224,\n",
       "    'Description': 'F5',\n",
       "    'IsStart': True,\n",
       "    'IsEnd': False},\n",
       "   {'Id': 2119225, 'Description': 'G2', 'IsStart': True, 'IsEnd': False},\n",
       "   {'Id': 2119226, 'Description': 'H10', 'IsStart': False, 'IsEnd': False},\n",
       "   {'Id': 2119227, 'Description': 'B11', 'IsStart': False, 'IsEnd': False},\n",
       "   {'Id': 2119228, 'Description': 'E15', 'IsStart': False, 'IsEnd': False},\n",
       "   {'Id': 2119229, 'Description': 'D18', 'IsStart': False, 'IsEnd': True},\n",
       "   {'Id': 2119230, 'Description': 'E8', 'IsStart': False, 'IsEnd': False}],\n",
       "  'grade': '6C+',\n",
       "  'UserGrade': None,\n",
       "  'isBenchmark': False,\n",
       "  'repeats': 0,\n",
       "  'ProblemType': None,\n",
       "  'IsMaster': False,\n",
       "  'setter': {'Id': '93A38FE2-1B2B-4B0F-9B70-9A77BAE976B8',\n",
       "   'Nickname': 'halladay',\n",
       "   'Firstname': 'Jason',\n",
       "   'Lastname': 'Halladay',\n",
       "   'City': 'Los Alamos',\n",
       "   'Country': 'United States',\n",
       "   'ProfileImageUrl': '/Content/Account/Users/Profile/93A38FE2-1B2B-4B0F-9B70-9A77BAE976B8.gif?637231996892206329',\n",
       "   'CanShareData': True}})"
      ]
     },
     "execution_count": 3,
     "metadata": {},
     "output_type": "execute_result"
    }
   ],
   "source": [
    "# load the scraped MoonBoard json (dict)\n",
    "with open(constants.DATA_DIR / 'moonGen_scrape_2016_cp', 'rb') as f:\n",
    "    MoonBoard_2016_withurl = pickle.load(f)\n",
    "next(iter(MoonBoard_2016_withurl.items()))"
   ]
  },
  {
   "cell_type": "markdown",
   "metadata": {},
   "source": [
    "### 1-3. Read preprocessed moonboard problem"
   ]
  },
  {
   "cell_type": "markdown",
   "metadata": {},
   "source": [
    "Load the reformatted data dict of dicts (X/Y, un/benchmarked, un/user-graded)\n",
    "\n",
    "Dicts:\n",
    "- `X_dict_benchmark_withgrade`\n",
    "- `Y_dict_benchmark_withgrade`\n",
    "- `X_dict_benchmark_nograde`\n",
    "- `Y_dict_benchmark_nograde`\n",
    "- `X_dict_withgrade`\n",
    "- `Y_dict_withgrade`\n",
    "- `X_dict_nograde`\n",
    "- `Y_dict_nograde`\n",
    "\n",
    "Where each X item is (problem_id, 10xn array) where n is the number of holds in the problem. Each **column** vector contain:\n",
    "- 0: `feature_dict[x,y][0]`\n",
    "- 1: `feature_dict[x,y][1]`\n",
    "- 2: `feature_dict[x,y][2]`\n",
    "- 3: `feature_dict[x,y][3]`\n",
    "- 4: `feature_dict[x,y][4]`\n",
    "- 5: `feature_dict[x,y][5]`\n",
    "- 6: `x`\n",
    "- 7: `y`\n",
    "- 8: `is_start`\n",
    "- 9: `is_end`\n",
    "\n",
    "Y items (problem_id, 3x1 array). Each **column** vector contain:\n",
    "- 0: `grade`\n",
    "- 1: `is_benchmarked`\n",
    "- 2: `user_grade` (only if dict is `withgrade`)"
   ]
  },
  {
   "cell_type": "code",
   "execution_count": 4,
   "metadata": {},
   "outputs": [],
   "source": [
    "with open(constants.PREPROCESSING_DIR / 'processed_data_xy_mode', 'rb') as f:\n",
    "    MoonBoard_2016_raw = pickle.load(f)"
   ]
  },
  {
   "cell_type": "code",
   "execution_count": 5,
   "metadata": {},
   "outputs": [
    {
     "data": {
      "text/plain": [
       "('337509',\n",
       " array([[ 0.,  2.,  0.,  1.,  2.,  3.],\n",
       "        [ 2.,  5.,  1.,  5.,  3.,  7.],\n",
       "        [ 5.,  2.,  4.,  3.,  4.,  5.],\n",
       "        [ 2.,  0.,  1.,  1.,  2.,  2.],\n",
       "        [ 0.,  0.,  0.,  0.,  1.,  0.],\n",
       "        [ 0.,  0.,  0.,  0.,  0.,  0.],\n",
       "        [10.,  5.,  8.,  5.,  3.,  1.],\n",
       "        [ 4.,  6., 10., 13., 16., 17.],\n",
       "        [ 1.,  0.,  0.,  0.,  0.,  0.],\n",
       "        [ 0.,  0.,  0.,  0.,  0.,  1.]]))"
      ]
     },
     "execution_count": 5,
     "metadata": {},
     "output_type": "execute_result"
    }
   ],
   "source": [
    "next(iter(MoonBoard_2016_raw['X_dict_benchmark_withgrade'].items()))"
   ]
  },
  {
   "cell_type": "markdown",
   "metadata": {},
   "source": [
    "#### Here you can see the possible range of next right hand using sum of two Gaussisan. Remaining left hand in origin"
   ]
  },
  {
   "cell_type": "code",
   "execution_count": 6,
   "metadata": {},
   "outputs": [
    {
     "data": {
      "image/png": "[encoded data removed]",
      "text/plain": [
       "<Figure size 640x480 with 2 Axes>"
      ]
     },
     "metadata": {},
     "output_type": "display_data"
    }
   ],
   "source": [
    "# generate axis ranges\n",
    "xlist = np.linspace(-2,6, 100)\n",
    "ylist = np.linspace(-2,6, 100)\n",
    "X, Y = np.meshgrid(xlist, ylist)\n",
    "\n",
    "# generate Gaussian of to evaluate possiblitity of distance from current hand\n",
    "# TODO: surely this is a poor approximation of where to put hands, as it should be much easier next to current hand\n",
    "Z = makeGaussian(targetXY=(X,Y), fwhm=3, center=(0,0), lasthand='LH')\n",
    "\n",
    "# plot\n",
    "fig,ax=plt.subplots(1,1)\n",
    "cp = ax.contourf(X, Y, Z)\n",
    "fig.colorbar(cp) # Add a colorbar to a plot\n",
    "ax.set_title('Filled Contours Plot')\n",
    "ax.set_ylabel('y (cm)')\n",
    "ax.set_xlabel('x (cm)')\n",
    "plt.show()"
   ]
  },
  {
   "cell_type": "markdown",
   "metadata": {},
   "source": [
    "## 2. Demonstration of detailed analysis on a single problem"
   ]
  },
  {
   "cell_type": "markdown",
   "metadata": {},
   "source": [
    "### 2-1. load one specific problem"
   ]
  },
  {
   "cell_type": "code",
   "execution_count": 7,
   "metadata": {},
   "outputs": [],
   "source": [
    "keyNum = \"342797\"    \n",
    "moonboardTest = (MoonBoard_2016_raw[\"X_dict_withgrade\"])[keyNum]"
   ]
  },
  {
   "cell_type": "code",
   "execution_count": 8,
   "metadata": {},
   "outputs": [
    {
     "data": {
      "text/plain": [
       "array([[ 5.,  0.,  1.,  0.,  0.,  0.,  1.,  2.,  2.],\n",
       "       [ 4.,  2.,  5.,  0.,  0.,  3.,  4.,  5.,  6.],\n",
       "       [ 9.,  4.,  2.,  4.,  6.,  6.,  3.,  2.,  8.],\n",
       "       [ 4.,  2.,  0.,  9.,  4.,  3.,  1.,  1.,  6.],\n",
       "       [ 1.,  0.,  0.,  4.,  4.,  0.,  0.,  0.,  2.],\n",
       "       [ 1.,  0.,  0.,  0.,  0.,  0.,  0.,  0.,  0.],\n",
       "       [ 5.,  4.,  0.,  7.,  3.,  4.,  2.,  1.,  3.],\n",
       "       [ 4.,  7.,  8.,  9., 11., 12., 14., 15., 17.],\n",
       "       [ 1.,  0.,  0.,  0.,  0.,  0.,  0.,  0.,  0.],\n",
       "       [ 0.,  0.,  0.,  0.,  0.,  0.,  0.,  0.,  1.]])"
      ]
     },
     "execution_count": 8,
     "metadata": {},
     "output_type": "execute_result"
    }
   ],
   "source": [
    "# Can see problem has 9 holds (columns)\n",
    "moonboardTest"
   ]
  },
  {
   "cell_type": "code",
   "execution_count": 9,
   "metadata": {},
   "outputs": [
    {
     "name": "stdout",
     "output_type": "stream",
     "text": [
      "keyNum =  342797\n",
      "[[ 5.  4.  9.  4.  1.  1.  5.  4.  1.  0.]\n",
      " [ 0.  2.  4.  2.  0.  0.  4.  7.  0.  0.]\n",
      " [ 1.  5.  2.  0.  0.  0.  0.  8.  0.  0.]\n",
      " [ 0.  0.  4.  9.  4.  0.  7.  9.  0.  0.]\n",
      " [ 0.  0.  6.  4.  4.  0.  3. 11.  0.  0.]\n",
      " [ 0.  3.  6.  3.  0.  0.  4. 12.  0.  0.]\n",
      " [ 1.  4.  3.  1.  0.  0.  2. 14.  0.  0.]\n",
      " [ 2.  5.  2.  1.  0.  0.  1. 15.  0.  0.]\n",
      " [ 2.  6.  8.  6.  2.  0.  3. 17.  0.  1.]]\n",
      "https://moonboard.com/Problems/View/342797/chats\n"
     ]
    }
   ],
   "source": [
    "# Create betas for right and left hands (transpose the matrices so each row is a hold)\n",
    "testbeta = beta(moonboardTest.T)\n",
    "status = [beta(moonboardTest.T), beta(moonboardTest.T)]\n",
    "\n",
    "# Print details\n",
    "print(\"keyNum = \", keyNum)\n",
    "print(status[0].allHolds)\n",
    "moonboardTestUrl = MoonBoard_2016_withurl[keyNum]\n",
    "print(moonboardTestUrl[\"url\"])\n",
    "\n",
    "# Initialized Start hold of two different beta\n",
    "status[0].addStartHolds(0)\n",
    "status[1].addStartHolds(1)\n",
    "\n",
    "operationList = [\"RH\", \"LH\"]\n",
    "tempstatus = []\n",
    "tempstatus2 = []\n",
    "tempstatus3 = []\n",
    "distanceScore = []"
   ]
  },
  {
   "cell_type": "markdown",
   "metadata": {},
   "source": [
    "### 2-2. Beamer search process "
   ]
  },
  {
   "cell_type": "code",
   "execution_count": 10,
   "metadata": {},
   "outputs": [
    {
     "name": "stdout",
     "output_type": "stream",
     "text": [
      "0\n",
      "[0, 0, 1] ['LH', 'RH', 'LH'] [147.09694124]\n",
      "[0, 0, 1] ['LH', 'RH', 'LH'] [147.09694124]\n",
      "[0, 0, 1] ['LH', 'RH', 'RH'] [92.60035394]\n",
      "[0, 0, 1] ['LH', 'RH', 'RH'] [92.60035394]\n",
      "[0, 0, 2] ['LH', 'RH', 'LH'] [65.32602493]\n",
      "[0, 0, 2] ['LH', 'RH', 'LH'] [65.32602493]\n",
      "[0, 0, 3] ['LH', 'RH', 'RH'] [54.2957249]\n",
      "[0, 0, 3] ['LH', 'RH', 'RH'] [54.2957249]\n",
      "1\n",
      "[0, 0, 1, 3] ['LH', 'RH', 'LH', 'RH'] [207.39931721]\n",
      "[0, 0, 1, 3] ['LH', 'RH', 'LH', 'RH'] [207.39931721]\n",
      "[0, 0, 1, 2] ['LH', 'RH', 'RH', 'LH'] [106.39664984]\n",
      "[0, 0, 1, 2] ['LH', 'RH', 'RH', 'LH'] [106.39664984]\n",
      "[0, 0, 2, 4] ['LH', 'RH', 'LH', 'RH'] [58.83563347]\n",
      "[0, 0, 2, 4] ['LH', 'RH', 'LH', 'RH'] [58.83563347]\n",
      "[0, 0, 3, 4] ['LH', 'RH', 'RH', 'LH'] [57.45155419]\n",
      "[0, 0, 3, 4] ['LH', 'RH', 'RH', 'LH'] [57.45155419]\n",
      "2\n",
      "[0, 0, 1, 3, 4] ['LH', 'RH', 'LH', 'RH', 'LH'] [165.96935332]\n",
      "[0, 0, 1, 3, 4] ['LH', 'RH', 'LH', 'RH', 'LH'] [165.96935332]\n",
      "[0, 0, 1, 3, 5] ['LH', 'RH', 'LH', 'RH', 'LH'] [151.39323371]\n",
      "[0, 0, 1, 3, 5] ['LH', 'RH', 'LH', 'RH', 'LH'] [151.39323371]\n",
      "[0, 0, 1, 2, 4] ['LH', 'RH', 'RH', 'LH', 'RH'] [88.7570727]\n",
      "[0, 0, 1, 2, 4] ['LH', 'RH', 'RH', 'LH', 'RH'] [88.7570727]\n",
      "[0, 0, 3, 4, 5] ['LH', 'RH', 'RH', 'LH', 'LH'] [54.2128243]\n",
      "[0, 0, 3, 4, 5] ['LH', 'RH', 'RH', 'LH', 'LH'] [54.2128243]\n",
      "3\n",
      "[0, 0, 1, 3, 4, 5] ['LH', 'RH', 'LH', 'RH', 'LH', 'LH'] [132.5074891]\n",
      "[0, 0, 1, 3, 4, 5] ['LH', 'RH', 'LH', 'RH', 'LH', 'LH'] [132.5074891]\n",
      "[0, 0, 1, 3, 5, 4] ['LH', 'RH', 'LH', 'RH', 'LH', 'LH'] [132.5074891]\n",
      "[0, 0, 1, 3, 5, 4] ['LH', 'RH', 'LH', 'RH', 'LH', 'LH'] [132.5074891]\n",
      "[0, 0, 1, 3, 4, 5] ['LH', 'RH', 'LH', 'RH', 'LH', 'RH'] [115.1675644]\n",
      "[0, 0, 1, 3, 4, 5] ['LH', 'RH', 'LH', 'RH', 'LH', 'RH'] [115.1675644]\n",
      "[0, 0, 1, 3, 5, 4] ['LH', 'RH', 'LH', 'RH', 'LH', 'RH'] [77.79677112]\n",
      "[0, 0, 1, 3, 5, 4] ['LH', 'RH', 'LH', 'RH', 'LH', 'RH'] [77.79677112]\n",
      "4\n",
      "[0, 0, 1, 3, 4, 5, 6] ['LH', 'RH', 'LH', 'RH', 'LH', 'RH', 'LH'] [90.48878654]\n",
      "[0, 0, 1, 3, 4, 5, 6] ['LH', 'RH', 'LH', 'RH', 'LH', 'RH', 'LH'] [90.48878654]\n",
      "[0, 0, 1, 3, 4, 5, 7] ['LH', 'RH', 'LH', 'RH', 'LH', 'RH', 'LH'] [86.60782784]\n",
      "[0, 0, 1, 3, 4, 5, 7] ['LH', 'RH', 'LH', 'RH', 'LH', 'RH', 'LH'] [86.60782784]\n",
      "[0, 0, 1, 3, 4, 5, 6] ['LH', 'RH', 'LH', 'RH', 'LH', 'LH', 'RH'] [39.05780069]\n",
      "[0, 0, 1, 3, 4, 5, 6] ['LH', 'RH', 'LH', 'RH', 'LH', 'LH', 'RH'] [39.05780069]\n",
      "[0, 0, 1, 3, 5, 4, 6] ['LH', 'RH', 'LH', 'RH', 'LH', 'RH', 'LH'] [34.75499611]\n",
      "[0, 0, 1, 3, 5, 4, 6] ['LH', 'RH', 'LH', 'RH', 'LH', 'RH', 'LH'] [34.75499611]\n",
      "5\n",
      "[0, 0, 1, 3, 4, 5, 7, 8] ['LH', 'RH', 'LH', 'RH', 'LH', 'RH', 'LH', 'RH'] [98.50396893]\n",
      "[0, 0, 1, 3, 4, 5, 7, 8] ['LH', 'RH', 'LH', 'RH', 'LH', 'RH', 'LH', 'RH'] [98.50396893]\n",
      "[0, 0, 1, 3, 4, 5, 6, 7] ['LH', 'RH', 'LH', 'RH', 'LH', 'RH', 'LH', 'LH'] [72.67504096]\n",
      "[0, 0, 1, 3, 4, 5, 6, 7] ['LH', 'RH', 'LH', 'RH', 'LH', 'RH', 'LH', 'LH'] [72.67504096]\n",
      "[0, 0, 1, 3, 4, 5, 7, 6] ['LH', 'RH', 'LH', 'RH', 'LH', 'RH', 'LH', 'LH'] [72.67504096]\n",
      "[0, 0, 1, 3, 4, 5, 7, 6] ['LH', 'RH', 'LH', 'RH', 'LH', 'RH', 'LH', 'LH'] [72.67504096]\n",
      "[0, 0, 1, 3, 4, 5, 6, 8] ['LH', 'RH', 'LH', 'RH', 'LH', 'RH', 'LH', 'RH'] [59.46450015]\n",
      "[0, 0, 1, 3, 4, 5, 6, 8] ['LH', 'RH', 'LH', 'RH', 'LH', 'RH', 'LH', 'RH'] [59.46450015]\n",
      "6\n",
      "[0, 0, 1, 3, 4, 5, 7, 8] ['LH', 'RH', 'LH', 'RH', 'LH', 'RH', 'LH', 'RH'] [98.50396893]\n",
      "[0, 0, 1, 3, 4, 5, 7, 8] ['LH', 'RH', 'LH', 'RH', 'LH', 'RH', 'LH', 'RH'] [98.50396893]\n",
      "[0, 0, 1, 3, 4, 5, 7, 8] ['LH', 'RH', 'LH', 'RH', 'LH', 'RH', 'LH', 'RH'] [98.50396893]\n",
      "[0, 0, 1, 3, 4, 5, 7, 8] ['LH', 'RH', 'LH', 'RH', 'LH', 'RH', 'LH', 'RH'] [98.50396893]\n",
      "[0, 0, 1, 3, 4, 5, 7, 8] ['LH', 'RH', 'LH', 'RH', 'LH', 'RH', 'LH', 'RH'] [98.50396893]\n",
      "[0, 0, 1, 3, 4, 5, 7, 8] ['LH', 'RH', 'LH', 'RH', 'LH', 'RH', 'LH', 'RH'] [98.50396893]\n",
      "[0, 0, 1, 3, 4, 5, 7, 8] ['LH', 'RH', 'LH', 'RH', 'LH', 'RH', 'LH', 'RH'] [98.50396893]\n",
      "[0, 0, 1, 3, 4, 5, 7, 8] ['LH', 'RH', 'LH', 'RH', 'LH', 'RH', 'LH', 'RH'] [98.50396893]\n",
      "7\n",
      "[0, 0, 1, 3, 4, 5, 7, 8] ['LH', 'RH', 'LH', 'RH', 'LH', 'RH', 'LH', 'RH'] [98.50396893]\n",
      "[0, 0, 1, 3, 4, 5, 7, 8] ['LH', 'RH', 'LH', 'RH', 'LH', 'RH', 'LH', 'RH'] [98.50396893]\n",
      "[0, 0, 1, 3, 4, 5, 7, 8] ['LH', 'RH', 'LH', 'RH', 'LH', 'RH', 'LH', 'RH'] [98.50396893]\n",
      "[0, 0, 1, 3, 4, 5, 7, 8] ['LH', 'RH', 'LH', 'RH', 'LH', 'RH', 'LH', 'RH'] [98.50396893]\n",
      "[0, 0, 1, 3, 4, 5, 7, 8] ['LH', 'RH', 'LH', 'RH', 'LH', 'RH', 'LH', 'RH'] [98.50396893]\n",
      "[0, 0, 1, 3, 4, 5, 7, 8] ['LH', 'RH', 'LH', 'RH', 'LH', 'RH', 'LH', 'RH'] [98.50396893]\n",
      "[0, 0, 1, 3, 4, 5, 7, 8] ['LH', 'RH', 'LH', 'RH', 'LH', 'RH', 'LH', 'RH'] [98.50396893]\n",
      "[0, 0, 1, 3, 4, 5, 7, 8] ['LH', 'RH', 'LH', 'RH', 'LH', 'RH', 'LH', 'RH'] [98.50396893]\n"
     ]
    }
   ],
   "source": [
    "# Add moves between each hold\n",
    "totalRun = status[0].totalNumOfHold - 1\n",
    "for i in range(totalRun):\n",
    "    print (i)\n",
    "    # Expand the current beta (LH&RH) by finding moves to next hold\n",
    "    status = addNewBeta(status)\n",
    "\n",
    "    # Compute success scores of each move\n",
    "    finalScore = []\n",
    "    for i in status:\n",
    "        finalScore.append(i.overallSuccessRate())\n",
    "    \n",
    "    # Find 5 best moves check if we're finished\n",
    "    largestIndex = heapq.nlargest(4, range(len(finalScore)), key=finalScore.__getitem__)\n",
    "    if (status[largestIndex[0]].isFinished and status[largestIndex[1]].isFinished) == True:\n",
    "        break"
   ]
  },
  {
   "cell_type": "code",
   "execution_count": 11,
   "metadata": {},
   "outputs": [
    {
     "name": "stdout",
     "output_type": "stream",
     "text": [
      "[<preprocessing_helper.beta object at 0x0000017872170AD0>, <preprocessing_helper.beta object at 0x00000178055D4FD0>, <preprocessing_helper.beta object at 0x0000017805542250>, <preprocessing_helper.beta object at 0x0000017862F85CD0>, <preprocessing_helper.beta object at 0x0000017805657310>, <preprocessing_helper.beta object at 0x0000017805561710>, <preprocessing_helper.beta object at 0x0000017805562AD0>, <preprocessing_helper.beta object at 0x0000017805563310>]\n"
     ]
    }
   ],
   "source": [
    "# last sorting for the best 5\n",
    "finalScore = [] \n",
    "print(status)\n",
    "for i in status:   \n",
    "    finalScore.append(i.overallSuccessRate())   \n",
    "largestIndex = heapq.nlargest(4, range(len(finalScore)), key=finalScore.__getitem__)"
   ]
  },
  {
   "cell_type": "code",
   "execution_count": 12,
   "metadata": {},
   "outputs": [
    {
     "name": "stdout",
     "output_type": "stream",
     "text": [
      "https://moonboard.com/Problems/View/342797/chats\n",
      "After Beamer search, the most possible hand sequence and the successRate:\n",
      "[0, 0, 1, 3, 4, 5, 7, 8] ['LH', 'RH', 'LH', 'RH', 'LH', 'RH', 'LH', 'RH'] [98.50396893]\n",
      "[0, 0, 1, 3, 4, 5, 7, 8] ['LH', 'RH', 'LH', 'RH', 'LH', 'RH', 'LH', 'RH'] [98.50396893]\n",
      "[0, 0, 1, 3, 4, 5, 7, 8] ['LH', 'RH', 'LH', 'RH', 'LH', 'RH', 'LH', 'RH'] [98.50396893]\n",
      "[0, 0, 1, 3, 4, 5, 7, 8] ['LH', 'RH', 'LH', 'RH', 'LH', 'RH', 'LH', 'RH'] [98.50396893]\n"
     ]
    }
   ],
   "source": [
    "print(moonboardTestUrl[\"url\"])\n",
    "print (\"After Beamer search, the most possible hand sequence and the successRate:\")\n",
    "for i in largestIndex:\n",
    "    print(status[i].handSequence, status[i].handOperator, status[i].overallSuccessRate())    "
   ]
  },
  {
   "cell_type": "markdown",
   "metadata": {},
   "source": [
    "### 2-3. Here you can find one problem's best hand sequence. Feel free to change key to see other result\n",
    "\n",
    "To find other keys, try `MoonBoard_2016_raw[\"X_dict_benchmark_withgrade\"].keys()`"
   ]
  },
  {
   "cell_type": "code",
   "execution_count": 13,
   "metadata": {},
   "outputs": [
    {
     "name": "stdout",
     "output_type": "stream",
     "text": [
      "After Beamer search, the most possible hand sequence and the successRate:\n",
      "['J5', 'G6', 'A9', 'F11', 'C13', 'A14', 'D18']\n",
      "[0, 1, 2, 4, 5, 6, 7] ['LH', 'RH', 'LH', 'RH', 'LH', 'LH', 'RH'] [6.55920813]\n"
     ]
    },
    {
     "data": {
      "text/plain": [
       "{0: <preprocessing_helper.beta at 0x17808229f50>}"
      ]
     },
     "execution_count": 13,
     "metadata": {},
     "output_type": "execute_result"
    }
   ],
   "source": [
    "# The above as a function\n",
    "produce_sequence(\"20149\", MoonBoard_2016_raw[\"X_dict_benchmark_withgrade\"], n_return = 1, printout = True)"
   ]
  },
  {
   "cell_type": "markdown",
   "metadata": {},
   "source": [
    "#### I check the hand sequence of 20 problem. 90% are exactly same with human's prediction. Other 10% are acceptable sequence. Next we will start generate move sequence"
   ]
  },
  {
   "cell_type": "markdown",
   "metadata": {},
   "source": [
    "## 3. Process the entire dataset and save the results\n",
    "For the output of this part, each move is represented as 22x1 vector"
   ]
  },
  {
   "cell_type": "code",
   "execution_count": 17,
   "metadata": {
    "scrolled": true
   },
   "outputs": [
    {
     "name": "stdout",
     "output_type": "stream",
     "text": [
      "Processing 359 problems\n",
      "Raw data with key 23360 contains error\n",
      "result saved.\n",
      "[('23360', TypeError('only size-1 arrays can be converted to Python scalars'))]\n"
     ]
    }
   ],
   "source": [
    "save_path = constants.PREPROCESSING_DIR / 'benchmark_withgrade_move_seq_X'\n",
    "processed_data = MoonBoard_2016_raw[\"X_dict_benchmark_withgrade\"]\n",
    "print(f\"Processing {len(processed_data)} problems\")\n",
    "output, fail_list = moveGeneratorForAllProblem(processed_data, save_path, print_result = False)\n",
    "print(fail_list)"
   ]
  },
  {
   "cell_type": "code",
   "execution_count": 18,
   "metadata": {
    "scrolled": true
   },
   "outputs": [
    {
     "name": "stdout",
     "output_type": "stream",
     "text": [
      "Processing 359 problems\n",
      "result saved.\n",
      "[]\n"
     ]
    }
   ],
   "source": [
    "save_path = constants.PREPROCESSING_DIR / 'benchmark_withgrade_move_seq_Y'\n",
    "processed_data_Y = MoonBoard_2016_raw[\"Y_dict_benchmark_withgrade\"]\n",
    "print(f\"Processing {len(processed_data_Y)} problems\")\n",
    "output, fail_list = gradeTransFromFontToV(processed_data_Y, save_path)\n",
    "print(fail_list)"
   ]
  },
  {
   "cell_type": "code",
   "execution_count": 19,
   "metadata": {
    "scrolled": true
   },
   "outputs": [
    {
     "name": "stdout",
     "output_type": "stream",
     "text": [
      "Processing 9 problems\n",
      "result saved.\n",
      "[]\n"
     ]
    }
   ],
   "source": [
    "save_path = constants.PREPROCESSING_DIR / 'benchmark_nograde_move_seq_X'\n",
    "processed_data = MoonBoard_2016_raw[\"X_dict_benchmark_nograde\"]\n",
    "print(f\"Processing {len(processed_data)} problems\")\n",
    "output, fail_list = moveGeneratorForAllProblem(processed_data, save_path, print_result = False)\n",
    "print(fail_list)"
   ]
  },
  {
   "cell_type": "code",
   "execution_count": 20,
   "metadata": {},
   "outputs": [
    {
     "name": "stdout",
     "output_type": "stream",
     "text": [
      "Processing 9 problems\n",
      "result saved.\n",
      "[]\n"
     ]
    }
   ],
   "source": [
    "save_path = constants.PREPROCESSING_DIR / 'benchmark_nograde_move_seq_Y'\n",
    "processed_data_Y = MoonBoard_2016_raw[\"Y_dict_benchmark_nograde\"]\n",
    "print(f\"Processing {len(processed_data_Y)} problems\")\n",
    "output, fail_list = gradeTransFromFontToV(processed_data_Y, save_path)\n",
    "print(fail_list)"
   ]
  },
  {
   "cell_type": "code",
   "execution_count": 32,
   "metadata": {},
   "outputs": [],
   "source": [
    "from importlib import reload\n",
    "import preprocessing_helper\n",
    "reload(preprocessing_helper)\n",
    "from preprocessing_helper import moveGeneratorForAllProblem"
   ]
  },
  {
   "cell_type": "code",
   "execution_count": 33,
   "metadata": {},
   "outputs": [
    {
     "name": "stdout",
     "output_type": "stream",
     "text": [
      "Processing 8605 problems\n",
      "Complete 342797\n",
      "Complete 342777\n",
      "Complete 342750\n",
      "Complete 342668\n",
      "Complete 342655\n",
      "Complete 342634\n",
      "Complete 342633\n",
      "Complete 342596\n",
      "Complete 342556\n",
      "Complete 342547\n",
      "Complete 342543\n",
      "Complete 342541\n",
      "Complete 342526\n"
     ]
    },
    {
     "name": "stderr",
     "output_type": "stream",
     "text": [
      "c:\\Users\\valsp\\source\\repos\\MoonBoardRNN\\preprocessing\\preprocessing_helper.py:491: RuntimeWarning: invalid value encountered in power\n",
      "  print(f\"overallScore: {overallScore}, numOfHand: {numOfHand}, ret: {ret}\")\n"
     ]
    },
    {
     "name": "stdout",
     "output_type": "stream",
     "text": [
      "Complete 342512\n",
      "Complete 342472\n",
      "Complete 342469\n",
      "Complete 342458\n",
      "Complete 342455\n",
      "Complete 342450\n",
      "Complete 342396\n",
      "Complete 342386\n",
      "Complete 342357\n",
      "Complete 342347\n",
      "Complete 342343\n",
      "Complete 342335\n",
      "Complete 342300\n",
      "Complete 342290\n",
      "Complete 342288\n",
      "Complete 342273\n",
      "Complete 342270\n",
      "Complete 342265\n",
      "Complete 342256\n",
      "Complete 342229\n",
      "Complete 342221\n",
      "Complete 342208\n",
      "Complete 342206\n",
      "Complete 342197\n",
      "Complete 342179\n",
      "Complete 342178\n",
      "Complete 342157\n",
      "Complete 342128\n",
      "Complete 342117\n",
      "Complete 342109\n",
      "Complete 342105\n",
      "Complete 342094\n",
      "Complete 342092\n",
      "Complete 342090\n",
      "Complete 342089\n",
      "Complete 342086\n",
      "Complete 342071\n",
      "Complete 342069\n",
      "Complete 342065\n",
      "Complete 342057\n",
      "Complete 342032\n",
      "Complete 342025\n",
      "Complete 341985\n",
      "Complete 341968\n",
      "Complete 341966\n",
      "Complete 341965\n",
      "Complete 341960\n",
      "Complete 341953\n",
      "Complete 341952\n",
      "Complete 341948\n",
      "Complete 341944\n",
      "Complete 341920\n",
      "Complete 341918\n",
      "Complete 341905\n",
      "Complete 341900\n",
      "Complete 341897\n",
      "Complete 341881\n",
      "Complete 341880\n",
      "Complete 341879\n"
     ]
    },
    {
     "ename": "KeyboardInterrupt",
     "evalue": "",
     "output_type": "error",
     "traceback": [
      "\u001b[1;31m---------------------------------------------------------------------------\u001b[0m",
      "\u001b[1;31mKeyboardInterrupt\u001b[0m                         Traceback (most recent call last)",
      "Cell \u001b[1;32mIn[33], line 4\u001b[0m\n\u001b[0;32m      2\u001b[0m processed_data \u001b[39m=\u001b[39m MoonBoard_2016_raw[\u001b[39m\"\u001b[39m\u001b[39mX_dict_withgrade\u001b[39m\u001b[39m\"\u001b[39m]\n\u001b[0;32m      3\u001b[0m \u001b[39mprint\u001b[39m(\u001b[39mf\u001b[39m\u001b[39m\"\u001b[39m\u001b[39mProcessing \u001b[39m\u001b[39m{\u001b[39;00m\u001b[39mlen\u001b[39m(processed_data)\u001b[39m}\u001b[39;00m\u001b[39m problems\u001b[39m\u001b[39m\"\u001b[39m)\n\u001b[1;32m----> 4\u001b[0m output, fail_list \u001b[39m=\u001b[39m moveGeneratorForAllProblem(processed_data, save_path, print_result \u001b[39m=\u001b[39;49m \u001b[39mTrue\u001b[39;49;00m)\n\u001b[0;32m      5\u001b[0m \u001b[39mprint\u001b[39m(fail_list)\n",
      "File \u001b[1;32mc:\\Users\\valsp\\source\\repos\\MoonBoardRNN\\preprocessing\\preprocessing_helper.py:763\u001b[0m, in \u001b[0;36mmoveGeneratorForAllProblem\u001b[1;34m(processed_data, save_path, print_result)\u001b[0m\n\u001b[0;32m    760\u001b[0m \u001b[39mfor\u001b[39;00m key \u001b[39min\u001b[39;00m processed_data\u001b[39m.\u001b[39mkeys():\n\u001b[0;32m    761\u001b[0m     \u001b[39m# create x_vector\u001b[39;00m\n\u001b[0;32m    762\u001b[0m     \u001b[39mtry\u001b[39;00m:\n\u001b[1;32m--> 763\u001b[0m         beamerBeta \u001b[39m=\u001b[39m produce_sequence(key, processed_data, n_return \u001b[39m=\u001b[39;49m \u001b[39m1\u001b[39;49m)[\u001b[39m0\u001b[39m]\n\u001b[0;32m    764\u001b[0m         numOfMoves \u001b[39m=\u001b[39m \u001b[39mlen\u001b[39m(beamerBeta\u001b[39m.\u001b[39mhandSequence) \u001b[39m-\u001b[39m \u001b[39m2\u001b[39m\n\u001b[0;32m    765\u001b[0m         movesInfoList \u001b[39m=\u001b[39m moveGenerator(beamerBeta, string_mode \u001b[39m=\u001b[39m \u001b[39mFalse\u001b[39;00m)\n",
      "File \u001b[1;32mc:\\Users\\valsp\\source\\repos\\MoonBoardRNN\\preprocessing\\preprocessing_helper.py:863\u001b[0m, in \u001b[0;36mproduce_sequence\u001b[1;34m(keyNum, X_dict, n_return, printout)\u001b[0m\n\u001b[0;32m    861\u001b[0m totalRun \u001b[39m=\u001b[39m status[\u001b[39m0\u001b[39m]\u001b[39m.\u001b[39mtotalNumOfHold \u001b[39m-\u001b[39m \u001b[39m1\u001b[39m\n\u001b[0;32m    862\u001b[0m \u001b[39mfor\u001b[39;00m i \u001b[39min\u001b[39;00m \u001b[39mrange\u001b[39m(totalRun):  \u001b[39m# how many new moves you want to add\u001b[39;00m\n\u001b[1;32m--> 863\u001b[0m     status \u001b[39m=\u001b[39m addNewBeta(status, printOut \u001b[39m=\u001b[39;49m \u001b[39mFalse\u001b[39;49;00m)\n\u001b[0;32m    864\u001b[0m     finalScore \u001b[39m=\u001b[39m [] \n\u001b[0;32m    865\u001b[0m     \u001b[39mfor\u001b[39;00m i \u001b[39min\u001b[39;00m status:   \n",
      "File \u001b[1;32mc:\\Users\\valsp\\source\\repos\\MoonBoardRNN\\preprocessing\\preprocessing_helper.py:588\u001b[0m, in \u001b[0;36maddNewBeta\u001b[1;34m(status, printOut)\u001b[0m\n\u001b[0;32m    586\u001b[0m \u001b[39mfor\u001b[39;00m op \u001b[39min\u001b[39;00m operationList:\n\u001b[0;32m    587\u001b[0m     \u001b[39mif\u001b[39;00m betaPre\u001b[39m.\u001b[39misFinished \u001b[39m==\u001b[39m \u001b[39mFalse\u001b[39;00m:\n\u001b[1;32m--> 588\u001b[0m         tempstatus\u001b[39m.\u001b[39mappend(copy\u001b[39m.\u001b[39;49mdeepcopy(betaPre))\n\u001b[0;32m    589\u001b[0m         tempstatus[\u001b[39m-\u001b[39m\u001b[39m1\u001b[39m]\u001b[39m.\u001b[39maddNextHand(possibleHold, op)\n\u001b[0;32m    590\u001b[0m     \u001b[39melif\u001b[39;00m added \u001b[39m==\u001b[39m \u001b[39mFalse\u001b[39;00m:\n",
      "File \u001b[1;32m~\\.pyenv\\pyenv-win\\versions\\3.11.0\\Lib\\copy.py:172\u001b[0m, in \u001b[0;36mdeepcopy\u001b[1;34m(x, memo, _nil)\u001b[0m\n\u001b[0;32m    170\u001b[0m                 y \u001b[39m=\u001b[39m x\n\u001b[0;32m    171\u001b[0m             \u001b[39melse\u001b[39;00m:\n\u001b[1;32m--> 172\u001b[0m                 y \u001b[39m=\u001b[39m _reconstruct(x, memo, \u001b[39m*\u001b[39;49mrv)\n\u001b[0;32m    174\u001b[0m \u001b[39m# If is its own copy, don't memoize.\u001b[39;00m\n\u001b[0;32m    175\u001b[0m \u001b[39mif\u001b[39;00m y \u001b[39mis\u001b[39;00m \u001b[39mnot\u001b[39;00m x:\n",
      "File \u001b[1;32m~\\.pyenv\\pyenv-win\\versions\\3.11.0\\Lib\\copy.py:271\u001b[0m, in \u001b[0;36m_reconstruct\u001b[1;34m(x, memo, func, args, state, listiter, dictiter, deepcopy)\u001b[0m\n\u001b[0;32m    269\u001b[0m \u001b[39mif\u001b[39;00m state \u001b[39mis\u001b[39;00m \u001b[39mnot\u001b[39;00m \u001b[39mNone\u001b[39;00m:\n\u001b[0;32m    270\u001b[0m     \u001b[39mif\u001b[39;00m deep:\n\u001b[1;32m--> 271\u001b[0m         state \u001b[39m=\u001b[39m deepcopy(state, memo)\n\u001b[0;32m    272\u001b[0m     \u001b[39mif\u001b[39;00m \u001b[39mhasattr\u001b[39m(y, \u001b[39m'\u001b[39m\u001b[39m__setstate__\u001b[39m\u001b[39m'\u001b[39m):\n\u001b[0;32m    273\u001b[0m         y\u001b[39m.\u001b[39m__setstate__(state)\n",
      "File \u001b[1;32m~\\.pyenv\\pyenv-win\\versions\\3.11.0\\Lib\\copy.py:146\u001b[0m, in \u001b[0;36mdeepcopy\u001b[1;34m(x, memo, _nil)\u001b[0m\n\u001b[0;32m    144\u001b[0m copier \u001b[39m=\u001b[39m _deepcopy_dispatch\u001b[39m.\u001b[39mget(\u001b[39mcls\u001b[39m)\n\u001b[0;32m    145\u001b[0m \u001b[39mif\u001b[39;00m copier \u001b[39mis\u001b[39;00m \u001b[39mnot\u001b[39;00m \u001b[39mNone\u001b[39;00m:\n\u001b[1;32m--> 146\u001b[0m     y \u001b[39m=\u001b[39m copier(x, memo)\n\u001b[0;32m    147\u001b[0m \u001b[39melse\u001b[39;00m:\n\u001b[0;32m    148\u001b[0m     \u001b[39mif\u001b[39;00m \u001b[39missubclass\u001b[39m(\u001b[39mcls\u001b[39m, \u001b[39mtype\u001b[39m):\n",
      "File \u001b[1;32m~\\.pyenv\\pyenv-win\\versions\\3.11.0\\Lib\\copy.py:231\u001b[0m, in \u001b[0;36m_deepcopy_dict\u001b[1;34m(x, memo, deepcopy)\u001b[0m\n\u001b[0;32m    229\u001b[0m memo[\u001b[39mid\u001b[39m(x)] \u001b[39m=\u001b[39m y\n\u001b[0;32m    230\u001b[0m \u001b[39mfor\u001b[39;00m key, value \u001b[39min\u001b[39;00m x\u001b[39m.\u001b[39mitems():\n\u001b[1;32m--> 231\u001b[0m     y[deepcopy(key, memo)] \u001b[39m=\u001b[39m deepcopy(value, memo)\n\u001b[0;32m    232\u001b[0m \u001b[39mreturn\u001b[39;00m y\n",
      "File \u001b[1;32m~\\.pyenv\\pyenv-win\\versions\\3.11.0\\Lib\\copy.py:153\u001b[0m, in \u001b[0;36mdeepcopy\u001b[1;34m(x, memo, _nil)\u001b[0m\n\u001b[0;32m    151\u001b[0m copier \u001b[39m=\u001b[39m \u001b[39mgetattr\u001b[39m(x, \u001b[39m\"\u001b[39m\u001b[39m__deepcopy__\u001b[39m\u001b[39m\"\u001b[39m, \u001b[39mNone\u001b[39;00m)\n\u001b[0;32m    152\u001b[0m \u001b[39mif\u001b[39;00m copier \u001b[39mis\u001b[39;00m \u001b[39mnot\u001b[39;00m \u001b[39mNone\u001b[39;00m:\n\u001b[1;32m--> 153\u001b[0m     y \u001b[39m=\u001b[39m copier(memo)\n\u001b[0;32m    154\u001b[0m \u001b[39melse\u001b[39;00m:\n\u001b[0;32m    155\u001b[0m     reductor \u001b[39m=\u001b[39m dispatch_table\u001b[39m.\u001b[39mget(\u001b[39mcls\u001b[39m)\n",
      "\u001b[1;31mKeyboardInterrupt\u001b[0m: "
     ]
    }
   ],
   "source": [
    "save_path = constants.PREPROCESSING_DIR / 'nonbenchmark_withgrade_move_seq_X'\n",
    "processed_data = MoonBoard_2016_raw[\"X_dict_withgrade\"]\n",
    "print(f\"Processing {len(processed_data)} problems\")\n",
    "output, fail_list = moveGeneratorForAllProblem(processed_data, save_path, print_result = True)\n",
    "print(fail_list)"
   ]
  },
  {
   "cell_type": "code",
   "execution_count": null,
   "metadata": {},
   "outputs": [],
   "source": [
    "save_path = constants.PREPROCESSING_DIR / 'nonbenchmark_withgrade_move_seq_Y'\n",
    "processed_data_Y = MoonBoard_2016_raw[\"Y_dict_withgrade\"]\n",
    "print(f\"Processing {len(processed_data_Y)} problems\")\n",
    "output, fail_list = gradeTransFromFontToV(processed_data_Y, save_path)\n",
    "print(fail_list)"
   ]
  },
  {
   "cell_type": "code",
   "execution_count": null,
   "metadata": {},
   "outputs": [],
   "source": [
    "save_path = constants.PREPROCESSING_DIR / 'nonbenchmark_nograde_move_seq_X'\n",
    "processed_data = MoonBoard_2016_raw[\"X_dict_nograde\"]\n",
    "print(f\"Processing {len(processed_data)} problems\")\n",
    "output, fail_list = moveGeneratorForAllProblem(processed_data, save_path, print_result = False)\n",
    "print(fail_list)"
   ]
  },
  {
   "cell_type": "code",
   "execution_count": null,
   "metadata": {},
   "outputs": [],
   "source": [
    "save_path = constants.PREPROCESSING_DIR / 'nonbenchmark_nograde_move_seq_Y'\n",
    "processed_data_Y = MoonBoard_2016_raw[\"Y_dict_nograde\"]\n",
    "print(f\"Processing {len(processed_data_Y)} problems\")\n",
    "output, fail_list = gradeTransFromFontToV(processed_data_Y, save_path)\n",
    "print(fail_list)"
   ]
  },
  {
   "cell_type": "markdown",
   "metadata": {},
   "source": [
    "## 4. Use pure hand sequence generator\n",
    "The output of this part only contains the hand sequence, without other vectors"
   ]
  },
  {
   "cell_type": "markdown",
   "metadata": {},
   "source": [
    "#### Test with one problem"
   ]
  },
  {
   "cell_type": "code",
   "execution_count": null,
   "metadata": {},
   "outputs": [],
   "source": [
    "beamerBeta = produce_sequence(\"20149\", MoonBoard_2016_raw[\"X_dict_benchmark_withgrade\"], n_return = 1, printout = True)[0]\n",
    "numOfMoves = len(beamerBeta.handSequence) \n",
    "routeHandSequence = beamerBeta.handSequence  \n",
    "routeOpSequence = beamerBeta.handOperator \n",
    "handStringList = []\n",
    "\n",
    "for orderOfHand in range(numOfMoves): \n",
    "    targetCoordinate = beamerBeta.getXYFromOrder(routeHandSequence[orderOfHand])\n",
    "    newHandStr = coordinateToString(targetCoordinate) + \"-\" + routeOpSequence[orderOfHand]\n",
    "    handStringList.append(newHandStr)\n",
    "print(handStringList)    "
   ]
  },
  {
   "attachments": {},
   "cell_type": "markdown",
   "metadata": {},
   "source": [
    "#### Run through entire dataset for use with DeepRouteSet"
   ]
  },
  {
   "cell_type": "code",
   "execution_count": null,
   "metadata": {},
   "outputs": [],
   "source": [
    "save_path = constants.PREPROCESSING_DIR / 'nonbenchmarkNoGrade_handString_seq_X'\n",
    "processed_data = MoonBoard_2016_raw[\"X_dict_nograde\"]\n",
    "handStringSeqGeneratorForAllProblem(processed_data, save_path, print_result = True)"
   ]
  },
  {
   "cell_type": "code",
   "execution_count": null,
   "metadata": {
    "scrolled": true
   },
   "outputs": [],
   "source": [
    "save_path = constants.PREPROCESSING_DIR / 'benchmark_handString_seq_X'\n",
    "processed_data = MoonBoard_2016_raw[\"X_dict_benchmark_withgrade\"]\n",
    "handStringSeqGeneratorForAllProblem(processed_data, save_path, print_result = True)"
   ]
  },
  {
   "cell_type": "code",
   "execution_count": null,
   "metadata": {
    "scrolled": true
   },
   "outputs": [],
   "source": [
    "save_path = constants.PREPROCESSING_DIR / 'benchmarkNoGrade_handString_seq_X'\n",
    "processed_data = MoonBoard_2016_raw[\"X_dict_benchmark_nograde\"]\n",
    "handStringSeqGeneratorForAllProblem(processed_data, save_path, print_result = True)"
   ]
  },
  {
   "cell_type": "code",
   "execution_count": null,
   "metadata": {
    "scrolled": true
   },
   "outputs": [],
   "source": [
    "save_path = constants.PREPROCESSING_DIR / 'nonbenchmark_handString_seq_X'\n",
    "processed_data = MoonBoard_2016_raw[\"X_dict_withgrade\"]\n",
    "handStringSeqGeneratorForAllProblem(processed_data, save_path, print_result = True)"
   ]
  }
 ],
 "metadata": {
  "kernelspec": {
   "display_name": "moonboardrnn-hW4ed92X-py3.11",
   "language": "python",
   "name": "python3"
  },
  "language_info": {
   "codemirror_mode": {
    "name": "ipython",
    "version": 3
   },
   "file_extension": ".py",
   "mimetype": "text/x-python",
   "name": "python",
   "nbconvert_exporter": "python",
   "pygments_lexer": "ipython3",
   "version": "3.9.16"
  },
  "vscode": {
   "interpreter": {
    "hash": "88afa51fcb93d837514aaac77079ab23fce7abdf7a269ae99b2e53da316ed913"
   }
  }
 },
 "nbformat": 4,
 "nbformat_minor": 4
}

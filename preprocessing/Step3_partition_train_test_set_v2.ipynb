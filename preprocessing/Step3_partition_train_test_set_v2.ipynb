{
 "cells": [
  {
   "cell_type": "code",
   "execution_count": 1,
   "metadata": {},
   "outputs": [],
   "source": [
    "import numpy as np\n",
    "import pickle\n",
    "import matplotlib.pyplot as plt\n",
    "from preprocessing_helper import *\n",
    "\n",
    "import constants"
   ]
  },
  {
   "attachments": {},
   "cell_type": "markdown",
   "metadata": {},
   "source": [
    "## 1. Load in preprocessed data\n",
    "\n",
    "Preprocessing route data for GradeNet"
   ]
  },
  {
   "cell_type": "code",
   "execution_count": 2,
   "metadata": {},
   "outputs": [],
   "source": [
    "with open(constants.DATA_DIR / \"moonGen_scrape_2016_cp\", \"rb\") as f:\n",
    "    MoonBoard_2016_withurl = pickle.load(f)"
   ]
  },
  {
   "cell_type": "code",
   "execution_count": 3,
   "metadata": {},
   "outputs": [],
   "source": [
    "X_path_all = [\n",
    "    constants.PREPROCESSING_DIR / \"benchmark_withgrade_move_seq_X\",\n",
    "    constants.PREPROCESSING_DIR / \"benchmark_nograde_move_seq_X\",\n",
    "    constants.PREPROCESSING_DIR / \"nonbenchmark_withgrade_move_seq_X\",\n",
    "    constants.PREPROCESSING_DIR / \"nonbenchmark_nograde_move_seq_X\",\n",
    "]\n",
    "Y_path_all = [\n",
    "    constants.PREPROCESSING_DIR / \"benchmark_withgrade_move_seq_Y\",\n",
    "    constants.PREPROCESSING_DIR / \"benchmark_nograde_move_seq_Y\",\n",
    "    constants.PREPROCESSING_DIR / \"nonbenchmark_withgrade_move_seq_Y\",\n",
    "    constants.PREPROCESSING_DIR / \"nonbenchmark_nograde_move_seq_Y\",\n",
    "]"
   ]
  },
  {
   "cell_type": "code",
   "execution_count": 4,
   "metadata": {},
   "outputs": [
    {
     "ename": "KeyboardInterrupt",
     "evalue": "",
     "output_type": "error",
     "traceback": [
      "\u001b[0;31m---------------------------------------------------------------------------\u001b[0m",
      "\u001b[0;31mKeyboardInterrupt\u001b[0m                         Traceback (most recent call last)",
      "Cell \u001b[0;32mIn[4], line 6\u001b[0m\n\u001b[1;32m      4\u001b[0m \u001b[39mfor\u001b[39;00m path \u001b[39min\u001b[39;00m X_path_all:\n\u001b[1;32m      5\u001b[0m     \u001b[39mwith\u001b[39;00m \u001b[39mopen\u001b[39m(path, \u001b[39m\"\u001b[39m\u001b[39mrb\u001b[39m\u001b[39m\"\u001b[39m) \u001b[39mas\u001b[39;00m f:\n\u001b[0;32m----> 6\u001b[0m         read_dict \u001b[39m=\u001b[39m pickle\u001b[39m.\u001b[39;49mload(f)\n\u001b[1;32m      7\u001b[0m     X_seq_dict_merge \u001b[39m=\u001b[39m {\u001b[39m*\u001b[39m\u001b[39m*\u001b[39mX_seq_dict_merge, \u001b[39m*\u001b[39m\u001b[39m*\u001b[39mread_dict}\n\u001b[1;32m      8\u001b[0m \u001b[39mfor\u001b[39;00m path \u001b[39min\u001b[39;00m Y_path_all:\n",
      "\u001b[0;31mKeyboardInterrupt\u001b[0m: "
     ]
    }
   ],
   "source": [
    "# TODO: why bother separating dicts if we're just going to merge them again\n",
    "X_seq_dict_merge = {}\n",
    "Y_seq_dict_merge = {}\n",
    "for path in X_path_all:\n",
    "    with open(path, \"rb\") as f:\n",
    "        read_dict = pickle.load(f)\n",
    "    X_seq_dict_merge = {**X_seq_dict_merge, **read_dict}\n",
    "for path in Y_path_all:\n",
    "    with open(path, \"rb\") as f:\n",
    "        read_dict = pickle.load(f)\n",
    "    Y_seq_dict_merge = {**Y_seq_dict_merge, **read_dict}"
   ]
  },
  {
   "cell_type": "markdown",
   "metadata": {},
   "source": [
    "### 1-1. remove data from fail list and save"
   ]
  },
  {
   "cell_type": "code",
   "execution_count": 5,
   "metadata": {},
   "outputs": [],
   "source": [
    "fail_list = [\n",
    "    \"363336\",\n",
    "    \"363335\",\n",
    "    \"350368\",\n",
    "    \"349610\",\n",
    "    \"349049\",\n",
    "    \"348915\",\n",
    "    \"348858\",\n",
    "    \"348670\",\n",
    "    \"348669\",\n",
    "    \"348432\",\n",
    "    \"346738\",\n",
    "    \"344743\",\n",
    "    \"339916\",\n",
    "    \"339325\",\n",
    "    \"337916\",\n",
    "    \"335566\",\n",
    "    \"312004\",\n",
    "    \"310949\",\n",
    "    \"309657\",\n",
    "    \"309311\",\n",
    "    \"248997\",\n",
    "    \"246092\",\n",
    "    \"231401\",\n",
    "    \"231392\",\n",
    "    \"19362\",\n",
    "    \"360322\",\n",
    "    \"356219\",\n",
    "    \"322560\",\n",
    "    \"311585\",\n",
    "    \"309230\",\n",
    "    \"308089\",\n",
    "]"
   ]
  },
  {
   "cell_type": "code",
   "execution_count": 6,
   "metadata": {},
   "outputs": [],
   "source": [
    "for key in fail_list:\n",
    "    try:\n",
    "        del X_seq_dict_merge[key]\n",
    "    except:\n",
    "        pass\n",
    "    try:\n",
    "        del Y_seq_dict_merge[key]\n",
    "    except:\n",
    "        pass\n",
    "assert len(X_seq_dict_merge) == len(Y_seq_dict_merge)"
   ]
  },
  {
   "cell_type": "code",
   "execution_count": null,
   "metadata": {},
   "outputs": [],
   "source": [
    "# Skip the above just load these dicts"
   ]
  },
  {
   "cell_type": "code",
   "execution_count": 8,
   "metadata": {},
   "outputs": [],
   "source": [
    "save_pickle(X_seq_dict_merge, constants.PREPROCESSING_DIR / \"X_seq_dict_merge\")\n",
    "save_pickle(Y_seq_dict_merge, constants.PREPROCESSING_DIR / \"Y_seq_dict_merge\")"
   ]
  },
  {
   "cell_type": "code",
   "execution_count": 10,
   "metadata": {},
   "outputs": [
    {
     "name": "stdout",
     "output_type": "stream",
     "text": [
      "(22, 5)\n"
     ]
    },
    {
     "data": {
      "text/plain": [
       "array([[ 5.        ,  8.        ,  5.        ,  3.        ,  1.        ],\n",
       "       [ 6.        , 10.        , 13.        , 16.        , 17.        ],\n",
       "       [ 0.        ,  1.        ,  0.        ,  1.        ,  0.        ],\n",
       "       [ 5.        ,  6.        ,  8.        ,  4.        ,  9.        ],\n",
       "       [10.        ,  5.        ,  8.        ,  5.        ,  3.        ],\n",
       "       [ 4.        ,  6.        , 10.        , 13.        , 16.        ],\n",
       "       [ 9.        ,  5.        ,  6.        ,  8.        ,  4.        ],\n",
       "       [-5.        ,  3.        , -3.        , -2.        , -2.        ],\n",
       "       [ 2.        ,  4.        ,  3.        ,  3.        ,  1.        ],\n",
       "       [10.        , 10.        ,  5.        ,  8.        ,  5.        ],\n",
       "       [ 4.        ,  4.        ,  6.        , 10.        , 13.        ],\n",
       "       [ 9.        ,  9.        ,  5.        ,  6.        ,  8.        ],\n",
       "       [-5.        , -2.        ,  0.        , -5.        , -4.        ],\n",
       "       [ 2.        ,  6.        ,  7.        ,  6.        ,  4.        ],\n",
       "       [ 0.        ,  0.        ,  0.        ,  0.        ,  0.        ],\n",
       "       [ 0.        ,  0.        ,  0.        ,  0.        ,  0.        ],\n",
       "       [ 0.        ,  0.        ,  0.        ,  1.        ,  1.        ],\n",
       "       [ 1.        ,  0.        ,  1.        ,  0.        ,  0.        ],\n",
       "       [ 1.        ,  0.        ,  0.        ,  0.        ,  0.        ],\n",
       "       [ 1.        ,  0.        ,  1.        ,  0.        ,  1.        ],\n",
       "       [ 0.        ,  1.        ,  0.        ,  1.        ,  0.        ],\n",
       "       [12.15080939,  4.37647724, 24.02025112,  1.37882377, 25.32750724]])"
      ]
     },
     "execution_count": 10,
     "metadata": {},
     "output_type": "execute_result"
    }
   ],
   "source": [
    "ex = next(iter(X_seq_dict_merge.values()))\n",
    "print(ex.shape)\n",
    "ex"
   ]
  },
  {
   "cell_type": "markdown",
   "metadata": {},
   "source": [
    "## 2. Partition to train/dev/test set"
   ]
  },
  {
   "cell_type": "markdown",
   "metadata": {},
   "source": [
    "### 2-1. convert to matrix form"
   ]
  },
  {
   "cell_type": "code",
   "execution_count": 8,
   "metadata": {},
   "outputs": [],
   "source": [
    "n_sample = len(Y_seq_dict_merge)\n",
    "X_seq_data_merge = np.zeros((n_sample, 12, 22))\n",
    "Y_seq_grade_merge = np.zeros(n_sample)\n",
    "keys_seq_merge = []\n",
    "tmax_seq_merge = np.zeros(n_sample)\n",
    "\n",
    "i = 0\n",
    "for key, value in X_seq_dict_merge.items():\n",
    "    X_data = value.T\n",
    "    X_seq_data_merge[i, 0:X_data.shape[0], :] = X_data\n",
    "    Y_seq_grade_merge[i] = Y_seq_dict_merge[key]\n",
    "    keys_seq_merge.append(key)\n",
    "    tmax_seq_merge[i] = X_data.shape[0]\n",
    "    i = i + 1"
   ]
  },
  {
   "cell_type": "code",
   "execution_count": 25,
   "metadata": {},
   "outputs": [
    {
     "data": {
      "text/plain": [
       "array([[ 5.        ,  6.        ,  0.        ,  5.        , 10.        ,\n",
       "         4.        ,  9.        , -5.        ,  2.        , 10.        ,\n",
       "         4.        ,  9.        , -5.        ,  2.        ,  0.        ,\n",
       "         0.        ,  0.        ,  1.        ,  1.        ,  1.        ,\n",
       "         0.        , 12.15080939],\n",
       "       [ 8.        , 10.        ,  1.        ,  6.        ,  5.        ,\n",
       "         6.        ,  5.        ,  3.        ,  4.        , 10.        ,\n",
       "         4.        ,  9.        , -2.        ,  6.        ,  0.        ,\n",
       "         0.        ,  0.        ,  0.        ,  0.        ,  0.        ,\n",
       "         1.        ,  4.37647724],\n",
       "       [ 5.        , 13.        ,  0.        ,  8.        ,  8.        ,\n",
       "        10.        ,  6.        , -3.        ,  3.        ,  5.        ,\n",
       "         6.        ,  5.        ,  0.        ,  7.        ,  0.        ,\n",
       "         0.        ,  0.        ,  1.        ,  0.        ,  1.        ,\n",
       "         0.        , 24.02025112],\n",
       "       [ 3.        , 16.        ,  1.        ,  4.        ,  5.        ,\n",
       "        13.        ,  8.        , -2.        ,  3.        ,  8.        ,\n",
       "        10.        ,  6.        , -5.        ,  6.        ,  0.        ,\n",
       "         0.        ,  1.        ,  0.        ,  0.        ,  0.        ,\n",
       "         1.        ,  1.37882377],\n",
       "       [ 1.        , 17.        ,  0.        ,  9.        ,  3.        ,\n",
       "        16.        ,  4.        , -2.        ,  1.        ,  5.        ,\n",
       "        13.        ,  8.        , -4.        ,  4.        ,  0.        ,\n",
       "         0.        ,  1.        ,  0.        ,  0.        ,  1.        ,\n",
       "         0.        , 25.32750724],\n",
       "       [ 0.        ,  0.        ,  0.        ,  0.        ,  0.        ,\n",
       "         0.        ,  0.        ,  0.        ,  0.        ,  0.        ,\n",
       "         0.        ,  0.        ,  0.        ,  0.        ,  0.        ,\n",
       "         0.        ,  0.        ,  0.        ,  0.        ,  0.        ,\n",
       "         0.        ,  0.        ],\n",
       "       [ 0.        ,  0.        ,  0.        ,  0.        ,  0.        ,\n",
       "         0.        ,  0.        ,  0.        ,  0.        ,  0.        ,\n",
       "         0.        ,  0.        ,  0.        ,  0.        ,  0.        ,\n",
       "         0.        ,  0.        ,  0.        ,  0.        ,  0.        ,\n",
       "         0.        ,  0.        ],\n",
       "       [ 0.        ,  0.        ,  0.        ,  0.        ,  0.        ,\n",
       "         0.        ,  0.        ,  0.        ,  0.        ,  0.        ,\n",
       "         0.        ,  0.        ,  0.        ,  0.        ,  0.        ,\n",
       "         0.        ,  0.        ,  0.        ,  0.        ,  0.        ,\n",
       "         0.        ,  0.        ],\n",
       "       [ 0.        ,  0.        ,  0.        ,  0.        ,  0.        ,\n",
       "         0.        ,  0.        ,  0.        ,  0.        ,  0.        ,\n",
       "         0.        ,  0.        ,  0.        ,  0.        ,  0.        ,\n",
       "         0.        ,  0.        ,  0.        ,  0.        ,  0.        ,\n",
       "         0.        ,  0.        ],\n",
       "       [ 0.        ,  0.        ,  0.        ,  0.        ,  0.        ,\n",
       "         0.        ,  0.        ,  0.        ,  0.        ,  0.        ,\n",
       "         0.        ,  0.        ,  0.        ,  0.        ,  0.        ,\n",
       "         0.        ,  0.        ,  0.        ,  0.        ,  0.        ,\n",
       "         0.        ,  0.        ],\n",
       "       [ 0.        ,  0.        ,  0.        ,  0.        ,  0.        ,\n",
       "         0.        ,  0.        ,  0.        ,  0.        ,  0.        ,\n",
       "         0.        ,  0.        ,  0.        ,  0.        ,  0.        ,\n",
       "         0.        ,  0.        ,  0.        ,  0.        ,  0.        ,\n",
       "         0.        ,  0.        ],\n",
       "       [ 0.        ,  0.        ,  0.        ,  0.        ,  0.        ,\n",
       "         0.        ,  0.        ,  0.        ,  0.        ,  0.        ,\n",
       "         0.        ,  0.        ,  0.        ,  0.        ,  0.        ,\n",
       "         0.        ,  0.        ,  0.        ,  0.        ,  0.        ,\n",
       "         0.        ,  0.        ]])"
      ]
     },
     "execution_count": 25,
     "metadata": {},
     "output_type": "execute_result"
    }
   ],
   "source": [
    "X_seq_data_merge[0]"
   ]
  },
  {
   "cell_type": "code",
   "execution_count": 9,
   "metadata": {},
   "outputs": [
    {
     "data": {
      "image/png": "[encoded data removed]",
      "text/plain": [
       "<Figure size 960x720 with 1 Axes>"
      ]
     },
     "metadata": {},
     "output_type": "display_data"
    }
   ],
   "source": [
    "plt.figure(dpi = 150)\n",
    "result = plt.hist(Y_seq_grade_merge, bins = np.arange(11)-0.5)\n",
    "for x,y in zip(np.arange(10),result[0]):\n",
    "    label = str(int(y))\n",
    "    plt.annotate(label,\n",
    "                 (x,y), \n",
    "                 textcoords=\"offset points\",\n",
    "                 xytext=(0,3),\n",
    "                 ha='center')\n",
    "plt.xticks(np.arange(10), ['V4','V5','V6','V7','V8','V9','V10','V11','V12','V13'])\n",
    "plt.xlabel('Grade')\n",
    "plt.ylabel('number count')\n",
    "plt.show()"
   ]
  },
  {
   "cell_type": "markdown",
   "metadata": {},
   "source": [
    "### 2-2. Partition"
   ]
  },
  {
   "cell_type": "code",
   "execution_count": 10,
   "metadata": {},
   "outputs": [
    {
     "name": "stdout",
     "output_type": "stream",
     "text": [
      "24603\n"
     ]
    }
   ],
   "source": [
    "n_dev = 3000\n",
    "n_test = 3000\n",
    "n_train = n_sample - n_dev - n_test\n",
    "print(n_train)"
   ]
  },
  {
   "cell_type": "code",
   "execution_count": 11,
   "metadata": {},
   "outputs": [],
   "source": [
    "np.random.seed(0)\n",
    "shuffle = np.random.choice(np.arange(n_sample), n_sample, replace = False)"
   ]
  },
  {
   "cell_type": "code",
   "execution_count": 12,
   "metadata": {},
   "outputs": [],
   "source": [
    "X_seq_shuffle = X_seq_data_merge[shuffle, :, :]\n",
    "Y_seq_shuffle = Y_seq_grade_merge[shuffle]\n",
    "keys_seq_shuffle = np.array(keys_seq_merge)[shuffle]\n",
    "tmax_seq_shuffle = tmax_seq_merge[shuffle]"
   ]
  },
  {
   "cell_type": "code",
   "execution_count": 13,
   "metadata": {},
   "outputs": [],
   "source": [
    "training_set_seq = {'X': X_seq_shuffle[0:n_train], \n",
    "                'Y': Y_seq_shuffle[0:n_train], \n",
    "                'keys': keys_seq_shuffle[0:n_train], \n",
    "                'tmax': tmax_seq_shuffle[0:n_train]}\n",
    "dev_set_seq = {'X': X_seq_shuffle[n_train:n_train+n_dev], \n",
    "                'Y': Y_seq_shuffle[n_train:n_train+n_dev], \n",
    "                'keys': keys_seq_shuffle[n_train:n_train+n_dev], \n",
    "                'tmax': tmax_seq_shuffle[n_train:n_train+n_dev]}\n",
    "test_set_seq = {'X': X_seq_shuffle[n_train+n_dev:], \n",
    "                'Y': Y_seq_shuffle[n_train+n_dev:],  \n",
    "                'keys': keys_seq_shuffle[n_train+n_dev:], \n",
    "                'tmax': tmax_seq_shuffle[n_train+n_dev:]}"
   ]
  },
  {
   "cell_type": "code",
   "execution_count": 43,
   "metadata": {},
   "outputs": [],
   "source": [
    "# training_set_path = constants.PREPROCESSING_DIR / 'training_set_seq_12'\n",
    "# dev_set_path = constants.PREPROCESSING_DIR / 'dev_set_seq_12'\n",
    "# test_set_path = constants.PREPROCESSING_DIR / 'test_set_seq_12'\n",
    "# save_pickle(training_set_seq, training_set_path)\n",
    "# save_pickle(dev_set_seq, dev_set_path)\n",
    "# save_pickle(test_set_seq, test_set_path)"
   ]
  },
  {
   "cell_type": "markdown",
   "metadata": {},
   "source": [
    "### 2-3. remove problem in dev & test sets that has 0 repeat"
   ]
  },
  {
   "cell_type": "code",
   "execution_count": 14,
   "metadata": {},
   "outputs": [],
   "source": [
    "del_list = []\n",
    "for key in training_set_seq['keys']:\n",
    "    if MoonBoard_2016_withurl[key]['repeats'] == 0:\n",
    "        del_list.append(key)\n",
    "\n",
    "del_list_devtest = []\n",
    "for key in dev_set_seq['keys']:\n",
    "    if MoonBoard_2016_withurl[key]['repeats'] == 0:\n",
    "        del_list_devtest.append(key)\n",
    "for key in test_set_seq['keys']:\n",
    "    if MoonBoard_2016_withurl[key]['repeats'] == 0:\n",
    "        del_list_devtest.append(key)"
   ]
  },
  {
   "cell_type": "code",
   "execution_count": 15,
   "metadata": {},
   "outputs": [],
   "source": [
    "row_rm = []\n",
    "for i, key in enumerate(training_set_seq['keys']):\n",
    "    if key in del_list:\n",
    "        row_rm.append(i)\n",
    "\n",
    "training_set_seq['X'] = np.delete(training_set_seq['X'], row_rm, 0)\n",
    "training_set_seq['Y'] = np.delete(training_set_seq['Y'], row_rm)\n",
    "training_set_seq['keys'] = np.delete(training_set_seq['keys'], row_rm)\n",
    "training_set_seq['tmax'] = np.delete(training_set_seq['tmax'], row_rm)"
   ]
  },
  {
   "cell_type": "code",
   "execution_count": 16,
   "metadata": {},
   "outputs": [],
   "source": [
    "row_rm_dev = []\n",
    "for i, key in enumerate(dev_set_seq['keys']):\n",
    "    if key in del_list_devtest:\n",
    "        row_rm_dev.append(i)\n",
    "\n",
    "dev_set_seq['X'] = np.delete(dev_set_seq['X'], row_rm_dev, 0)\n",
    "dev_set_seq['Y'] = np.delete(dev_set_seq['Y'], row_rm_dev)\n",
    "dev_set_seq['keys'] = np.delete(dev_set_seq['keys'], row_rm_dev)\n",
    "dev_set_seq['tmax'] = np.delete(dev_set_seq['tmax'], row_rm_dev)\n",
    "\n",
    "row_rm_test = []\n",
    "for i, key in enumerate(test_set_seq['keys']):\n",
    "    if key in del_list_devtest:\n",
    "        row_rm_test.append(i)\n",
    "\n",
    "test_set_seq['X'] = np.delete(test_set_seq['X'], row_rm_test, 0)\n",
    "test_set_seq['Y'] = np.delete(test_set_seq['Y'], row_rm_test)\n",
    "test_set_seq['keys'] = np.delete(test_set_seq['keys'], row_rm_test)\n",
    "test_set_seq['tmax'] = np.delete(test_set_seq['tmax'], row_rm_test)"
   ]
  },
  {
   "cell_type": "markdown",
   "metadata": {},
   "source": [
    "#### Visualize the new distribution of data after removing 0 repeat problems"
   ]
  },
  {
   "cell_type": "code",
   "execution_count": 17,
   "metadata": {},
   "outputs": [
    {
     "data": {
      "image/png": "[encoded data removed]",
      "text/plain": [
       "<Figure size 960x720 with 1 Axes>"
      ]
     },
     "metadata": {},
     "output_type": "display_data"
    }
   ],
   "source": [
    "plt.figure(dpi = 150)\n",
    "result = plt.hist(np.hstack([training_set_seq['Y'], dev_set_seq['Y'], test_set_seq['Y']]), bins = np.arange(11)-0.5)\n",
    "for x,y in zip(np.arange(10),result[0]):\n",
    "    label = str(int(y))\n",
    "    plt.annotate(label,\n",
    "                 (x,y),\n",
    "                 textcoords=\"offset points\",\n",
    "                 xytext=(0,3),\n",
    "                 ha='center')\n",
    "plt.xticks(np.arange(10), ['V4','V5','V6','V7','V8','V9','V10','V11','V12','V13'])\n",
    "plt.xlabel('Grade')\n",
    "plt.ylabel('number count')\n",
    "plt.show()"
   ]
  },
  {
   "cell_type": "code",
   "execution_count": 83,
   "metadata": {},
   "outputs": [],
   "source": [
    "# training_set_path = constants.PREPROCESSING_DIR / 'training_set_seq_12_rmrp0'\n",
    "# dev_set_path = constants.PREPROCESSING_DIR / 'dev_set_seq_12_rmrp0'\n",
    "# test_set_path = constants.PREPROCESSING_DIR / 'test_set_seq_12_rmrp0'\n",
    "# save_pickle(training_set_seq, training_set_path)\n",
    "# save_pickle(dev_set_seq, dev_set_path)\n",
    "# save_pickle(test_set_seq, test_set_path)"
   ]
  },
  {
   "cell_type": "markdown",
   "metadata": {},
   "source": [
    "### 2-4. normalization"
   ]
  },
  {
   "cell_type": "code",
   "execution_count": 26,
   "metadata": {},
   "outputs": [
    {
     "name": "stdout",
     "output_type": "stream",
     "text": [
      "(2497, 12, 22)\n"
     ]
    }
   ],
   "source": [
    "print(test_set_seq['X'].shape)"
   ]
  },
  {
   "cell_type": "code",
   "execution_count": 21,
   "metadata": {},
   "outputs": [],
   "source": [
    "training_seq_normalized = normalization(training_set_seq)\n",
    "dev_seq_normalized = normalization(dev_set_seq)\n",
    "test_seq_normalized = normalization(test_set_seq)\n",
    "\n"
   ]
  },
  {
   "cell_type": "code",
   "execution_count": 24,
   "metadata": {},
   "outputs": [
    {
     "data": {
      "text/plain": [
       "(2497, 12, 22)"
      ]
     },
     "execution_count": 24,
     "metadata": {},
     "output_type": "execute_result"
    }
   ],
   "source": [
    "test_seq_normalized['X'].shape"
   ]
  },
  {
   "cell_type": "markdown",
   "metadata": {},
   "source": [
    "### 2-5. save"
   ]
  },
  {
   "cell_type": "code",
   "execution_count": 82,
   "metadata": {},
   "outputs": [],
   "source": [
    "training_normalized_set_path = constants.PREPROCESSING_DIR / 'training_seq_n_12_rmrp0'\n",
    "dev_normalized_set_path = constants.PREPROCESSING_DIR / 'dev_seq_n_12_rmrp0'\n",
    "test_normalized_set_path = constants.PREPROCESSING_DIR / 'test_seq_n_12_rmrp0'\n",
    "save_pickle(training_seq_normalized, training_normalized_set_path)\n",
    "save_pickle(dev_seq_normalized, dev_normalized_set_path)\n",
    "save_pickle(test_seq_normalized, test_normalized_set_path)"
   ]
  }
 ],
 "metadata": {
  "kernelspec": {
   "display_name": "moonboardrnn-hW4ed92X-py3.8",
   "language": "python",
   "name": "python3"
  },
  "language_info": {
   "codemirror_mode": {
    "name": "ipython",
    "version": 3
   },
   "file_extension": ".py",
   "mimetype": "text/x-python",
   "name": "python",
   "nbconvert_exporter": "python",
   "pygments_lexer": "ipython3",
   "version": "3.9.16"
  },
  "vscode": {
   "interpreter": {
    "hash": "8d257aaba97b534713eafa91609455863fac8d9daac4f63bd3ddeb8aecd89a62"
   }
  }
 },
 "nbformat": 4,
 "nbformat_minor": 4
}

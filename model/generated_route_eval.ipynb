{
 "cells": [
  {
   "cell_type": "code",
   "execution_count": 3,
   "metadata": {},
   "outputs": [],
   "source": [
    "import numpy as np\n",
    "import pickle\n",
    "from pathlib import Path\n",
    "\n",
    "from tensorflow.keras.models import load_model\n",
    "\n",
    "from model_helper import *\n",
    "from DeepRouteSetHelper import *"
   ]
  },
  {
   "cell_type": "markdown",
   "metadata": {},
   "source": [
    "## 1. Load in dataset"
   ]
  },
  {
   "cell_type": "markdown",
   "metadata": {},
   "source": [
    "### 1-1. load original dataset"
   ]
  },
  {
   "cell_type": "code",
   "execution_count": 3,
   "metadata": {},
   "outputs": [],
   "source": [
    "cwd = Path().cwd()\n",
    "raw_path = cwd.parent / 'out' / 'DeepRouteSet_medium_out'"
   ]
  },
  {
   "cell_type": "code",
   "execution_count": 12,
   "metadata": {},
   "outputs": [
    {
     "data": {
      "text/plain": [
       "array([[ 8.        ,  2.        ,  4.        ,  0.        ],\n",
       "       [ 9.        , 12.        , 15.        , 17.        ],\n",
       "       [ 1.        ,  0.        ,  1.        ,  0.        ],\n",
       "       [ 6.        ,  8.        ,  4.        ,  5.        ],\n",
       "       [ 4.        ,  8.        ,  2.        ,  4.        ],\n",
       "       [ 5.        ,  9.        , 12.        , 15.        ],\n",
       "       [ 5.        ,  6.        ,  8.        ,  4.        ],\n",
       "       [ 4.        , -6.        ,  2.        , -4.        ],\n",
       "       [ 4.        ,  3.        ,  3.        ,  2.        ],\n",
       "       [ 4.        ,  4.        ,  8.        ,  2.        ],\n",
       "       [ 5.        ,  5.        ,  9.        , 12.        ],\n",
       "       [ 3.        ,  5.        ,  6.        ,  8.        ],\n",
       "       [ 4.        , -2.        , -4.        , -2.        ],\n",
       "       [ 4.        ,  7.        ,  6.        ,  5.        ],\n",
       "       [ 0.        ,  0.        ,  0.        ,  1.        ],\n",
       "       [ 0.        ,  0.        ,  0.        ,  0.        ],\n",
       "       [ 0.        ,  0.        ,  0.        ,  0.        ],\n",
       "       [ 1.        ,  1.        ,  0.        ,  0.        ],\n",
       "       [ 1.        ,  0.        ,  0.        ,  0.        ],\n",
       "       [ 1.        ,  0.        ,  0.        ,  1.        ],\n",
       "       [ 0.        ,  0.        ,  1.        ,  0.        ],\n",
       "       [ 3.21478952,  1.50000078, 11.87452884, 13.60970835]])"
      ]
     },
     "execution_count": 12,
     "metadata": {},
     "output_type": "execute_result"
    }
   ],
   "source": [
    "with open(raw_path, 'rb') as f:\n",
    "    raw_gen_set = pickle.load(f)\n",
    "\n",
    "raw_gen_set[next(iter(raw_gen_set))]"
   ]
  },
  {
   "cell_type": "code",
   "execution_count": 11,
   "metadata": {},
   "outputs": [
    {
     "data": {
      "text/plain": [
       "(22, 4)"
      ]
     },
     "execution_count": 11,
     "metadata": {},
     "output_type": "execute_result"
    }
   ],
   "source": [
    "raw_gen_set[next(iter(raw_gen_set))].shape"
   ]
  },
  {
   "cell_type": "markdown",
   "metadata": {},
   "source": [
    "### 1-2. Preprocessing and normalization"
   ]
  },
  {
   "cell_type": "code",
   "execution_count": 13,
   "metadata": {},
   "outputs": [],
   "source": [
    "generated_routes = prepare_generated_data_for_grading(raw_gen_set, cwd.parent / 'preprocessing' / 'test_set_medium_gen_v1')"
   ]
  },
  {
   "cell_type": "code",
   "execution_count": 15,
   "metadata": {},
   "outputs": [
    {
     "data": {
      "text/plain": [
       "array([[ 0.96023916, -0.20666924,  1.        ,  0.83047469, -0.33863505,\n",
       "        -1.18747248,  0.35784683,  1.2988742 ,  0.98080324, -0.33863505,\n",
       "        -1.18747248, -0.5874089 ,  1.2988742 ,  0.98080324,  0.        ,\n",
       "         0.        ,  0.        ,  1.        ,  1.        ,  1.        ,\n",
       "         0.        , -0.7745323 ],\n",
       "       [-0.98807215,  0.52893319,  0.        ,  1.77573042,  0.96023916,\n",
       "        -0.20666924,  0.83047469, -1.9483113 ,  0.73560243, -0.33863505,\n",
       "        -1.18747248,  0.35784683, -0.6494371 ,  1.71640567,  0.        ,\n",
       "         0.        ,  0.        ,  1.        ,  0.        ,  0.        ,\n",
       "         0.        , -0.92370471],\n",
       "       [-0.33863505,  1.26453562,  1.        , -0.11478103, -0.98807215,\n",
       "         0.52893319,  1.77573042,  0.6494371 ,  0.73560243,  0.96023916,\n",
       "        -0.20666924,  0.83047469, -1.2988742 ,  1.47120486,  0.        ,\n",
       "         0.        ,  0.        ,  0.        ,  0.        ,  0.        ,\n",
       "         1.        , -0.02120677],\n",
       "       [-1.63750925,  1.75493723,  0.        ,  0.35784683, -0.33863505,\n",
       "         1.26453562, -0.11478103, -1.2988742 ,  0.49040162, -0.98807215,\n",
       "         0.52893319,  1.77573042, -0.6494371 ,  1.22600405,  1.        ,\n",
       "         0.        ,  0.        ,  0.        ,  0.        ,  1.        ,\n",
       "         0.        ,  0.12973947],\n",
       "       [-0.        , -0.        ,  0.        , -0.        , -0.        ,\n",
       "        -0.        , -0.        ,  0.        ,  0.        , -0.        ,\n",
       "        -0.        , -0.        ,  0.        ,  0.        ,  0.        ,\n",
       "         0.        ,  0.        ,  0.        ,  0.        ,  0.        ,\n",
       "         0.        , -0.        ],\n",
       "       [-0.        , -0.        ,  0.        , -0.        , -0.        ,\n",
       "        -0.        , -0.        ,  0.        ,  0.        , -0.        ,\n",
       "        -0.        , -0.        ,  0.        ,  0.        ,  0.        ,\n",
       "         0.        ,  0.        ,  0.        ,  0.        ,  0.        ,\n",
       "         0.        , -0.        ],\n",
       "       [-0.        , -0.        ,  0.        , -0.        , -0.        ,\n",
       "        -0.        , -0.        ,  0.        ,  0.        , -0.        ,\n",
       "        -0.        , -0.        ,  0.        ,  0.        ,  0.        ,\n",
       "         0.        ,  0.        ,  0.        ,  0.        ,  0.        ,\n",
       "         0.        , -0.        ],\n",
       "       [-0.        , -0.        ,  0.        , -0.        , -0.        ,\n",
       "        -0.        , -0.        ,  0.        ,  0.        , -0.        ,\n",
       "        -0.        , -0.        ,  0.        ,  0.        ,  0.        ,\n",
       "         0.        ,  0.        ,  0.        ,  0.        ,  0.        ,\n",
       "         0.        , -0.        ],\n",
       "       [-0.        , -0.        ,  0.        , -0.        , -0.        ,\n",
       "        -0.        , -0.        ,  0.        ,  0.        , -0.        ,\n",
       "        -0.        , -0.        ,  0.        ,  0.        ,  0.        ,\n",
       "         0.        ,  0.        ,  0.        ,  0.        ,  0.        ,\n",
       "         0.        , -0.        ],\n",
       "       [-0.        , -0.        ,  0.        , -0.        , -0.        ,\n",
       "        -0.        , -0.        ,  0.        ,  0.        , -0.        ,\n",
       "        -0.        , -0.        ,  0.        ,  0.        ,  0.        ,\n",
       "         0.        ,  0.        ,  0.        ,  0.        ,  0.        ,\n",
       "         0.        , -0.        ],\n",
       "       [-0.        , -0.        ,  0.        , -0.        , -0.        ,\n",
       "        -0.        , -0.        ,  0.        ,  0.        , -0.        ,\n",
       "        -0.        , -0.        ,  0.        ,  0.        ,  0.        ,\n",
       "         0.        ,  0.        ,  0.        ,  0.        ,  0.        ,\n",
       "         0.        , -0.        ],\n",
       "       [-0.        , -0.        ,  0.        , -0.        , -0.        ,\n",
       "        -0.        , -0.        ,  0.        ,  0.        , -0.        ,\n",
       "        -0.        , -0.        ,  0.        ,  0.        ,  0.        ,\n",
       "         0.        ,  0.        ,  0.        ,  0.        ,  0.        ,\n",
       "         0.        , -0.        ]])"
      ]
     },
     "execution_count": 15,
     "metadata": {},
     "output_type": "execute_result"
    }
   ],
   "source": [
    "X = generated_routes['X']\n",
    "X[0]"
   ]
  },
  {
   "cell_type": "code",
   "execution_count": 17,
   "metadata": {},
   "outputs": [
    {
     "data": {
      "text/plain": [
       "(65, 12, 22)"
      ]
     },
     "execution_count": 17,
     "metadata": {},
     "output_type": "execute_result"
    }
   ],
   "source": [
    "X.shape"
   ]
  },
  {
   "cell_type": "markdown",
   "metadata": {},
   "source": [
    "## 2. Define GradeNet Model"
   ]
  },
  {
   "cell_type": "code",
   "execution_count": 8,
   "metadata": {},
   "outputs": [],
   "source": [
    "GradeNet = load_model(cwd / 'GradeNet')"
   ]
  },
  {
   "cell_type": "markdown",
   "metadata": {},
   "source": [
    "## 3. Make prediction on generated routes"
   ]
  },
  {
   "cell_type": "code",
   "execution_count": 8,
   "metadata": {},
   "outputs": [],
   "source": [
    "X_pred = GradeNet.predict(X).argmax(axis = 1)"
   ]
  },
  {
   "cell_type": "code",
   "execution_count": 9,
   "metadata": {},
   "outputs": [
    {
     "data": {
      "text/plain": [
       "array([2, 1, 1, 2, 2, 3, 2, 2, 3, 1, 2, 2, 3, 4, 0, 1, 5, 0, 0, 1, 2, 2,\n",
       "       2, 3, 2, 2, 2, 1, 1, 1, 2, 2, 2, 2, 2, 1, 0, 2, 0, 5, 3, 0, 1, 0,\n",
       "       2, 4, 0, 2, 1, 1, 1, 4, 3, 1, 2, 1, 1, 3, 2, 4, 2, 2, 4, 2, 1])"
      ]
     },
     "execution_count": 9,
     "metadata": {},
     "output_type": "execute_result"
    }
   ],
   "source": [
    "X_pred"
   ]
  },
  {
   "cell_type": "markdown",
   "metadata": {},
   "source": [
    "## 4. Plot out output and predicted grade"
   ]
  },
  {
   "cell_type": "code",
   "execution_count": 10,
   "metadata": {},
   "outputs": [],
   "source": [
    "seq_raw_path = cwd.parent / 'out' / 'DeepRouteSet_medium_out_seq'\n",
    "with open(seq_raw_path, 'rb') as f:\n",
    "    gen_seq_raw = pickle.load(f)"
   ]
  },
  {
   "cell_type": "code",
   "execution_count": null,
   "metadata": {
    "scrolled": true
   },
   "outputs": [],
   "source": [
    "for i, route in enumerate(gen_seq_raw):\n",
    "    print('Key = ' + generated_routes['keys'][i])\n",
    "    print('V grade = ' + convert_num_to_V_grade(X_pred[i]))\n",
    "    plotAProblem(route, \n",
    "                 title = 'Key = ' + generated_routes['keys'][i] + '/ V grade = ' + convert_num_to_V_grade(X_pred[i]), key = generated_routes['keys'][i], \n",
    "                 save = True)"
   ]
  }
 ],
 "metadata": {
  "kernelspec": {
   "display_name": "moonboardrnn-hW4ed92X-py3.8",
   "language": "python",
   "name": "python3"
  },
  "language_info": {
   "codemirror_mode": {
    "name": "ipython",
    "version": 3
   },
   "file_extension": ".py",
   "mimetype": "text/x-python",
   "name": "python",
   "nbconvert_exporter": "python",
   "pygments_lexer": "ipython3",
   "version": "3.8.10"
  },
  "vscode": {
   "interpreter": {
    "hash": "8d257aaba97b534713eafa91609455863fac8d9daac4f63bd3ddeb8aecd89a62"
   }
  }
 },
 "nbformat": 4,
 "nbformat_minor": 4
}

{
 "cells": [
  {
   "cell_type": "markdown",
   "metadata": {},
   "source": [
    "# DeepRouteSet\n",
    "DeepRouteSet uses LSTM to generate new moonboard problem. \n",
    "It is modified from the homework \"Improvise a Jazz Solo with an LSTM Network\" of Coursera course \"Sequence Model\".\n",
    "Yi-Shiou Duh(Allenduh@stanford.edu)"
   ]
  },
  {
   "cell_type": "code",
   "execution_count": 8,
   "metadata": {},
   "outputs": [],
   "source": [
    "from os import environ\n",
    "environ['TF_CPP_MIN_LOG_LEVEL'] = '1'\n",
    "environ[\"XLA_FLAGS\"] = \"--xla_gpu_cuda_data_dir=/home/valsp/miniconda3/envs/tf/lib\"\n"
   ]
  },
  {
   "cell_type": "code",
   "execution_count": 9,
   "metadata": {},
   "outputs": [],
   "source": [
    "import numpy as np\n",
    "import pandas as pd\n",
    "import matplotlib.pyplot as plt\n",
    "import pickle\n",
    "from collections import Counter\n",
    "from pathlib import Path\n",
    "import tensorflow as tf\n",
    "from tensorflow.keras.backend import argmax\n",
    "from tensorflow.keras.models import load_model, Model\n",
    "from tensorflow.keras.layers import Dense, Activation, Input, LSTM, Reshape, Lambda, RepeatVector\n",
    "from tensorflow.keras.utils import to_categorical\n",
    "from tensorflow.keras.optimizers import Adam\n",
    "from datetime import datetime\n",
    "from tensorflow.keras.callbacks import TensorBoard, ModelCheckpoint\n",
    "\n",
    "from DeepRouteSet_helper import *\n"
   ]
  },
  {
   "cell_type": "code",
   "execution_count": 10,
   "metadata": {},
   "outputs": [],
   "source": [
    "cwd = Path().cwd()"
   ]
  },
  {
   "cell_type": "code",
   "execution_count": 11,
   "metadata": {},
   "outputs": [],
   "source": [
    "# TODO: all data preparation should be moved out of here to preprocessing"
   ]
  },
  {
   "cell_type": "code",
   "execution_count": 12,
   "metadata": {},
   "outputs": [
    {
     "name": "stdout",
     "output_type": "stream",
     "text": [
      "Num GPUs Available:  1\n"
     ]
    }
   ],
   "source": [
    "# list physical devices\n",
    "print(\"Num GPUs Available: \", len(tf.config.experimental.list_physical_devices('GPU')))"
   ]
  },
  {
   "cell_type": "markdown",
   "metadata": {},
   "source": [
    "## 1 - Data preparation\n",
    "\n",
    "We want more moonboard problems, and high-quality, hard moonboard problem is especially not enough. Thanksfully, with LSTM, we can generate unlimited problems. By carefully choosing the source of author and 3 stars high quality problems, we can generate new moonboard problem of better quality.\n",
    "\n",
    "\n",
    "### 1.1 - Dataset\n",
    "\n",
    "We will train our RNN using a sequence of moves. We already preprocessed moonboard problems from a set of holds (e.g., [8A, 11B, 13C, ...]) to the list of holds with designated hand operation (e.g., [8A-LH, 11B-RH...]). Each point will be assigned to a moonboard \"value\". After training, RNN will then be able to generate new move sequences."
   ]
  },
  {
   "cell_type": "markdown",
   "metadata": {},
   "source": [
    "### 1.2 - Define Path to read handString_seq\n",
    "\n",
    "5 files: Handsequence (benchmark YN/ grade YN) and raw data with URL: "
   ]
  },
  {
   "cell_type": "code",
   "execution_count": 13,
   "metadata": {},
   "outputs": [],
   "source": [
    "# TODO: this takes fkn forever and should definitely be migrated to a single load of the whole dataset\n",
    "with open(cwd.parent / \"preprocessing\" / \"benchmark_handString_seq_X\", \"rb\") as f:\n",
    "    benchmark_handString_seq = pickle.load(f)\n",
    "with open(\n",
    "    cwd.parent / \"preprocessing\" / \"benchmarkNoGrade_handString_seq_X\", \"rb\"\n",
    ") as f:\n",
    "    benchmarkNoGrade_handString_seq = pickle.load(f)\n",
    "with open(cwd.parent / \"preprocessing\" / \"nonbenchmark_handString_seq_X\", \"rb\") as f:\n",
    "    nonbenchmark_handString_seq = pickle.load(f)\n",
    "with open(\n",
    "    cwd.parent / \"preprocessing\" / \"nonbenchmarkNoGrade_handString_seq_X\", \"rb\"\n",
    ") as f:\n",
    "    nonbenchmarkNoGrade_handString_seq = pickle.load(f)\n",
    "with open(cwd.parent / \"raw_data\" / \"moonGen_scrape_2016_cp\", \"rb\") as f:\n",
    "    MoonBoard_2016_withurl = pickle.load(f)"
   ]
  },
  {
   "cell_type": "code",
   "execution_count": 14,
   "metadata": {},
   "outputs": [
    {
     "data": {
      "text/plain": [
       "['B4-LH', 'D6-RH', 'F9-LH', 'G11-RH', 'C15-LH', 'H18-RH']"
      ]
     },
     "execution_count": 14,
     "metadata": {},
     "output_type": "execute_result"
    }
   ],
   "source": [
    "# Example of input sequence\n",
    "benchmark_handString_seq[\"189344\"]"
   ]
  },
  {
   "cell_type": "code",
   "execution_count": 15,
   "metadata": {
    "scrolled": true
   },
   "outputs": [
    {
     "data": {
      "text/plain": [
       "{'problem_name': 'JUST TRAINING',\n",
       " 'info': ['Alex Biale',\n",
       "  '195 climbers have repeated this problem',\n",
       "  '7C+ (User grade 8A)',\n",
       "  'Feet follow hands',\n",
       "  ''],\n",
       " 'url': 'https://moonboard.com/Problems/View/189344/just-training',\n",
       " 'num_empty': 0,\n",
       " 'num_stars': 3,\n",
       " 'moves': [{'Id': 1879483,\n",
       "   'Description': 'B4',\n",
       "   'IsStart': True,\n",
       "   'IsEnd': False},\n",
       "  {'Id': 1879484, 'Description': 'C15', 'IsStart': False, 'IsEnd': False},\n",
       "  {'Id': 1879485, 'Description': 'D6', 'IsStart': True, 'IsEnd': False},\n",
       "  {'Id': 1879486, 'Description': 'F9', 'IsStart': False, 'IsEnd': False},\n",
       "  {'Id': 1879487, 'Description': 'G11', 'IsStart': False, 'IsEnd': False},\n",
       "  {'Id': 1879488, 'Description': 'H18', 'IsStart': False, 'IsEnd': True}],\n",
       " 'grade': '7C+',\n",
       " 'UserGrade': '8A',\n",
       " 'isBenchmark': True,\n",
       " 'repeats': 195,\n",
       " 'ProblemType': 'Crimp',\n",
       " 'IsMaster': False,\n",
       " 'setter': {'Id': '7A90397F-74F9-4858-846B-D3CA9E4F70FF',\n",
       "  'Nickname': 'Alex Biale',\n",
       "  'Firstname': 'Alex',\n",
       "  'Lastname': 'Biale',\n",
       "  'City': 'Boulder',\n",
       "  'Country': 'CO',\n",
       "  'ProfileImageUrl': '/Content/Account/Images/default-profile.png?637231526210174359',\n",
       "  'CanShareData': True}}"
      ]
     },
     "execution_count": 15,
     "metadata": {},
     "output_type": "execute_result"
    }
   ],
   "source": [
    "# raw data URL file looks like\n",
    "MoonBoard_2016_withurl[\"189344\"]"
   ]
  },
  {
   "attachments": {},
   "cell_type": "markdown",
   "metadata": {},
   "source": [
    "### 1.3 - Pick good moonboard problem \n",
    "\n",
    "Only pick the problem by choosing good setter and pick 3 starts problems. Store in the goodKeyList\n",
    "  "
   ]
  },
  {
   "cell_type": "markdown",
   "metadata": {},
   "source": [
    "* Collect Name of all setters"
   ]
  },
  {
   "cell_type": "code",
   "execution_count": 16,
   "metadata": {},
   "outputs": [],
   "source": [
    "# All setter with non error name\n",
    "setterList = []\n",
    "countNumOfErrorUsername = 0\n",
    "for key in MoonBoard_2016_withurl.keys():\n",
    "    try:\n",
    "        setterList.append(MoonBoard_2016_withurl[key][\"setter\"][\"Nickname\"])\n",
    "    except:\n",
    "        countNumOfErrorUsername += 1"
   ]
  },
  {
   "attachments": {},
   "cell_type": "markdown",
   "metadata": {},
   "source": [
    "* Count how many problems each setter has set and add to dict"
   ]
  },
  {
   "cell_type": "code",
   "execution_count": 17,
   "metadata": {
    "scrolled": true
   },
   "outputs": [],
   "source": [
    "# TODO: reverse true? this means we are iterating in increasing number of problems - would be faster to do it in decreasing order\n",
    "setterDict = {\n",
    "    k: v\n",
    "    for k, v in sorted(\n",
    "        Counter(setterList).items(), key=lambda item: item[1], reverse=True\n",
    "    )\n",
    "}"
   ]
  },
  {
   "cell_type": "markdown",
   "metadata": {},
   "source": [
    "* Add experienced setter and Benchmark setter"
   ]
  },
  {
   "cell_type": "code",
   "execution_count": 18,
   "metadata": {},
   "outputs": [
    {
     "name": "stdout",
     "output_type": "stream",
     "text": [
      "Total good setter:  425\n"
     ]
    }
   ],
   "source": [
    "# add setter with 50+ experience or Benchmark setter\n",
    "goodSetterName = []\n",
    "for key in setterDict.keys():\n",
    "    if setterDict[key] > 50:\n",
    "        goodSetterName.append(key)\n",
    "for key in MoonBoard_2016_withurl.keys():\n",
    "    try:\n",
    "        if MoonBoard_2016_withurl[key][\"isBenchmark\"] == True:\n",
    "            goodSetterName.append(MoonBoard_2016_withurl[key][\"setter\"][\"Nickname\"])\n",
    "    except:\n",
    "        pass\n",
    "print(\"Total good setter: \", len(goodSetterName))"
   ]
  },
  {
   "cell_type": "markdown",
   "metadata": {},
   "source": [
    "* Define a goodProblemKeyList"
   ]
  },
  {
   "cell_type": "code",
   "execution_count": 19,
   "metadata": {},
   "outputs": [
    {
     "name": "stdout",
     "output_type": "stream",
     "text": [
      "Total amount of good problems:  19842\n"
     ]
    }
   ],
   "source": [
    "# Pick Extended BenchMark, high repeat number, author make many problem, high rate\n",
    "count = 0\n",
    "goodProblemKeyList = []\n",
    "for key in MoonBoard_2016_withurl.keys():\n",
    "    try:\n",
    "        if MoonBoard_2016_withurl[key][\"isBenchmark\"] == True:\n",
    "            goodSetterName.append(MoonBoard_2016_withurl[key][\"setter\"][\"Nickname\"])\n",
    "    except:\n",
    "        pass\n",
    "\n",
    "\n",
    "for key in MoonBoard_2016_withurl.keys():\n",
    "    try:\n",
    "        # TODO: this adds multiple of good problems, fix and add weighting\n",
    "        if MoonBoard_2016_withurl[key][\"setter\"][\"Nickname\"] in goodSetterName:\n",
    "            goodProblemKeyList.append(key)\n",
    "            count = count + 1\n",
    "        if MoonBoard_2016_withurl[key][\"isBenchmark\"] == True:\n",
    "            goodProblemKeyList.append(key)\n",
    "            count = count + 1\n",
    "        if MoonBoard_2016_withurl[key][\"repeats\"] > 50:\n",
    "            goodProblemKeyList.append(key)\n",
    "            count = count + 1\n",
    "        if MoonBoard_2016_withurl[key][\"num_stars\"] == 3:\n",
    "            goodProblemKeyList.append(key)\n",
    "            count = count + 1\n",
    "    except:\n",
    "        pass\n",
    "print(\"Total amount of good problems: \", count)"
   ]
  },
  {
   "attachments": {},
   "cell_type": "markdown",
   "metadata": {},
   "source": [
    "### 1.4 - Grade filter\n",
    "\n",
    "We will seperate problems into 3 difficulty range: Hard (V8 and up) medium (V6 to V8) and easy (V4 V5). So that our training set has the similar difficulty. This will help the problems generated to be more consistant in the difficulty."
   ]
  },
  {
   "cell_type": "code",
   "execution_count": 20,
   "metadata": {},
   "outputs": [],
   "source": [
    "# TODO: model is split into 3 different versions for different grade ranges, reduces training data size\n",
    "# TODO: it could be better to add the grade as a feature, which would allow the model to learn connection between grade and output"
   ]
  },
  {
   "cell_type": "code",
   "execution_count": 21,
   "metadata": {},
   "outputs": [
    {
     "name": "stdout",
     "output_type": "stream",
     "text": [
      "num of easy problems: 9839\n",
      "num of medium problems: 8267\n",
      "num of hard problems: 4639\n"
     ]
    }
   ],
   "source": [
    "easyProblemKeyList = []\n",
    "mediumProblemKeyList = []\n",
    "hardProblemKeyList = []\n",
    "for key in goodProblemKeyList:\n",
    "    # TODO: this results in only graded problems being used in training\n",
    "    if MoonBoard_2016_withurl[key]['grade'] in (\"6B+\", \"6C\", \"6C+\"): # V4 V5\n",
    "        easyProblemKeyList.append(key)\n",
    "    if MoonBoard_2016_withurl[key]['grade'] in (\"7A\", \"7A+\", \"7B\", \"7B+\"): # V6 7 8\n",
    "        mediumProblemKeyList.append(key)\n",
    "    if MoonBoard_2016_withurl[key]['grade'] in (\"7B\", \"7B+\", \"7C\", \"7C+\", \"8A\", \"8A+\", \"8B\"): # V8 9 10 11 12 13\n",
    "        hardProblemKeyList.append(key)        \n",
    "print(\"num of easy problems:\", len(easyProblemKeyList)) \n",
    "print(\"num of medium problems:\", len(mediumProblemKeyList))\n",
    "print(\"num of hard problems:\", len(hardProblemKeyList))"
   ]
  },
  {
   "attachments": {},
   "cell_type": "markdown",
   "metadata": {},
   "source": [
    "### 1.5 - Collect good and proper grade range into handString training set\n",
    "Collect into handStringList as input of RNN"
   ]
  },
  {
   "cell_type": "markdown",
   "metadata": {},
   "source": [
    "* Define handStringList and add benchmark"
   ]
  },
  {
   "cell_type": "code",
   "execution_count": 22,
   "metadata": {},
   "outputs": [
    {
     "name": "stdout",
     "output_type": "stream",
     "text": [
      "Number of benchmark training example:  358\n"
     ]
    }
   ],
   "source": [
    "# ensemble to a StringList\n",
    "print(\"Number of benchmark training example: \", len(benchmark_handString_seq))"
   ]
  },
  {
   "cell_type": "markdown",
   "metadata": {},
   "source": [
    "* Now add more problems and add more Benchmark problem to emphasize Benchmark"
   ]
  },
  {
   "cell_type": "markdown",
   "metadata": {},
   "source": [
    "* Select a proper grade level "
   ]
  },
  {
   "cell_type": "code",
   "execution_count": 23,
   "metadata": {},
   "outputs": [],
   "source": [
    "handStringList = collectHandStringIntoList(mediumProblemKeyList)"
   ]
  },
  {
   "cell_type": "code",
   "execution_count": 24,
   "metadata": {},
   "outputs": [
    {
     "name": "stdout",
     "output_type": "stream",
     "text": [
      "Number of total training example (filter):  6681\n"
     ]
    }
   ],
   "source": [
    "# Total training sample\n",
    "numOfTrainingSample = len(handStringList)\n",
    "print(\"Number of total training example (filter): \", numOfTrainingSample)"
   ]
  },
  {
   "attachments": {},
   "cell_type": "markdown",
   "metadata": {},
   "source": [
    "### 1.6 - construct total reservoir of all avalible holds\n",
    "Create two dictionaries: \n",
    "* holdStr_to_holdIx: \"J5-LH\" has index =  127\n",
    "* holdIx_to_holdStr: index 277 is hold B15-RH"
   ]
  },
  {
   "cell_type": "markdown",
   "metadata": {},
   "source": [
    "* You can reload the dictionaries here (Skipe the later cells) "
   ]
  },
  {
   "cell_type": "code",
   "execution_count": 25,
   "metadata": {},
   "outputs": [],
   "source": [
    "with open(cwd.parent / \"raw_data\" / \"holdStr_to_holdIx\", 'rb') as f:\n",
    "    holdStr_to_holdIx = pickle.load(f)\n",
    "with open(cwd.parent / \"raw_data\" / \"holdIx_to_holdStr\", 'rb') as f:\n",
    "    holdIx_to_holdStr = pickle.load(f)  \n",
    "numOfPossibleHolds = 277"
   ]
  },
  {
   "attachments": {},
   "cell_type": "markdown",
   "metadata": {},
   "source": [
    "* Code to regenerate maps"
   ]
  },
  {
   "cell_type": "code",
   "execution_count": 26,
   "metadata": {},
   "outputs": [],
   "source": [
    "# TODO: rewrite, very slow\n",
    "# # Merge all string to big list to know how many string to consider\n",
    "# holdsReservoir = [] \n",
    "# for i in range(len(handStringList)):\n",
    "#     holdsReservoir = holdsReservoir + handStringList[i]\n",
    "# #holdsReservoir = sorted(holdsReservoir)  It will be great to sort the num of String from bottom to top.  \n",
    "# holdsReservoir = list(set(holdsReservoir)) # Delete repetitive string\n",
    "# print('Total holds avalible (include L / R): ', len(holdsReservoir))\n",
    "# numOfPossibleHolds = len(holdsReservoir)\n",
    "\n",
    "# # Build a dictionary convert String \"J5-LH\" to index\n",
    "# holdStr_to_holdIx = {}\n",
    "# holdStr_to_holdIx[\"End\"] = 0  # End hold\n",
    "# for i in range(len(holdsReservoir)):\n",
    "#     holdStr_to_holdIx[holdsReservoir[i]] = i + 1\n",
    "# print('For example, \"J5-LH\" has index = ', holdStr_to_holdIx[\"J5-LH\"])   \n",
    "\n",
    "# holdIx_to_holdStr = {v: k for k, v in holdStr_to_holdIx.items()}\n",
    "# print('Reverse dictionary: index 23 is hold', holdIx_to_holdStr[23])  \n",
    "\n",
    "# save_pickle(holdStr_to_holdIx, cwd / 'holdStr_to_holdIx')\n",
    "# save_pickle(holdIx_to_holdStr, cwd / 'holdIx_to_holdStr')"
   ]
  },
  {
   "attachments": {},
   "cell_type": "markdown",
   "metadata": {},
   "source": [
    "### 1.7 - Prepare RNN's inputXY \n",
    "Use loadSeqXYFromString to shift Y from X by 1"
   ]
  },
  {
   "cell_type": "code",
   "execution_count": 27,
   "metadata": {},
   "outputs": [
    {
     "name": "stdout",
     "output_type": "stream",
     "text": [
      "number of training examples: 6681\n",
      "Tx (length of sequence): 12\n",
      "total # of unique values: 278\n",
      "shape of X: (6681, 12, 278)\n",
      "Shape of Y: (12, 6681, 278)\n"
     ]
    }
   ],
   "source": [
    "X, Y, n_values = loadSeqXYFromString(\n",
    "    handStringList,\n",
    "    holdStr_to_holdIx,\n",
    "    m=numOfTrainingSample,\n",
    "    maxNumOfHands=12,\n",
    "    numOfPossibleHolds=numOfPossibleHolds,\n",
    ")\n",
    "print(\"number of training examples:\", X.shape[0])\n",
    "print(\"Tx (length of sequence):\", X.shape[1])\n",
    "print(\"total # of unique values:\", n_values)\n",
    "print(\"shape of X:\", X.shape)\n",
    "print(\"Shape of Y:\", Y.shape)"
   ]
  },
  {
   "attachments": {},
   "cell_type": "markdown",
   "metadata": {},
   "source": [
    "- `X`: This is an `(m, Tx, n_values)` dimensional array. \n",
    "    - We have m training examples, each of which has `T_x=12` holds (if < 12 remainder are `\"End\"`/`0`). \n",
    "    - At each move step, the input is one of n_values different possible values, represented as a one-hot vector. \n",
    "        - For example, `X[i,t,:]` is a one-hot vector representing the hold at sequence position `t`. \n",
    "\n",
    "- `Y`: a `(Ty, m, n_values)` dimensional array\n",
    "    - This is essentially the same as `X`, but shifted one step to the left (to the previous move). \n",
    "    - Notice that the data in `Y` is **permuted** to be dimension `(Ty, m, n_values)`, where `Ty = Tx`. This format makes it more convenient to feed into the LSTM later.\n",
    "    - Similar to the music generator, we're using the previous values to predict the next value.\n",
    "        - So our sequence model will try to predict $y^{\\langle t \\rangle}$ given $x^{\\langle 1\\rangle}, \\ldots, x^{\\langle t \\rangle}$. \n",
    "\n",
    "- `n_values`: The number of unique values in this dataset. This should be `n_values`. \n"
   ]
  },
  {
   "attachments": {},
   "cell_type": "markdown",
   "metadata": {},
   "source": [
    "### 1.8 - Overview of our model\n",
    "\n",
    "* $X = (x^{\\langle 1 \\rangle}, x^{\\langle 2 \\rangle}, \\cdots, x^{\\langle T_x \\rangle})$ is a window of size $T_x$ scanned over the climbing moves. \n",
    "* Each $x^{\\langle t \\rangle}$ is an index corresponding to a value.\n",
    "* $\\hat{y}^{t}$ is the prediction for the next value.\n",
    "* We will be training the model on random 12 values padded  with `\"End\"` if the climbing problem end before. \n",
    "    - We are setting each of the snippets to have the same length $T_x = 12$ to make vectorization easier."
   ]
  },
  {
   "attachments": {},
   "cell_type": "markdown",
   "metadata": {},
   "source": [
    "## Overview of parts 2 and 3 (If you already trained the model, skip to Prediction part 4)\n",
    "\n",
    "\n",
    "- We're going to train a model that predicts the next hold in a style that is similar to the climbing problems that it's trained on.  The training is contained in the weights and biases of the model. \n",
    "- In Part 3, we're then going to use those weights and biases in a new model which predicts a series of holds, using the previous hold to predict the next hold. \n",
    "- The weights and biases are transferred to the new model using 'global shared layers' described below\"\n"
   ]
  },
  {
   "cell_type": "markdown",
   "metadata": {},
   "source": [
    "## 2 - Building the model (If you already trained the model, skip to Prediction part)\n",
    "\n",
    "* Build and train a model that will learn climbing moves patterns. \n",
    "* The model takes input X of shape $(m, T_x, n_values)$ and labels Y of shape $(T_y, m, n_values)$. \n",
    "* We will use an LSTM with hidden states that have $n_{a} = 64$ dimensions."
   ]
  },
  {
   "cell_type": "code",
   "execution_count": 5,
   "metadata": {},
   "outputs": [],
   "source": [
    "# number of dimensions for the hidden state of each LSTM cell.\n",
    "n_a = 64"
   ]
  },
  {
   "attachments": {},
   "cell_type": "markdown",
   "metadata": {},
   "source": [
    "\n",
    "#### Sequence generation uses a for-loop\n",
    "* If you're building an RNN where, at test time, the entire input sequence $x^{\\langle 1 \\rangle}, x^{\\langle 2 \\rangle}, \\ldots, x^{\\langle T_x \\rangle}$ is given in advance, then Keras has simple built-in functions to build the model. \n",
    "* However, for **sequence generation, at test time we don't know all the values of $x^{\\langle t\\rangle}$ in advance**.\n",
    "* Instead we generate them one at a time using $x^{\\langle t\\rangle} = y^{\\langle t-1 \\rangle}$. \n",
    "    * The input at time `t` is the prediction at the previous time step `t-1`.\n",
    "\n",
    "#### Shareable weights\n",
    "* The function `routeSetmodel()` will call the LSTM layer $T_x$ times using a for-loop.\n",
    "* It is important that all $T_x$ copies have the same weights. \n",
    "    - The $T_x$ steps should have shared weights that aren't re-initialized.\n",
    "* Referencing a globally defined shared layer will utilize the same layer-object instance at each time step.\n",
    "* Benefits of using shareable weights:\n",
    "    - reduced computation and space requirements\n",
    "    - theoretically has the ability to memorize long-term dependencies\n",
    "    - we may however learn more complex patterns if we don't share weights which is unlikely to require much more computation as we only generate 12 holds \n",
    "\n",
    "\n",
    "The key steps for implementing layers with shareable weights in Keras are: \n",
    "1. Define the layer objects (we will use global variables for this).\n",
    "2. Call these objects when propagating the input.\n",
    "\n",
    "#### 3 types of global variables layers:\n",
    "- [Reshape()](https://keras.io/layers/core/#reshape): Reshapes an output to a certain shape.\n",
    "- [LSTM()](https://keras.io/layers/recurrent/#lstm): Long Short-Term Memory layer\n",
    "- [Dense()](https://keras.io/layers/core/#dense): A regular fully-connected neural network layer.\n"
   ]
  },
  {
   "cell_type": "code",
   "execution_count": 28,
   "metadata": {},
   "outputs": [],
   "source": [
    "# TODO: testing and reconsideration of shared weights\n",
    "# currently checking whether they are needed to transfer weights to the inference model\n",
    "# see above benefits of using shared weigths\n",
    "# need to test not using shared weights between layers (would still somehow need to pass onto inference model)\n",
    "LSTM_cell = LSTM(n_a, return_state=True)\n",
    "densor = Dense(n_values, activation=\"softmax\")"
   ]
  },
  {
   "attachments": {},
   "cell_type": "markdown",
   "metadata": {},
   "source": [
    "#### Inputs \n",
    "* The `Input()` layer is used for defining the input `X` as well as the initial hidden state 'a0' and cell state `c0`.\n",
    "* The `shape` parameter takes a tuple that does not include the batch dimension (`m`).\n",
    "```Python\n",
    "X = Input(shape=(Tx, n_values)) # X has 3 dimensions and not 2: (m, Tx, n_values)\n",
    "```\n"
   ]
  },
  {
   "attachments": {},
   "cell_type": "markdown",
   "metadata": {},
   "source": [
    "#### Step 1: Outputs \n",
    "- Create an empty list `outputs` to save the outputs of the LSTM Cell at every time step."
   ]
  },
  {
   "attachments": {},
   "cell_type": "markdown",
   "metadata": {},
   "source": [
    "#### Step 2: Loop through time steps\n",
    "* Loop for $t \\in 1, \\ldots, T_x$:\n",
    "\n",
    "#### 2A. Select the `t` time-step vector from `X`.\n",
    "* `X` has the shape `(m, Tx, n_values)`.\n",
    "* The shape of the `t` selection should be `(n_values,)`.\n",
    "\n",
    "#### 2B. Reshape `x` to be `(1,n_values)`.\n",
    "* Use the `reshapor()` layer.  It is a function that takes the previous layer as its input argument.\n",
    "\n",
    "#### 2C. Run `x` through one step of LSTM_cell.\n",
    "* Initialize the `LSTM_cell` with the previous step's hidden state `a` and cell state `c`. \n",
    "* Use the following formatting:\n",
    "```python\n",
    "next_hidden_state, _, next_cell_state = LSTM_cell(inputs=input_x, initial_state=[previous_hidden_state, previous_cell_state])\n",
    "```\n",
    "\n",
    "#### 2D. Dense layer\n",
    "* Propagate the LSTM's hidden state through a dense+softmax layer using `densor`. \n",
    "    \n",
    "#### 2E. Append output\n",
    "* Append the output to the list of `outputs`.\n"
   ]
  },
  {
   "attachments": {},
   "cell_type": "markdown",
   "metadata": {},
   "source": [
    "#### Step 3: After the loop, create the model\n",
    "* Use the Keras `Model` object to create a model.\n",
    "* specify the inputs and outputs:\n",
    "```Python\n",
    "model = Model(inputs=[input_x, initial_hidden_state, initial_cell_state], outputs=the_outputs)\n",
    "```\n",
    "* Choose the appropriate variables for the input tensor, hidden state, cell state, and output."
   ]
  },
  {
   "cell_type": "code",
   "execution_count": 6,
   "metadata": {},
   "outputs": [],
   "source": [
    "def deepRouteSet(LSTM_cell, densor, Tx, n_a, n_values):\n",
    "    \"\"\"\n",
    "    Training model for route generation we reuse these  weights with a different network in order to generate routes\n",
    "    \n",
    "    Arguments:\n",
    "    Tx -- length of the climbing route (padded by \"End\" up to this length)\n",
    "    n_a -- the number of activations used by the LSTM cells in our model\n",
    "    n_values -- number of unique values in the climbing move data \n",
    "    \n",
    "    Returns:\n",
    "    model -- a keras instance model with n_a activations\n",
    "    \"\"\"\n",
    "    \n",
    "    # Define the input layer and specify the shape\n",
    "    X = Input(shape=(Tx, n_values))\n",
    "    \n",
    "    # Define the initial hidden state a0 and initial cell state c0\n",
    "    # using `Input`\n",
    "    a0 = Input(shape=(n_a,), name='a0')\n",
    "    c0 = Input(shape=(n_a,), name='c0')\n",
    "    a = a0\n",
    "    c = c0\n",
    "    \n",
    "    # Step 1: Create empty list to append the outputs while you iterate\n",
    "    outputs = []\n",
    "    \n",
    "    # Step 2: Loop\n",
    "    for t in range(Tx):      \n",
    "        # Step 2.A: select the \"t\"th time step vector from X. \n",
    "        x = Lambda(lambda z: z[:, t, :])(X)   \n",
    "        # Step 2.B: Use reshapor to reshape x to be (1, n_values)\n",
    "        x = Reshape((1, n_values))(x)  # from (?, n_values) to (?, 1, n_values)\n",
    "        # Step 2.C: Perform one step of the LSTM_cell\n",
    "        a, _, c = LSTM_cell(inputs = x, initial_state = [a, c])\n",
    "        # Step 2.D: Apply densor to the hidden state output of LSTM_Cell\n",
    "        out = densor(a)\n",
    "        # Step 2.E: add the output to \"outputs\"\n",
    "        outputs.append(out)\n",
    "        \n",
    "    # Step 3: Create model instance\n",
    "    return Model(inputs = [X, a0, c0], outputs = outputs)\n",
    "    "
   ]
  },
  {
   "attachments": {},
   "cell_type": "markdown",
   "metadata": {},
   "source": [
    "#### Create the model object\n",
    "* Run the following cell to define your model. \n",
    "* We will use `Tx=12`, `n_a=64` (the dimension of the LSTM activations), and `n_values=n_values`. \n",
    "* This cell may take a few seconds to run. "
   ]
  },
  {
   "cell_type": "code",
   "execution_count": 27,
   "metadata": {},
   "outputs": [
    {
     "name": "stderr",
     "output_type": "stream",
     "text": [
      "2023-04-25 16:10:38.089590: I tensorflow/core/common_runtime/executor.cc:1197] [/device:CPU:0] (DEBUG INFO) Executor start aborting (this does not indicate an error and you can ignore this message): INVALID_ARGUMENT: You must feed a value for placeholder tensor 'gradients/split_2_grad/concat/split_2/split_dim' with dtype int32\n",
      "\t [[{{node gradients/split_2_grad/concat/split_2/split_dim}}]]\n",
      "2023-04-25 16:10:38.092872: I tensorflow/core/common_runtime/executor.cc:1197] [/device:CPU:0] (DEBUG INFO) Executor start aborting (this does not indicate an error and you can ignore this message): INVALID_ARGUMENT: You must feed a value for placeholder tensor 'gradients/split_grad/concat/split/split_dim' with dtype int32\n",
      "\t [[{{node gradients/split_grad/concat/split/split_dim}}]]\n",
      "2023-04-25 16:10:38.095133: I tensorflow/core/common_runtime/executor.cc:1197] [/device:CPU:0] (DEBUG INFO) Executor start aborting (this does not indicate an error and you can ignore this message): INVALID_ARGUMENT: You must feed a value for placeholder tensor 'gradients/split_1_grad/concat/split_1/split_dim' with dtype int32\n",
      "\t [[{{node gradients/split_1_grad/concat/split_1/split_dim}}]]\n",
      "2023-04-25 16:10:38.394143: I tensorflow/core/common_runtime/executor.cc:1197] [/device:CPU:0] (DEBUG INFO) Executor start aborting (this does not indicate an error and you can ignore this message): INVALID_ARGUMENT: You must feed a value for placeholder tensor 'gradients/split_2_grad/concat/split_2/split_dim' with dtype int32\n",
      "\t [[{{node gradients/split_2_grad/concat/split_2/split_dim}}]]\n",
      "2023-04-25 16:10:38.399101: I tensorflow/core/common_runtime/executor.cc:1197] [/device:CPU:0] (DEBUG INFO) Executor start aborting (this does not indicate an error and you can ignore this message): INVALID_ARGUMENT: You must feed a value for placeholder tensor 'gradients/split_grad/concat/split/split_dim' with dtype int32\n",
      "\t [[{{node gradients/split_grad/concat/split/split_dim}}]]\n",
      "2023-04-25 16:10:38.404236: I tensorflow/core/common_runtime/executor.cc:1197] [/device:CPU:0] (DEBUG INFO) Executor start aborting (this does not indicate an error and you can ignore this message): INVALID_ARGUMENT: You must feed a value for placeholder tensor 'gradients/split_1_grad/concat/split_1/split_dim' with dtype int32\n",
      "\t [[{{node gradients/split_1_grad/concat/split_1/split_dim}}]]\n",
      "2023-04-25 16:10:38.683508: I tensorflow/core/common_runtime/executor.cc:1197] [/device:CPU:0] (DEBUG INFO) Executor start aborting (this does not indicate an error and you can ignore this message): INVALID_ARGUMENT: You must feed a value for placeholder tensor 'gradients/split_2_grad/concat/split_2/split_dim' with dtype int32\n",
      "\t [[{{node gradients/split_2_grad/concat/split_2/split_dim}}]]\n",
      "2023-04-25 16:10:38.687783: I tensorflow/core/common_runtime/executor.cc:1197] [/device:CPU:0] (DEBUG INFO) Executor start aborting (this does not indicate an error and you can ignore this message): INVALID_ARGUMENT: You must feed a value for placeholder tensor 'gradients/split_grad/concat/split/split_dim' with dtype int32\n",
      "\t [[{{node gradients/split_grad/concat/split/split_dim}}]]\n",
      "2023-04-25 16:10:38.689531: I tensorflow/core/common_runtime/executor.cc:1197] [/device:CPU:0] (DEBUG INFO) Executor start aborting (this does not indicate an error and you can ignore this message): INVALID_ARGUMENT: You must feed a value for placeholder tensor 'gradients/split_1_grad/concat/split_1/split_dim' with dtype int32\n",
      "\t [[{{node gradients/split_1_grad/concat/split_1/split_dim}}]]\n",
      "2023-04-25 16:10:38.975846: I tensorflow/core/common_runtime/executor.cc:1197] [/device:CPU:0] (DEBUG INFO) Executor start aborting (this does not indicate an error and you can ignore this message): INVALID_ARGUMENT: You must feed a value for placeholder tensor 'gradients/split_2_grad/concat/split_2/split_dim' with dtype int32\n",
      "\t [[{{node gradients/split_2_grad/concat/split_2/split_dim}}]]\n",
      "2023-04-25 16:10:38.980385: I tensorflow/core/common_runtime/executor.cc:1197] [/device:CPU:0] (DEBUG INFO) Executor start aborting (this does not indicate an error and you can ignore this message): INVALID_ARGUMENT: You must feed a value for placeholder tensor 'gradients/split_grad/concat/split/split_dim' with dtype int32\n",
      "\t [[{{node gradients/split_grad/concat/split/split_dim}}]]\n",
      "2023-04-25 16:10:38.985332: I tensorflow/core/common_runtime/executor.cc:1197] [/device:CPU:0] (DEBUG INFO) Executor start aborting (this does not indicate an error and you can ignore this message): INVALID_ARGUMENT: You must feed a value for placeholder tensor 'gradients/split_1_grad/concat/split_1/split_dim' with dtype int32\n",
      "\t [[{{node gradients/split_1_grad/concat/split_1/split_dim}}]]\n",
      "2023-04-25 16:10:39.253226: I tensorflow/core/common_runtime/executor.cc:1197] [/device:CPU:0] (DEBUG INFO) Executor start aborting (this does not indicate an error and you can ignore this message): INVALID_ARGUMENT: You must feed a value for placeholder tensor 'gradients/split_2_grad/concat/split_2/split_dim' with dtype int32\n",
      "\t [[{{node gradients/split_2_grad/concat/split_2/split_dim}}]]\n",
      "2023-04-25 16:10:39.255782: I tensorflow/core/common_runtime/executor.cc:1197] [/device:CPU:0] (DEBUG INFO) Executor start aborting (this does not indicate an error and you can ignore this message): INVALID_ARGUMENT: You must feed a value for placeholder tensor 'gradients/split_grad/concat/split/split_dim' with dtype int32\n",
      "\t [[{{node gradients/split_grad/concat/split/split_dim}}]]\n",
      "2023-04-25 16:10:39.259293: I tensorflow/core/common_runtime/executor.cc:1197] [/device:CPU:0] (DEBUG INFO) Executor start aborting (this does not indicate an error and you can ignore this message): INVALID_ARGUMENT: You must feed a value for placeholder tensor 'gradients/split_1_grad/concat/split_1/split_dim' with dtype int32\n",
      "\t [[{{node gradients/split_1_grad/concat/split_1/split_dim}}]]\n",
      "2023-04-25 16:10:39.540456: I tensorflow/core/common_runtime/executor.cc:1197] [/device:CPU:0] (DEBUG INFO) Executor start aborting (this does not indicate an error and you can ignore this message): INVALID_ARGUMENT: You must feed a value for placeholder tensor 'gradients/split_2_grad/concat/split_2/split_dim' with dtype int32\n",
      "\t [[{{node gradients/split_2_grad/concat/split_2/split_dim}}]]\n",
      "2023-04-25 16:10:39.543530: I tensorflow/core/common_runtime/executor.cc:1197] [/device:CPU:0] (DEBUG INFO) Executor start aborting (this does not indicate an error and you can ignore this message): INVALID_ARGUMENT: You must feed a value for placeholder tensor 'gradients/split_grad/concat/split/split_dim' with dtype int32\n",
      "\t [[{{node gradients/split_grad/concat/split/split_dim}}]]\n",
      "2023-04-25 16:10:39.545582: I tensorflow/core/common_runtime/executor.cc:1197] [/device:CPU:0] (DEBUG INFO) Executor start aborting (this does not indicate an error and you can ignore this message): INVALID_ARGUMENT: You must feed a value for placeholder tensor 'gradients/split_1_grad/concat/split_1/split_dim' with dtype int32\n",
      "\t [[{{node gradients/split_1_grad/concat/split_1/split_dim}}]]\n",
      "2023-04-25 16:10:39.802621: I tensorflow/core/common_runtime/executor.cc:1197] [/device:CPU:0] (DEBUG INFO) Executor start aborting (this does not indicate an error and you can ignore this message): INVALID_ARGUMENT: You must feed a value for placeholder tensor 'gradients/split_2_grad/concat/split_2/split_dim' with dtype int32\n",
      "\t [[{{node gradients/split_2_grad/concat/split_2/split_dim}}]]\n",
      "2023-04-25 16:10:39.804902: I tensorflow/core/common_runtime/executor.cc:1197] [/device:CPU:0] (DEBUG INFO) Executor start aborting (this does not indicate an error and you can ignore this message): INVALID_ARGUMENT: You must feed a value for placeholder tensor 'gradients/split_grad/concat/split/split_dim' with dtype int32\n",
      "\t [[{{node gradients/split_grad/concat/split/split_dim}}]]\n",
      "2023-04-25 16:10:39.808383: I tensorflow/core/common_runtime/executor.cc:1197] [/device:CPU:0] (DEBUG INFO) Executor start aborting (this does not indicate an error and you can ignore this message): INVALID_ARGUMENT: You must feed a value for placeholder tensor 'gradients/split_1_grad/concat/split_1/split_dim' with dtype int32\n",
      "\t [[{{node gradients/split_1_grad/concat/split_1/split_dim}}]]\n",
      "2023-04-25 16:10:40.092806: I tensorflow/core/common_runtime/executor.cc:1197] [/device:CPU:0] (DEBUG INFO) Executor start aborting (this does not indicate an error and you can ignore this message): INVALID_ARGUMENT: You must feed a value for placeholder tensor 'gradients/split_2_grad/concat/split_2/split_dim' with dtype int32\n",
      "\t [[{{node gradients/split_2_grad/concat/split_2/split_dim}}]]\n",
      "2023-04-25 16:10:40.095710: I tensorflow/core/common_runtime/executor.cc:1197] [/device:CPU:0] (DEBUG INFO) Executor start aborting (this does not indicate an error and you can ignore this message): INVALID_ARGUMENT: You must feed a value for placeholder tensor 'gradients/split_grad/concat/split/split_dim' with dtype int32\n",
      "\t [[{{node gradients/split_grad/concat/split/split_dim}}]]\n",
      "2023-04-25 16:10:40.098135: I tensorflow/core/common_runtime/executor.cc:1197] [/device:CPU:0] (DEBUG INFO) Executor start aborting (this does not indicate an error and you can ignore this message): INVALID_ARGUMENT: You must feed a value for placeholder tensor 'gradients/split_1_grad/concat/split_1/split_dim' with dtype int32\n",
      "\t [[{{node gradients/split_1_grad/concat/split_1/split_dim}}]]\n",
      "2023-04-25 16:10:40.354444: I tensorflow/core/common_runtime/executor.cc:1197] [/device:CPU:0] (DEBUG INFO) Executor start aborting (this does not indicate an error and you can ignore this message): INVALID_ARGUMENT: You must feed a value for placeholder tensor 'gradients/split_2_grad/concat/split_2/split_dim' with dtype int32\n",
      "\t [[{{node gradients/split_2_grad/concat/split_2/split_dim}}]]\n",
      "2023-04-25 16:10:40.357523: I tensorflow/core/common_runtime/executor.cc:1197] [/device:CPU:0] (DEBUG INFO) Executor start aborting (this does not indicate an error and you can ignore this message): INVALID_ARGUMENT: You must feed a value for placeholder tensor 'gradients/split_grad/concat/split/split_dim' with dtype int32\n",
      "\t [[{{node gradients/split_grad/concat/split/split_dim}}]]\n",
      "2023-04-25 16:10:40.359631: I tensorflow/core/common_runtime/executor.cc:1197] [/device:CPU:0] (DEBUG INFO) Executor start aborting (this does not indicate an error and you can ignore this message): INVALID_ARGUMENT: You must feed a value for placeholder tensor 'gradients/split_1_grad/concat/split_1/split_dim' with dtype int32\n",
      "\t [[{{node gradients/split_1_grad/concat/split_1/split_dim}}]]\n",
      "2023-04-25 16:10:40.669039: I tensorflow/core/common_runtime/executor.cc:1197] [/device:CPU:0] (DEBUG INFO) Executor start aborting (this does not indicate an error and you can ignore this message): INVALID_ARGUMENT: You must feed a value for placeholder tensor 'gradients/split_2_grad/concat/split_2/split_dim' with dtype int32\n",
      "\t [[{{node gradients/split_2_grad/concat/split_2/split_dim}}]]\n",
      "2023-04-25 16:10:40.671327: I tensorflow/core/common_runtime/executor.cc:1197] [/device:CPU:0] (DEBUG INFO) Executor start aborting (this does not indicate an error and you can ignore this message): INVALID_ARGUMENT: You must feed a value for placeholder tensor 'gradients/split_grad/concat/split/split_dim' with dtype int32\n",
      "\t [[{{node gradients/split_grad/concat/split/split_dim}}]]\n",
      "2023-04-25 16:10:40.673768: I tensorflow/core/common_runtime/executor.cc:1197] [/device:CPU:0] (DEBUG INFO) Executor start aborting (this does not indicate an error and you can ignore this message): INVALID_ARGUMENT: You must feed a value for placeholder tensor 'gradients/split_1_grad/concat/split_1/split_dim' with dtype int32\n",
      "\t [[{{node gradients/split_1_grad/concat/split_1/split_dim}}]]\n",
      "2023-04-25 16:10:40.928520: I tensorflow/core/common_runtime/executor.cc:1197] [/device:CPU:0] (DEBUG INFO) Executor start aborting (this does not indicate an error and you can ignore this message): INVALID_ARGUMENT: You must feed a value for placeholder tensor 'gradients/split_2_grad/concat/split_2/split_dim' with dtype int32\n",
      "\t [[{{node gradients/split_2_grad/concat/split_2/split_dim}}]]\n",
      "2023-04-25 16:10:40.930937: I tensorflow/core/common_runtime/executor.cc:1197] [/device:CPU:0] (DEBUG INFO) Executor start aborting (this does not indicate an error and you can ignore this message): INVALID_ARGUMENT: You must feed a value for placeholder tensor 'gradients/split_grad/concat/split/split_dim' with dtype int32\n",
      "\t [[{{node gradients/split_grad/concat/split/split_dim}}]]\n",
      "2023-04-25 16:10:40.935905: I tensorflow/core/common_runtime/executor.cc:1197] [/device:CPU:0] (DEBUG INFO) Executor start aborting (this does not indicate an error and you can ignore this message): INVALID_ARGUMENT: You must feed a value for placeholder tensor 'gradients/split_1_grad/concat/split_1/split_dim' with dtype int32\n",
      "\t [[{{node gradients/split_1_grad/concat/split_1/split_dim}}]]\n"
     ]
    },
    {
     "name": "stdout",
     "output_type": "stream",
     "text": [
      "Model: \"model_1\"\n",
      "__________________________________________________________________________________________________\n",
      " Layer (type)                   Output Shape         Param #     Connected to                     \n",
      "==================================================================================================\n",
      " input_2 (InputLayer)           [(None, 12, 278)]    0           []                               \n",
      "                                                                                                  \n",
      " lambda_12 (Lambda)             (None, 278)          0           ['input_2[0][0]']                \n",
      "                                                                                                  \n",
      " reshape_12 (Reshape)           (None, 1, 278)       0           ['lambda_12[0][0]']              \n",
      "                                                                                                  \n",
      " a0 (InputLayer)                [(None, 64)]         0           []                               \n",
      "                                                                                                  \n",
      " c0 (InputLayer)                [(None, 64)]         0           []                               \n",
      "                                                                                                  \n",
      " lambda_13 (Lambda)             (None, 278)          0           ['input_2[0][0]']                \n",
      "                                                                                                  \n",
      " lstm (LSTM)                    [(None, 64),         87808       ['reshape_12[0][0]',             \n",
      "                                 (None, 64),                      'a0[0][0]',                     \n",
      "                                 (None, 64)]                      'c0[0][0]',                     \n",
      "                                                                  'reshape_13[0][0]',             \n",
      "                                                                  'lstm[12][0]',                  \n",
      "                                                                  'lstm[12][2]',                  \n",
      "                                                                  'reshape_14[0][0]',             \n",
      "                                                                  'lstm[13][0]',                  \n",
      "                                                                  'lstm[13][2]',                  \n",
      "                                                                  'reshape_15[0][0]',             \n",
      "                                                                  'lstm[14][0]',                  \n",
      "                                                                  'lstm[14][2]',                  \n",
      "                                                                  'reshape_16[0][0]',             \n",
      "                                                                  'lstm[15][0]',                  \n",
      "                                                                  'lstm[15][2]',                  \n",
      "                                                                  'reshape_17[0][0]',             \n",
      "                                                                  'lstm[16][0]',                  \n",
      "                                                                  'lstm[16][2]',                  \n",
      "                                                                  'reshape_18[0][0]',             \n",
      "                                                                  'lstm[17][0]',                  \n",
      "                                                                  'lstm[17][2]',                  \n",
      "                                                                  'reshape_19[0][0]',             \n",
      "                                                                  'lstm[18][0]',                  \n",
      "                                                                  'lstm[18][2]',                  \n",
      "                                                                  'reshape_20[0][0]',             \n",
      "                                                                  'lstm[19][0]',                  \n",
      "                                                                  'lstm[19][2]',                  \n",
      "                                                                  'reshape_21[0][0]',             \n",
      "                                                                  'lstm[20][0]',                  \n",
      "                                                                  'lstm[20][2]',                  \n",
      "                                                                  'reshape_22[0][0]',             \n",
      "                                                                  'lstm[21][0]',                  \n",
      "                                                                  'lstm[21][2]',                  \n",
      "                                                                  'reshape_23[0][0]',             \n",
      "                                                                  'lstm[22][0]',                  \n",
      "                                                                  'lstm[22][2]']                  \n",
      "                                                                                                  \n",
      " reshape_13 (Reshape)           (None, 1, 278)       0           ['lambda_13[0][0]']              \n",
      "                                                                                                  \n",
      " lambda_14 (Lambda)             (None, 278)          0           ['input_2[0][0]']                \n",
      "                                                                                                  \n",
      " reshape_14 (Reshape)           (None, 1, 278)       0           ['lambda_14[0][0]']              \n",
      "                                                                                                  \n",
      " lambda_15 (Lambda)             (None, 278)          0           ['input_2[0][0]']                \n",
      "                                                                                                  \n",
      " reshape_15 (Reshape)           (None, 1, 278)       0           ['lambda_15[0][0]']              \n",
      "                                                                                                  \n",
      " lambda_16 (Lambda)             (None, 278)          0           ['input_2[0][0]']                \n",
      "                                                                                                  \n",
      " reshape_16 (Reshape)           (None, 1, 278)       0           ['lambda_16[0][0]']              \n",
      "                                                                                                  \n",
      " lambda_17 (Lambda)             (None, 278)          0           ['input_2[0][0]']                \n",
      "                                                                                                  \n",
      " reshape_17 (Reshape)           (None, 1, 278)       0           ['lambda_17[0][0]']              \n",
      "                                                                                                  \n",
      " lambda_18 (Lambda)             (None, 278)          0           ['input_2[0][0]']                \n",
      "                                                                                                  \n",
      " reshape_18 (Reshape)           (None, 1, 278)       0           ['lambda_18[0][0]']              \n",
      "                                                                                                  \n",
      " lambda_19 (Lambda)             (None, 278)          0           ['input_2[0][0]']                \n",
      "                                                                                                  \n",
      " reshape_19 (Reshape)           (None, 1, 278)       0           ['lambda_19[0][0]']              \n",
      "                                                                                                  \n",
      " lambda_20 (Lambda)             (None, 278)          0           ['input_2[0][0]']                \n",
      "                                                                                                  \n",
      " reshape_20 (Reshape)           (None, 1, 278)       0           ['lambda_20[0][0]']              \n",
      "                                                                                                  \n",
      " lambda_21 (Lambda)             (None, 278)          0           ['input_2[0][0]']                \n",
      "                                                                                                  \n",
      " reshape_21 (Reshape)           (None, 1, 278)       0           ['lambda_21[0][0]']              \n",
      "                                                                                                  \n",
      " lambda_22 (Lambda)             (None, 278)          0           ['input_2[0][0]']                \n",
      "                                                                                                  \n",
      " reshape_22 (Reshape)           (None, 1, 278)       0           ['lambda_22[0][0]']              \n",
      "                                                                                                  \n",
      " lambda_23 (Lambda)             (None, 278)          0           ['input_2[0][0]']                \n",
      "                                                                                                  \n",
      " reshape_23 (Reshape)           (None, 1, 278)       0           ['lambda_23[0][0]']              \n",
      "                                                                                                  \n",
      " dense (Dense)                  (None, 278)          18070       ['lstm[12][0]',                  \n",
      "                                                                  'lstm[13][0]',                  \n",
      "                                                                  'lstm[14][0]',                  \n",
      "                                                                  'lstm[15][0]',                  \n",
      "                                                                  'lstm[16][0]',                  \n",
      "                                                                  'lstm[17][0]',                  \n",
      "                                                                  'lstm[18][0]',                  \n",
      "                                                                  'lstm[19][0]',                  \n",
      "                                                                  'lstm[20][0]',                  \n",
      "                                                                  'lstm[21][0]',                  \n",
      "                                                                  'lstm[22][0]',                  \n",
      "                                                                  'lstm[23][0]']                  \n",
      "                                                                                                  \n",
      "==================================================================================================\n",
      "Total params: 105,878\n",
      "Trainable params: 105,878\n",
      "Non-trainable params: 0\n",
      "__________________________________________________________________________________________________\n"
     ]
    },
    {
     "name": "stderr",
     "output_type": "stream",
     "text": [
      "2023-04-25 16:10:41.191461: I tensorflow/core/common_runtime/executor.cc:1197] [/device:CPU:0] (DEBUG INFO) Executor start aborting (this does not indicate an error and you can ignore this message): INVALID_ARGUMENT: You must feed a value for placeholder tensor 'gradients/split_2_grad/concat/split_2/split_dim' with dtype int32\n",
      "\t [[{{node gradients/split_2_grad/concat/split_2/split_dim}}]]\n",
      "2023-04-25 16:10:41.194988: I tensorflow/core/common_runtime/executor.cc:1197] [/device:CPU:0] (DEBUG INFO) Executor start aborting (this does not indicate an error and you can ignore this message): INVALID_ARGUMENT: You must feed a value for placeholder tensor 'gradients/split_grad/concat/split/split_dim' with dtype int32\n",
      "\t [[{{node gradients/split_grad/concat/split/split_dim}}]]\n",
      "2023-04-25 16:10:41.197054: I tensorflow/core/common_runtime/executor.cc:1197] [/device:CPU:0] (DEBUG INFO) Executor start aborting (this does not indicate an error and you can ignore this message): INVALID_ARGUMENT: You must feed a value for placeholder tensor 'gradients/split_1_grad/concat/split_1/split_dim' with dtype int32\n",
      "\t [[{{node gradients/split_1_grad/concat/split_1/split_dim}}]]\n"
     ]
    }
   ],
   "source": [
    "model = deepRouteSet(LSTM_cell, densor, 12, 64, n_values)\n",
    "# Check model\n",
    "model.summary()"
   ]
  },
  {
   "attachments": {},
   "cell_type": "markdown",
   "metadata": {},
   "source": [
    "#### Compile the model for training\n",
    "- optimizer: Adam\n",
    "- loss: categorical cross-entropy (for multi-class classification)"
   ]
  },
  {
   "cell_type": "code",
   "execution_count": 31,
   "metadata": {},
   "outputs": [],
   "source": [
    "opt = Adam(learning_rate=0.01, beta_1=0.9, beta_2=0.999)\n",
    "\n",
    "model.compile(optimizer=opt, loss='categorical_crossentropy', metrics=['accuracy'])"
   ]
  },
  {
   "cell_type": "markdown",
   "metadata": {},
   "source": [
    "#### Initialize hidden state and cell state\n",
    "Finally, let's initialize `a0` and `c0` for the LSTM's initial state to be zero. "
   ]
  },
  {
   "cell_type": "code",
   "execution_count": 32,
   "metadata": {
    "scrolled": true
   },
   "outputs": [],
   "source": [
    "m = numOfTrainingSample\n",
    "a0 = np.zeros((m, n_a))\n",
    "c0 = np.zeros((m, n_a))"
   ]
  },
  {
   "attachments": {},
   "cell_type": "markdown",
   "metadata": {},
   "source": [
    "#### Train the model\n",
    "* Lets now fit the model! \n",
    "* We will turn `Y` into a list, since the cost function expects `Y` to be provided in this format \n",
    "    - `list(Y)` is a list with `Tx` items, where each of the list items is of shape (numOfTrainingSample,n_values). \n",
    "    - Lets train for 100 epochs. This will take a few minutes. "
   ]
  },
  {
   "cell_type": "code",
   "execution_count": 33,
   "metadata": {},
   "outputs": [],
   "source": [
    "# tensorboard callback\n",
    "log_dir = cwd / \"logs\" / \"DeepRouteSet\" / datetime.now().strftime(\"%Y%m%d-%H%M%S\")\n",
    "tensorboard_callback = TensorBoard(log_dir=log_dir, histogram_freq=1)\n",
    "\n",
    "# checkpoint callback\n",
    "checkpoint_path = (\n",
    "    cwd / \"checkpoints\" / \"DeepRouteSet\" / \"epoch{epoch:02d}-loss{val_loss:.2f}.h5\"\n",
    ")\n",
    "cp_callback = ModelCheckpoint(\n",
    "    filepath=str(checkpoint_path),\n",
    "    save_weights_only=True,\n",
    "    save_best_only=True,\n",
    "    verbose=1,\n",
    ")"
   ]
  },
  {
   "cell_type": "code",
   "execution_count": 34,
   "metadata": {
    "scrolled": true
   },
   "outputs": [
    {
     "name": "stdout",
     "output_type": "stream",
     "text": [
      "Epoch 1/100\n",
      "167/167 [==============================] - ETA: 0s - loss: 35.3320 - dense_loss: 4.3314 - dense_1_loss: 4.2740 - dense_2_loss: 5.0026 - dense_3_loss: 5.0523 - dense_4_loss: 5.0769 - dense_5_loss: 4.7932 - dense_6_loss: 3.6164 - dense_7_loss: 1.8299 - dense_8_loss: 0.6991 - dense_9_loss: 0.2868 - dense_10_loss: 0.1924 - dense_11_loss: 0.1771 - dense_accuracy: 0.0700 - dense_1_accuracy: 0.0986 - dense_2_accuracy: 0.0168 - dense_3_accuracy: 0.0215 - dense_4_accuracy: 0.0153 - dense_5_accuracy: 0.0487 - dense_6_accuracy: 0.3170 - dense_7_accuracy: 0.7060 - dense_8_accuracy: 0.9162 - dense_9_accuracy: 0.9792 - dense_10_accuracy: 0.9920 - dense_11_accuracy: 0.9938\n",
      "Epoch 1: val_loss improved from inf to 31.98564, saving model to /mnt/c/Users/valsp/source/repos/MoonBoardRNN/model/checkpoints/DeepRouteSet/epoch01-loss31.99.h5\n",
      "167/167 [==============================] - 44s 146ms/step - loss: 35.3320 - dense_loss: 4.3314 - dense_1_loss: 4.2740 - dense_2_loss: 5.0026 - dense_3_loss: 5.0523 - dense_4_loss: 5.0769 - dense_5_loss: 4.7932 - dense_6_loss: 3.6164 - dense_7_loss: 1.8299 - dense_8_loss: 0.6991 - dense_9_loss: 0.2868 - dense_10_loss: 0.1924 - dense_11_loss: 0.1771 - dense_accuracy: 0.0700 - dense_1_accuracy: 0.0986 - dense_2_accuracy: 0.0168 - dense_3_accuracy: 0.0215 - dense_4_accuracy: 0.0153 - dense_5_accuracy: 0.0487 - dense_6_accuracy: 0.3170 - dense_7_accuracy: 0.7060 - dense_8_accuracy: 0.9162 - dense_9_accuracy: 0.9792 - dense_10_accuracy: 0.9920 - dense_11_accuracy: 0.9938 - val_loss: 31.9856 - val_dense_loss: 3.4592 - val_dense_1_loss: 3.5882 - val_dense_2_loss: 4.5557 - val_dense_3_loss: 4.8330 - val_dense_4_loss: 4.8890 - val_dense_5_loss: 4.6739 - val_dense_6_loss: 3.4771 - val_dense_7_loss: 1.7338 - val_dense_8_loss: 0.5944 - val_dense_9_loss: 0.1314 - val_dense_10_loss: 0.0364 - val_dense_11_loss: 0.0136 - val_dense_accuracy: 0.0868 - val_dense_1_accuracy: 0.0920 - val_dense_2_accuracy: 0.0292 - val_dense_3_accuracy: 0.0247 - val_dense_4_accuracy: 0.0277 - val_dense_5_accuracy: 0.0748 - val_dense_6_accuracy: 0.3276 - val_dense_7_accuracy: 0.7076 - val_dense_8_accuracy: 0.9162 - val_dense_9_accuracy: 0.9858 - val_dense_10_accuracy: 0.9970 - val_dense_11_accuracy: 1.0000\n",
      "Epoch 2/100\n",
      "167/167 [==============================] - ETA: 0s - loss: 30.8076 - dense_loss: 3.2914 - dense_1_loss: 3.4113 - dense_2_loss: 4.3794 - dense_3_loss: 4.6607 - dense_4_loss: 4.7383 - dense_5_loss: 4.5201 - dense_6_loss: 3.4051 - dense_7_loss: 1.6850 - dense_8_loss: 0.5593 - dense_9_loss: 0.1253 - dense_10_loss: 0.0228 - dense_11_loss: 0.0087 - dense_accuracy: 0.1239 - dense_1_accuracy: 0.1220 - dense_2_accuracy: 0.0363 - dense_3_accuracy: 0.0359 - dense_4_accuracy: 0.0331 - dense_5_accuracy: 0.0481 - dense_6_accuracy: 0.3194 - dense_7_accuracy: 0.7103 - dense_8_accuracy: 0.9216 - dense_9_accuracy: 0.9850 - dense_10_accuracy: 0.9979 - dense_11_accuracy: 0.9998\n",
      "Epoch 2: val_loss improved from 31.98564 to 31.50618, saving model to /mnt/c/Users/valsp/source/repos/MoonBoardRNN/model/checkpoints/DeepRouteSet/epoch02-loss31.51.h5\n",
      "167/167 [==============================] - 19s 112ms/step - loss: 30.8076 - dense_loss: 3.2914 - dense_1_loss: 3.4113 - dense_2_loss: 4.3794 - dense_3_loss: 4.6607 - dense_4_loss: 4.7383 - dense_5_loss: 4.5201 - dense_6_loss: 3.4051 - dense_7_loss: 1.6850 - dense_8_loss: 0.5593 - dense_9_loss: 0.1253 - dense_10_loss: 0.0228 - dense_11_loss: 0.0087 - dense_accuracy: 0.1239 - dense_1_accuracy: 0.1220 - dense_2_accuracy: 0.0363 - dense_3_accuracy: 0.0359 - dense_4_accuracy: 0.0331 - dense_5_accuracy: 0.0481 - dense_6_accuracy: 0.3194 - dense_7_accuracy: 0.7103 - dense_8_accuracy: 0.9216 - dense_9_accuracy: 0.9850 - dense_10_accuracy: 0.9979 - dense_11_accuracy: 0.9998 - val_loss: 31.5062 - val_dense_loss: 3.3708 - val_dense_1_loss: 3.5218 - val_dense_2_loss: 4.4854 - val_dense_3_loss: 4.7725 - val_dense_4_loss: 4.8729 - val_dense_5_loss: 4.6352 - val_dense_6_loss: 3.4299 - val_dense_7_loss: 1.6979 - val_dense_8_loss: 0.5770 - val_dense_9_loss: 0.1155 - val_dense_10_loss: 0.0232 - val_dense_11_loss: 0.0039 - val_dense_accuracy: 0.0868 - val_dense_1_accuracy: 0.0920 - val_dense_2_accuracy: 0.0434 - val_dense_3_accuracy: 0.0389 - val_dense_4_accuracy: 0.0277 - val_dense_5_accuracy: 0.0748 - val_dense_6_accuracy: 0.3276 - val_dense_7_accuracy: 0.7076 - val_dense_8_accuracy: 0.9162 - val_dense_9_accuracy: 0.9858 - val_dense_10_accuracy: 0.9970 - val_dense_11_accuracy: 1.0000\n",
      "Epoch 3/100\n",
      " 75/167 [============>.................] - ETA: 8s - loss: 30.7896 - dense_loss: 3.2578 - dense_1_loss: 3.3871 - dense_2_loss: 4.3648 - dense_3_loss: 4.6557 - dense_4_loss: 4.7103 - dense_5_loss: 4.5235 - dense_6_loss: 3.4163 - dense_7_loss: 1.7275 - dense_8_loss: 0.5833 - dense_9_loss: 0.1429 - dense_10_loss: 0.0163 - dense_11_loss: 0.0041 - dense_accuracy: 0.1254 - dense_1_accuracy: 0.1146 - dense_2_accuracy: 0.0392 - dense_3_accuracy: 0.0258 - dense_4_accuracy: 0.0346 - dense_5_accuracy: 0.0533 - dense_6_accuracy: 0.3162 - dense_7_accuracy: 0.7013 - dense_8_accuracy: 0.9183 - dense_9_accuracy: 0.9821 - dense_10_accuracy: 0.9979 - dense_11_accuracy: 1.0000"
     ]
    },
    {
     "ename": "KeyboardInterrupt",
     "evalue": "",
     "output_type": "error",
     "traceback": [
      "\u001b[0;31m---------------------------------------------------------------------------\u001b[0m",
      "\u001b[0;31mKeyboardInterrupt\u001b[0m                         Traceback (most recent call last)",
      "Cell \u001b[0;32mIn[34], line 2\u001b[0m\n\u001b[1;32m      1\u001b[0m \u001b[39m# load weights instead of retraining\u001b[39;00m\n\u001b[0;32m----> 2\u001b[0m history \u001b[39m=\u001b[39m model\u001b[39m.\u001b[39;49mfit([X, a0, c0], \u001b[39mlist\u001b[39;49m(Y), epochs\u001b[39m=\u001b[39;49m\u001b[39m100\u001b[39;49m, callbacks\u001b[39m=\u001b[39;49m[tensorboard_callback, cp_callback], validation_split\u001b[39m=\u001b[39;49m\u001b[39m0.2\u001b[39;49m)\n\u001b[1;32m      3\u001b[0m \u001b[39m# model.load_weights('DeepRouteSet_medium.h5')\u001b[39;00m\n",
      "File \u001b[0;32m~/miniconda3/envs/tf/lib/python3.9/site-packages/keras/utils/traceback_utils.py:65\u001b[0m, in \u001b[0;36mfilter_traceback.<locals>.error_handler\u001b[0;34m(*args, **kwargs)\u001b[0m\n\u001b[1;32m     63\u001b[0m filtered_tb \u001b[39m=\u001b[39m \u001b[39mNone\u001b[39;00m\n\u001b[1;32m     64\u001b[0m \u001b[39mtry\u001b[39;00m:\n\u001b[0;32m---> 65\u001b[0m     \u001b[39mreturn\u001b[39;00m fn(\u001b[39m*\u001b[39;49margs, \u001b[39m*\u001b[39;49m\u001b[39m*\u001b[39;49mkwargs)\n\u001b[1;32m     66\u001b[0m \u001b[39mexcept\u001b[39;00m \u001b[39mException\u001b[39;00m \u001b[39mas\u001b[39;00m e:\n\u001b[1;32m     67\u001b[0m     filtered_tb \u001b[39m=\u001b[39m _process_traceback_frames(e\u001b[39m.\u001b[39m__traceback__)\n",
      "File \u001b[0;32m~/miniconda3/envs/tf/lib/python3.9/site-packages/keras/engine/training.py:1685\u001b[0m, in \u001b[0;36mModel.fit\u001b[0;34m(self, x, y, batch_size, epochs, verbose, callbacks, validation_split, validation_data, shuffle, class_weight, sample_weight, initial_epoch, steps_per_epoch, validation_steps, validation_batch_size, validation_freq, max_queue_size, workers, use_multiprocessing)\u001b[0m\n\u001b[1;32m   1677\u001b[0m \u001b[39mwith\u001b[39;00m tf\u001b[39m.\u001b[39mprofiler\u001b[39m.\u001b[39mexperimental\u001b[39m.\u001b[39mTrace(\n\u001b[1;32m   1678\u001b[0m     \u001b[39m\"\u001b[39m\u001b[39mtrain\u001b[39m\u001b[39m\"\u001b[39m,\n\u001b[1;32m   1679\u001b[0m     epoch_num\u001b[39m=\u001b[39mepoch,\n\u001b[0;32m   (...)\u001b[0m\n\u001b[1;32m   1682\u001b[0m     _r\u001b[39m=\u001b[39m\u001b[39m1\u001b[39m,\n\u001b[1;32m   1683\u001b[0m ):\n\u001b[1;32m   1684\u001b[0m     callbacks\u001b[39m.\u001b[39mon_train_batch_begin(step)\n\u001b[0;32m-> 1685\u001b[0m     tmp_logs \u001b[39m=\u001b[39m \u001b[39mself\u001b[39;49m\u001b[39m.\u001b[39;49mtrain_function(iterator)\n\u001b[1;32m   1686\u001b[0m     \u001b[39mif\u001b[39;00m data_handler\u001b[39m.\u001b[39mshould_sync:\n\u001b[1;32m   1687\u001b[0m         context\u001b[39m.\u001b[39masync_wait()\n",
      "File \u001b[0;32m~/miniconda3/envs/tf/lib/python3.9/site-packages/tensorflow/python/util/traceback_utils.py:150\u001b[0m, in \u001b[0;36mfilter_traceback.<locals>.error_handler\u001b[0;34m(*args, **kwargs)\u001b[0m\n\u001b[1;32m    148\u001b[0m filtered_tb \u001b[39m=\u001b[39m \u001b[39mNone\u001b[39;00m\n\u001b[1;32m    149\u001b[0m \u001b[39mtry\u001b[39;00m:\n\u001b[0;32m--> 150\u001b[0m   \u001b[39mreturn\u001b[39;00m fn(\u001b[39m*\u001b[39;49margs, \u001b[39m*\u001b[39;49m\u001b[39m*\u001b[39;49mkwargs)\n\u001b[1;32m    151\u001b[0m \u001b[39mexcept\u001b[39;00m \u001b[39mException\u001b[39;00m \u001b[39mas\u001b[39;00m e:\n\u001b[1;32m    152\u001b[0m   filtered_tb \u001b[39m=\u001b[39m _process_traceback_frames(e\u001b[39m.\u001b[39m__traceback__)\n",
      "File \u001b[0;32m~/miniconda3/envs/tf/lib/python3.9/site-packages/tensorflow/python/eager/polymorphic_function/polymorphic_function.py:894\u001b[0m, in \u001b[0;36mFunction.__call__\u001b[0;34m(self, *args, **kwds)\u001b[0m\n\u001b[1;32m    891\u001b[0m compiler \u001b[39m=\u001b[39m \u001b[39m\"\u001b[39m\u001b[39mxla\u001b[39m\u001b[39m\"\u001b[39m \u001b[39mif\u001b[39;00m \u001b[39mself\u001b[39m\u001b[39m.\u001b[39m_jit_compile \u001b[39melse\u001b[39;00m \u001b[39m\"\u001b[39m\u001b[39mnonXla\u001b[39m\u001b[39m\"\u001b[39m\n\u001b[1;32m    893\u001b[0m \u001b[39mwith\u001b[39;00m OptionalXlaContext(\u001b[39mself\u001b[39m\u001b[39m.\u001b[39m_jit_compile):\n\u001b[0;32m--> 894\u001b[0m   result \u001b[39m=\u001b[39m \u001b[39mself\u001b[39;49m\u001b[39m.\u001b[39;49m_call(\u001b[39m*\u001b[39;49margs, \u001b[39m*\u001b[39;49m\u001b[39m*\u001b[39;49mkwds)\n\u001b[1;32m    896\u001b[0m new_tracing_count \u001b[39m=\u001b[39m \u001b[39mself\u001b[39m\u001b[39m.\u001b[39mexperimental_get_tracing_count()\n\u001b[1;32m    897\u001b[0m without_tracing \u001b[39m=\u001b[39m (tracing_count \u001b[39m==\u001b[39m new_tracing_count)\n",
      "File \u001b[0;32m~/miniconda3/envs/tf/lib/python3.9/site-packages/tensorflow/python/eager/polymorphic_function/polymorphic_function.py:926\u001b[0m, in \u001b[0;36mFunction._call\u001b[0;34m(self, *args, **kwds)\u001b[0m\n\u001b[1;32m    923\u001b[0m   \u001b[39mself\u001b[39m\u001b[39m.\u001b[39m_lock\u001b[39m.\u001b[39mrelease()\n\u001b[1;32m    924\u001b[0m   \u001b[39m# In this case we have created variables on the first call, so we run the\u001b[39;00m\n\u001b[1;32m    925\u001b[0m   \u001b[39m# defunned version which is guaranteed to never create variables.\u001b[39;00m\n\u001b[0;32m--> 926\u001b[0m   \u001b[39mreturn\u001b[39;00m \u001b[39mself\u001b[39;49m\u001b[39m.\u001b[39;49m_no_variable_creation_fn(\u001b[39m*\u001b[39;49margs, \u001b[39m*\u001b[39;49m\u001b[39m*\u001b[39;49mkwds)  \u001b[39m# pylint: disable=not-callable\u001b[39;00m\n\u001b[1;32m    927\u001b[0m \u001b[39melif\u001b[39;00m \u001b[39mself\u001b[39m\u001b[39m.\u001b[39m_variable_creation_fn \u001b[39mis\u001b[39;00m \u001b[39mnot\u001b[39;00m \u001b[39mNone\u001b[39;00m:\n\u001b[1;32m    928\u001b[0m   \u001b[39m# Release the lock early so that multiple threads can perform the call\u001b[39;00m\n\u001b[1;32m    929\u001b[0m   \u001b[39m# in parallel.\u001b[39;00m\n\u001b[1;32m    930\u001b[0m   \u001b[39mself\u001b[39m\u001b[39m.\u001b[39m_lock\u001b[39m.\u001b[39mrelease()\n",
      "File \u001b[0;32m~/miniconda3/envs/tf/lib/python3.9/site-packages/tensorflow/python/eager/polymorphic_function/tracing_compiler.py:143\u001b[0m, in \u001b[0;36mTracingCompiler.__call__\u001b[0;34m(self, *args, **kwargs)\u001b[0m\n\u001b[1;32m    140\u001b[0m \u001b[39mwith\u001b[39;00m \u001b[39mself\u001b[39m\u001b[39m.\u001b[39m_lock:\n\u001b[1;32m    141\u001b[0m   (concrete_function,\n\u001b[1;32m    142\u001b[0m    filtered_flat_args) \u001b[39m=\u001b[39m \u001b[39mself\u001b[39m\u001b[39m.\u001b[39m_maybe_define_function(args, kwargs)\n\u001b[0;32m--> 143\u001b[0m \u001b[39mreturn\u001b[39;00m concrete_function\u001b[39m.\u001b[39;49m_call_flat(\n\u001b[1;32m    144\u001b[0m     filtered_flat_args, captured_inputs\u001b[39m=\u001b[39;49mconcrete_function\u001b[39m.\u001b[39;49mcaptured_inputs)\n",
      "File \u001b[0;32m~/miniconda3/envs/tf/lib/python3.9/site-packages/tensorflow/python/eager/polymorphic_function/monomorphic_function.py:1757\u001b[0m, in \u001b[0;36mConcreteFunction._call_flat\u001b[0;34m(self, args, captured_inputs, cancellation_manager)\u001b[0m\n\u001b[1;32m   1753\u001b[0m possible_gradient_type \u001b[39m=\u001b[39m gradients_util\u001b[39m.\u001b[39mPossibleTapeGradientTypes(args)\n\u001b[1;32m   1754\u001b[0m \u001b[39mif\u001b[39;00m (possible_gradient_type \u001b[39m==\u001b[39m gradients_util\u001b[39m.\u001b[39mPOSSIBLE_GRADIENT_TYPES_NONE\n\u001b[1;32m   1755\u001b[0m     \u001b[39mand\u001b[39;00m executing_eagerly):\n\u001b[1;32m   1756\u001b[0m   \u001b[39m# No tape is watching; skip to running the function.\u001b[39;00m\n\u001b[0;32m-> 1757\u001b[0m   \u001b[39mreturn\u001b[39;00m \u001b[39mself\u001b[39m\u001b[39m.\u001b[39m_build_call_outputs(\u001b[39mself\u001b[39;49m\u001b[39m.\u001b[39;49m_inference_function\u001b[39m.\u001b[39;49mcall(\n\u001b[1;32m   1758\u001b[0m       ctx, args, cancellation_manager\u001b[39m=\u001b[39;49mcancellation_manager))\n\u001b[1;32m   1759\u001b[0m forward_backward \u001b[39m=\u001b[39m \u001b[39mself\u001b[39m\u001b[39m.\u001b[39m_select_forward_and_backward_functions(\n\u001b[1;32m   1760\u001b[0m     args,\n\u001b[1;32m   1761\u001b[0m     possible_gradient_type,\n\u001b[1;32m   1762\u001b[0m     executing_eagerly)\n\u001b[1;32m   1763\u001b[0m forward_function, args_with_tangents \u001b[39m=\u001b[39m forward_backward\u001b[39m.\u001b[39mforward()\n",
      "File \u001b[0;32m~/miniconda3/envs/tf/lib/python3.9/site-packages/tensorflow/python/eager/polymorphic_function/monomorphic_function.py:381\u001b[0m, in \u001b[0;36m_EagerDefinedFunction.call\u001b[0;34m(self, ctx, args, cancellation_manager)\u001b[0m\n\u001b[1;32m    379\u001b[0m \u001b[39mwith\u001b[39;00m _InterpolateFunctionError(\u001b[39mself\u001b[39m):\n\u001b[1;32m    380\u001b[0m   \u001b[39mif\u001b[39;00m cancellation_manager \u001b[39mis\u001b[39;00m \u001b[39mNone\u001b[39;00m:\n\u001b[0;32m--> 381\u001b[0m     outputs \u001b[39m=\u001b[39m execute\u001b[39m.\u001b[39;49mexecute(\n\u001b[1;32m    382\u001b[0m         \u001b[39mstr\u001b[39;49m(\u001b[39mself\u001b[39;49m\u001b[39m.\u001b[39;49msignature\u001b[39m.\u001b[39;49mname),\n\u001b[1;32m    383\u001b[0m         num_outputs\u001b[39m=\u001b[39;49m\u001b[39mself\u001b[39;49m\u001b[39m.\u001b[39;49m_num_outputs,\n\u001b[1;32m    384\u001b[0m         inputs\u001b[39m=\u001b[39;49margs,\n\u001b[1;32m    385\u001b[0m         attrs\u001b[39m=\u001b[39;49mattrs,\n\u001b[1;32m    386\u001b[0m         ctx\u001b[39m=\u001b[39;49mctx)\n\u001b[1;32m    387\u001b[0m   \u001b[39melse\u001b[39;00m:\n\u001b[1;32m    388\u001b[0m     outputs \u001b[39m=\u001b[39m execute\u001b[39m.\u001b[39mexecute_with_cancellation(\n\u001b[1;32m    389\u001b[0m         \u001b[39mstr\u001b[39m(\u001b[39mself\u001b[39m\u001b[39m.\u001b[39msignature\u001b[39m.\u001b[39mname),\n\u001b[1;32m    390\u001b[0m         num_outputs\u001b[39m=\u001b[39m\u001b[39mself\u001b[39m\u001b[39m.\u001b[39m_num_outputs,\n\u001b[0;32m   (...)\u001b[0m\n\u001b[1;32m    393\u001b[0m         ctx\u001b[39m=\u001b[39mctx,\n\u001b[1;32m    394\u001b[0m         cancellation_manager\u001b[39m=\u001b[39mcancellation_manager)\n",
      "File \u001b[0;32m~/miniconda3/envs/tf/lib/python3.9/site-packages/tensorflow/python/eager/execute.py:52\u001b[0m, in \u001b[0;36mquick_execute\u001b[0;34m(op_name, num_outputs, inputs, attrs, ctx, name)\u001b[0m\n\u001b[1;32m     50\u001b[0m \u001b[39mtry\u001b[39;00m:\n\u001b[1;32m     51\u001b[0m   ctx\u001b[39m.\u001b[39mensure_initialized()\n\u001b[0;32m---> 52\u001b[0m   tensors \u001b[39m=\u001b[39m pywrap_tfe\u001b[39m.\u001b[39;49mTFE_Py_Execute(ctx\u001b[39m.\u001b[39;49m_handle, device_name, op_name,\n\u001b[1;32m     53\u001b[0m                                       inputs, attrs, num_outputs)\n\u001b[1;32m     54\u001b[0m \u001b[39mexcept\u001b[39;00m core\u001b[39m.\u001b[39m_NotOkStatusException \u001b[39mas\u001b[39;00m e:\n\u001b[1;32m     55\u001b[0m   \u001b[39mif\u001b[39;00m name \u001b[39mis\u001b[39;00m \u001b[39mnot\u001b[39;00m \u001b[39mNone\u001b[39;00m:\n",
      "\u001b[0;31mKeyboardInterrupt\u001b[0m: "
     ]
    }
   ],
   "source": [
    "# load weights instead of retraining\n",
    "history = model.fit([X, a0, c0], list(Y), epochs=30, callbacks=[tensorboard_callback, cp_callback], validation_split=0.2)\n",
    "# model.load_weights('DeepRouteSet_medium.h5')"
   ]
  },
  {
   "cell_type": "code",
   "execution_count": 78,
   "metadata": {},
   "outputs": [
    {
     "data": {
      "image/png": "[encoded data removed]",
      "text/plain": [
       "<Figure size 1000x800 with 1 Axes>"
      ]
     },
     "metadata": {},
     "output_type": "display_data"
    }
   ],
   "source": [
    "def plot_history(history, model_name, acc=False):\n",
    "    \"\"\"\n",
    "    Plot the training history of the model\n",
    "    \"\"\"\n",
    "    # Plot training & validation accuracy values\n",
    "    loss = history.history['loss']\n",
    "    val_loss = history.history['val_loss']\n",
    "    if acc:\n",
    "        acc = history.history['sparse_categorical_accuracy']\n",
    "        val_acc = history.history['val_sparse_categorical_accuracy']\n",
    "\n",
    "    _, axes = plt.subplots(nrows = 1, ncols = (2 if acc else 1), figsize=(10, 8))\n",
    "    ax1 = axes[0] if acc else axes\n",
    "    ax1.plot(loss)\n",
    "    ax1.plot(val_loss)\n",
    "    ax1.set_title('Loss of ' + model_name)\n",
    "    ax1.set_ylabel('Loss')\n",
    "    ax1.set_xlabel('Epoch')\n",
    "    ax1.legend(['Train', 'Val'], loc='upper left')\n",
    "\n",
    "    if acc:\n",
    "        axes[1].plot(acc)\n",
    "        axes[1].plot(val_acc)\n",
    "        axes[1].set_title('Accuracy of '+ model_name)\n",
    "        axes[1].set_ylabel('Accuracy')\n",
    "        axes[1].set_xlabel('Epoch')\n",
    "        axes[1].legend(['Train', 'Val'], loc='upper left')\n",
    "    plt.tight_layout()\n",
    "\n",
    "plot_history(history, \"DeepRouteSet\")\n"
   ]
  },
  {
   "cell_type": "code",
   "execution_count": 67,
   "metadata": {},
   "outputs": [],
   "source": [
    "# TODO: loss is improving following a similar curve to normal but accuracy is not right, revaluate\n"
   ]
  },
  {
   "cell_type": "code",
   "execution_count": null,
   "metadata": {},
   "outputs": [
    {
     "data": {
      "text/plain": [
       "PosixPath('/mnt/c/Users/valsp/source/repos/MoonBoardRNN/model/checkpoints/DeepRouteSet/epoch02-loss31.33.h5')"
      ]
     },
     "metadata": {},
     "output_type": "display_data"
    }
   ],
   "source": [
    "best_cp = sorted(checkpoint_path.parent.glob(\"*.h5\"), key=lambda p: float(p.stem.split(\"-\")[1][4:]))[0]\n",
    "model.load_weights(best_cp)"
   ]
  },
  {
   "attachments": {},
   "cell_type": "markdown",
   "metadata": {},
   "source": [
    "## 3 - Generating moonboard problem\n",
    "\n",
    "We already have trained model which has learned the patterns of climbing move and route set spirit. Lets now use this model to synthesize new route.\n",
    "Importantly we reuse the `LSTM_cell` and `densor` layers from the model we trained.\n",
    "\n",
    "### 3.1 - The inference model\n",
    "\n",
    "At each step of sampling:\n",
    "* Take as input the activation '`a`' and cell state '`c`' from the previous state of the LSTM.\n",
    "* Forward propagate by one step.\n",
    "* Get a new output activation as well as cell state. \n",
    "* The new activation '`a`' can then be used to generate the output using the fully connected layer, `densor`. \n"
   ]
  },
  {
   "attachments": {},
   "cell_type": "markdown",
   "metadata": {},
   "source": [
    "* Sample x to be the one-hot version of '`out`'. \n",
    "* This allows you to pass it to the next LSTM's step.  \n",
    "* use the add_one function inside of the Lambda function\n",
    "```py\n",
    "result = Lambda(add_one)(input_var)\n",
    "```"
   ]
  },
  {
   "cell_type": "code",
   "execution_count": 29,
   "metadata": {},
   "outputs": [],
   "source": [
    "# TODO: change this so that the lambda layer is either not required or the functions are somehow included with the saved model\n",
    "def deepRouteSetPred(LSTM_cell, densor, n_values = n_values, n_a = 64, Ty = 12):\n",
    "    \"\"\"\n",
    "    Uses the trained \"LSTM_cell\" and \"densor\" from model() to generate a sequence of values.\n",
    "    \n",
    "    Arguments:\n",
    "    LSTM_cell -- the trained \"LSTM_cell\" from model(), Keras layer object\n",
    "    densor -- the trained \"densor\" from model(), Keras layer object\n",
    "    n_values -- integer, number of unique values\n",
    "    n_a -- number of units in the LSTM_cell\n",
    "    Ty -- integer, number of time steps to generate\n",
    "    \n",
    "    Returns:\n",
    "    inference_model -- Keras model instance\n",
    "    \"\"\"\n",
    "    # TODO: replace this lambda function with actual layers\n",
    "    def one_hot(x):\n",
    "        x = argmax(x)\n",
    "        x = tf.one_hot(x, n_values) \n",
    "        x = RepeatVector(1)(x)\n",
    "        return x\n",
    "    \n",
    "    # Define the input of your model with a shape \n",
    "    x0 = Input(shape=(1, n_values))\n",
    "    \n",
    "    # Define s0, initial hidden state for the decoder LSTM\n",
    "    a0 = Input(shape=(n_a,), name='a0')\n",
    "    c0 = Input(shape=(n_a,), name='c0')\n",
    "    a = a0\n",
    "    c = c0\n",
    "    x = x0\n",
    "\n",
    "    # Step 1: Create an empty list of \"outputs\" to later store your predicted values\n",
    "    outputs = []\n",
    "    \n",
    "    # Step 2: Loop over Ty and generate a value at every time step\n",
    "    for t in range(Ty):\n",
    "        \n",
    "        # Step 2.A: Perform one step of LSTM_cell\n",
    "        # TODO: this is using the same LSTM_cell for all time steps?\n",
    "        a, _, c = LSTM_cell(x, initial_state=[a, c])\n",
    "        \n",
    "        # Step 2.B: Apply Dense layer to the hidden state output of the LSTM_cell\n",
    "        out = densor(a)\n",
    "\n",
    "        # Step 2.C: Append the prediction \"out\" to \"outputs\". out.shape = (None, n_values)\n",
    "        outputs.append(out)\n",
    "        \n",
    "        # Step 2.D: \n",
    "        # Select the next value according to \"out\",\n",
    "        # Set \"x\" to be the one-hot representation of the selected value\n",
    "        # See instructions above.\n",
    "        x = Lambda(one_hot)(out)\n",
    "        \n",
    "        \n",
    "    # Step 3: Create model instance with the correct \"inputs\" and \"outputs\"\n",
    "    return Model(inputs = [x0, a0, c0], outputs = outputs)\n"
   ]
  },
  {
   "cell_type": "code",
   "execution_count": 1,
   "metadata": {},
   "outputs": [],
   "source": [
    "print(LSTM_cell.get_config(), LSTM_cell.get_weights())\n",
    "print(densor.get_config(), densor.get_weights())"
   ]
  },
  {
   "cell_type": "code",
   "execution_count": 31,
   "metadata": {},
   "outputs": [],
   "source": [
    "# Create inference model with reuses the trained LSTM_cell and densor from model()\n",
    "inference_model = deepRouteSetPred(LSTM_cell, densor, n_values = n_values, n_a = n_a, Ty = 12)\n",
    "# load saved weights\n",
    "inference_model.load_weights('DeepRouteSet_medium.h5')\n",
    "# Check the inference model\n",
    "# inference_model.summary()"
   ]
  },
  {
   "attachments": {},
   "cell_type": "markdown",
   "metadata": {},
   "source": [
    "### 3.2 - Saving the model"
   ]
  },
  {
   "cell_type": "code",
   "execution_count": 32,
   "metadata": {},
   "outputs": [
    {
     "name": "stdout",
     "output_type": "stream",
     "text": [
      "WARNING:tensorflow:Compiled the loaded model, but the compiled metrics have yet to be built. `model.compile_metrics` will be empty until you train or evaluate the model.\n"
     ]
    },
    {
     "name": "stderr",
     "output_type": "stream",
     "text": [
      "WARNING:absl:Found untraced functions such as lstm_cell_layer_call_fn, lstm_cell_layer_call_and_return_conditional_losses while saving (showing 2 of 2). These functions will not be directly callable after loading.\n"
     ]
    },
    {
     "name": "stdout",
     "output_type": "stream",
     "text": [
      "INFO:tensorflow:Assets written to: /mnt/c/Users/valsp/source/repos/MoonBoardRNN/model/DeepRouteSet/assets\n"
     ]
    },
    {
     "name": "stderr",
     "output_type": "stream",
     "text": [
      "INFO:tensorflow:Assets written to: /mnt/c/Users/valsp/source/repos/MoonBoardRNN/model/DeepRouteSet/assets\n"
     ]
    }
   ],
   "source": [
    "# create DeepRouteSet directory if it doesn't exist\n",
    "model_dir = cwd / 'DeepRouteSet'\n",
    "if not model_dir.exists():\n",
    "    model_dir.mkdir()\n",
    "\n",
    "# save the complete inference model architecture and weights\n",
    "inference_model.save(model_dir, include_optimizer=False)"
   ]
  }
 ],
 "metadata": {
  "coursera": {
   "course_slug": "nlp-sequence-models",
   "graded_item_id": "EG0F7",
   "launcher_item_id": "cxJXc"
  },
  "kernelspec": {
   "display_name": "moonboardrnn-hW4ed92X-py3.8",
   "language": "python",
   "name": "python3"
  },
  "language_info": {
   "codemirror_mode": {
    "name": "ipython",
    "version": 3
   },
   "file_extension": ".py",
   "mimetype": "text/x-python",
   "name": "python",
   "nbconvert_exporter": "python",
   "pygments_lexer": "ipython3",
   "version": "3.9.16"
  },
  "vscode": {
   "interpreter": {
    "hash": "8d257aaba97b534713eafa91609455863fac8d9daac4f63bd3ddeb8aecd89a62"
   }
  }
 },
 "nbformat": 4,
 "nbformat_minor": 4
}

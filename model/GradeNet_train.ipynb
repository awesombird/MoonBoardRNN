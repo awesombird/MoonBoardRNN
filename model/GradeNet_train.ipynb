{
 "cells": [
  {
   "cell_type": "code",
   "execution_count": 61,
   "metadata": {},
   "outputs": [],
   "source": [
    "from os import environ\n",
    "environ['TF_CPP_MIN_LOG_LEVEL'] = '1'\n",
    "environ[\"XLA_FLAGS\"] = \"--xla_gpu_cuda_data_dir=/home/valsp/miniconda3/envs/tf/lib\"\n"
   ]
  },
  {
   "cell_type": "code",
   "execution_count": 62,
   "metadata": {},
   "outputs": [
    {
     "name": "stdout",
     "output_type": "stream",
     "text": [
      "The autoreload extension is already loaded. To reload it, use:\n",
      "  %reload_ext autoreload\n"
     ]
    }
   ],
   "source": [
    "import numpy as np\n",
    "import pickle\n",
    "import tensorflow as tf\n",
    "from tensorflow.keras.models import Model\n",
    "from tensorflow.keras.layers import Input, Activation, Dense, Flatten, LSTM, Masking, Attention, Concatenate, MultiHeadAttention, Dropout, BatchNormalization, LayerNormalization, Softmax\n",
    "from tensorflow.keras.losses import SparseCategoricalCrossentropy, MeanSquaredError\n",
    "from tensorflow.keras.metrics import RootMeanSquaredError, binary_accuracy, categorical_accuracy\n",
    "from tensorflow.keras.callbacks import TensorBoard, ModelCheckpoint, EarlyStopping\n",
    "from tensorflow.keras.optimizers import AdamW\n",
    "from tensorflow.keras import backend as K\n",
    "from model_helper import *\n",
    "from pathlib import Path\n",
    "from datetime import datetime\n",
    "\n",
    "# autoreload\n",
    "%load_ext autoreload\n",
    "%autoreload 2\n"
   ]
  },
  {
   "cell_type": "markdown",
   "metadata": {},
   "source": [
    "## 1. Load in dataset"
   ]
  },
  {
   "cell_type": "code",
   "execution_count": 63,
   "metadata": {},
   "outputs": [],
   "source": [
    "cwd = Path().cwd()"
   ]
  },
  {
   "cell_type": "code",
   "execution_count": 80,
   "metadata": {},
   "outputs": [],
   "source": [
    "with open(cwd.parent / \"preprocessing\" / \"new_data\" / \"training_seq_n_12_rmrp0\", \"rb\") as f:\n",
    "    train_data = pickle.load(f)\n",
    "with open(cwd.parent / \"preprocessing\" / \"new_data\" / \"dev_seq_n_12_rmrp0\", \"rb\") as f:\n",
    "    val_data = pickle.load(f)\n",
    "with open(cwd.parent / \"preprocessing\" / \"new_data\" / \"test_seq_n_12_rmrp0\", \"rb\") as f:\n",
    "    test_data = pickle.load(f)"
   ]
  },
  {
   "cell_type": "code",
   "execution_count": 81,
   "metadata": {},
   "outputs": [
    {
     "name": "stdout",
     "output_type": "stream",
     "text": [
      "X_train shape: (42598, 12, 22)\n",
      "Y_train shape: (42598, 1)\n",
      "X_val shape: (3000, 12, 22)\n",
      "Y_val shape: (3000, 1)\n",
      "X_test shape: (3000, 12, 22)\n",
      "Y_test shape: (3000, 1)\n"
     ]
    }
   ],
   "source": [
    "X_train = np.array(train_data[\"X\"])\n",
    "print(f\"X_train shape: {X_train.shape}\")\n",
    "Y_train = np.array(train_data[\"Y\"]).reshape(-1, 1)\n",
    "print(f\"Y_train shape: {Y_train.shape}\")\n",
    "X_val = np.array(val_data[\"X\"])\n",
    "print(f\"X_val shape: {X_val.shape}\")\n",
    "Y_val = np.array(val_data[\"Y\"]).reshape(-1, 1)\n",
    "print(f\"Y_val shape: {Y_val.shape}\")\n",
    "X_test = np.array(test_data[\"X\"])\n",
    "print(f\"X_test shape: {X_test.shape}\")\n",
    "Y_test = np.array(test_data[\"Y\"]).reshape(-1, 1)\n",
    "print(f\"Y_test shape: {Y_test.shape}\")"
   ]
  },
  {
   "cell_type": "code",
   "execution_count": 82,
   "metadata": {},
   "outputs": [
    {
     "data": {
      "image/png": "[encoded data removed]",
      "text/plain": [
       "<Figure size 640x480 with 1 Axes>"
      ]
     },
     "metadata": {},
     "output_type": "display_data"
    }
   ],
   "source": [
    "plt.hist(Y_train+4, color=\"red\", alpha=0.33, label=\"train\")\n",
    "plt.hist(Y_val+4, color=\"green\", alpha=0.33, label=\"val\")\n",
    "plt.hist(Y_test+4, color=\"blue\", alpha=0.33, label=\"test\")\n",
    "plt.legend()\n",
    "plt.show()\n"
   ]
  },
  {
   "cell_type": "markdown",
   "metadata": {},
   "source": [
    "## 2. Define GradeNet Model"
   ]
  },
  {
   "cell_type": "code",
   "execution_count": 83,
   "metadata": {},
   "outputs": [],
   "source": [
    "# def GradeNet(n_holds=12):\n",
    "#     \"\"\"Creates a keras model for the GradeNet architecture\n",
    "\n",
    "#     Returns:\n",
    "#         Model: GradeNet model\n",
    "#     \"\"\"\n",
    "#     inputs = Input(shape=(n_holds, 22))\n",
    "#     mask = Masking(mask_value=0.0).compute_mask(inputs)\n",
    "#     lstm0 = LSTM(\n",
    "#         20,\n",
    "#         activation=\"tanh\",\n",
    "#         input_shape=(n_holds, 22),\n",
    "#         kernel_initializer=\"glorot_normal\",\n",
    "#         return_sequences=\"True\",\n",
    "#     )(inputs, mask=mask)\n",
    "\n",
    "#     attention = Attention()([lstm0, lstm0])\n",
    "#     attended_sequence = Concatenate()([lstm0, attention])\n",
    "\n",
    "#     dense1 = Dense(100, activation=\"relu\", kernel_initializer=\"glorot_normal\")(attended_sequence)\n",
    "#     dense2 = Dense(80, activation=\"relu\", kernel_initializer=\"glorot_normal\")(dense1)\n",
    "#     dense3 = Dense(75, activation=\"relu\", kernel_initializer=\"glorot_normal\")(dense2)\n",
    "#     dense4 = Dense(50, activation=\"relu\", kernel_initializer=\"glorot_normal\")(dense3)\n",
    "#     dense5 = Dense(20, activation=\"relu\", kernel_initializer=\"glorot_normal\")(dense4)\n",
    "#     dense6 = Dense(10, activation=\"relu\", kernel_initializer=\"glorot_normal\")(dense5)\n",
    "#     # flat = Flatten()(dense6)\n",
    "#     # intermediate = Dense(1, name=\"intermediate\")(flat)\n",
    "#     lstm1 = LSTM(\n",
    "#         20, activation=\"tanh\", kernel_initializer=\"glorot_normal\", return_sequences=True\n",
    "#     )(dense6)\n",
    "#     lstm2 = LSTM(20, activation=\"tanh\", kernel_initializer=\"glorot_normal\")(lstm1)\n",
    "#     dense7 = Dense(15, activation=\"relu\", kernel_initializer=\"glorot_normal\")(lstm2)\n",
    "#     dense8 = Dense(15, activation=\"relu\", kernel_initializer=\"glorot_normal\")(dense7)\n",
    "#     out = Dense(1, name=\"out\")(dense8)\n",
    "\n",
    "#     # return Model(inputs=[inputs], outputs=[out, intermediate])\n",
    "#     return Model(inputs=[inputs], outputs=[out])"
   ]
  },
  {
   "cell_type": "code",
   "execution_count": 84,
   "metadata": {},
   "outputs": [],
   "source": [
    "# # Similar model using branching\n",
    "\n",
    "# def GradeNet(n_holds=12):\n",
    "#     \"\"\"Creates a keras model for the GradeNet architecture\n",
    "\n",
    "#     Returns:\n",
    "#         Model: GradeNet model\n",
    "#     \"\"\"\n",
    "#     # Define inputs\n",
    "#     inputs = Input(shape=(n_holds, 22))\n",
    "#     mask = Masking(mask_value=0.0).compute_mask(inputs)\n",
    "\n",
    "#     # Define shared layers\n",
    "#     lstm0 = LSTM(\n",
    "#         20, activation=\"tanh\", input_shape=(n_holds, 22), kernel_initializer=\"glorot_normal\", return_sequences=\"True\",\n",
    "#     )(inputs, mask=mask)\n",
    "\n",
    "#     # Use self-attention to get a weighted sum of the input sequence\n",
    "#     attention = Attention()([inputs, inputs])\n",
    "\n",
    "#     # Concatenate the weighted sum with the input sequence\n",
    "#     attended_sequence = Concatenate()([inputs, attention])\n",
    "\n",
    "#     # Define the shared dense layers\n",
    "#     dense1 = Dense(100, activation=\"relu\", kernel_initializer=\"glorot_normal\")(attended_sequence)\n",
    "#     dense2 = Dense(80, activation=\"relu\", kernel_initializer=\"glorot_normal\")(dense1)\n",
    "#     dense3 = Dense(75, activation=\"relu\", kernel_initializer=\"glorot_normal\")(dense2)\n",
    "#     dense4 = Dense(50, activation=\"relu\", kernel_initializer=\"glorot_normal\")(dense3)\n",
    "#     dense5 = Dense(20, activation=\"relu\", kernel_initializer=\"glorot_normal\")(dense4)\n",
    "#     dense6 = Dense(10, activation=\"relu\", kernel_initializer=\"glorot_normal\")(dense5)\n",
    "\n",
    "#     # Define the shared LSTM layers\n",
    "#     lstm1 = LSTM(\n",
    "#         20, activation=\"tanh\", kernel_initializer=\"glorot_normal\", return_sequences=True\n",
    "#     )(dense6)\n",
    "#     lstm2 = LSTM(20, activation=\"tanh\", kernel_initializer=\"glorot_normal\")(lstm1)\n",
    "#     dense7 = Dense(15, activation=\"relu\", kernel_initializer=\"glorot_normal\")(lstm2)\n",
    "#     dense8 = Dense(15, activation=\"relu\", kernel_initializer=\"glorot_normal\")(dense7)\n",
    "\n",
    "#     # Define the output layers\n",
    "#     out = Dense(1, name=\"out\")(dense8)\n",
    "\n",
    "#     # return Model(inputs=[inputs], outputs=[out, intermediate])\n",
    "#     return Model(inputs=[inputs], outputs=[out])"
   ]
  },
  {
   "cell_type": "code",
   "execution_count": 98,
   "metadata": {},
   "outputs": [],
   "source": [
    "import sys\n",
    "\n",
    "\n",
    "n_holds = 12\n",
    "\n",
    "# Creates a keras model for the GradeNet architecture\n",
    "inputs = Input(shape=(n_holds, 22))\n",
    "\n",
    "mask = Masking(mask_value=0.0).compute_mask(inputs)\n",
    "lstm0 = LSTM(\n",
    "    20,\n",
    "    activation=\"tanh\",\n",
    "    input_shape=(n_holds, 22),\n",
    "    kernel_initializer=\"glorot_normal\",\n",
    "    return_sequences=\"True\",\n",
    ")(inputs, mask=mask)\n",
    "\n",
    "# Use transformer layer to get a weighted sum of the input sequence\n",
    "attention = Attention()([inputs, inputs])\n",
    "\n",
    "# Concatenate the weighted sum with the input sequence\n",
    "concat = Concatenate()([inputs, attention])\n",
    "\n",
    "\n",
    "dense1 = Dense(100, activation=\"relu\", kernel_initializer=\"glorot_normal\")(concat)\n",
    "dense2 = Dense(80, activation=\"relu\", kernel_initializer=\"glorot_normal\")(dense1)\n",
    "dense3 = Dense(75, activation=\"relu\", kernel_initializer=\"glorot_normal\")(dense2)\n",
    "dense4 = Dense(50, activation=\"relu\", kernel_initializer=\"glorot_normal\")(dense3)\n",
    "dense5 = Dense(20, activation=\"relu\", kernel_initializer=\"glorot_normal\")(dense4)\n",
    "dense6 = Dense(10, activation=\"relu\", kernel_initializer=\"glorot_normal\")(dense5)\n",
    "\n",
    "# flat = Flatten()(dense6)\n",
    "# intermediate = Dense(1, name=\"intermediate\")(flat)\n",
    "\n",
    "lstm1 = LSTM(\n",
    "    20, activation=\"tanh\", kernel_initializer=\"glorot_normal\", return_sequences=True\n",
    ")(dense6)\n",
    "lstm2 = LSTM(20, activation=\"tanh\", kernel_initializer=\"glorot_normal\")(lstm1)\n",
    "dense7 = Dense(15, activation=\"relu\", kernel_initializer=\"glorot_normal\")(lstm2)\n",
    "dense8 = Dense(15, activation=\"relu\", kernel_initializer=\"glorot_normal\")(dense7)\n",
    "# softmax = Dense(10, activation=\"softmax\", name=\"softmax\")(dense8)\n",
    "out = Dense(1, name=\"out\")(dense8)\n",
    "\n",
    "# return Model(inputs=[inputs], outputs=[out, intermediate])\n",
    "model = Model(inputs=[inputs], outputs=[out])\n",
    "\n",
    "# def custom_loss():\n",
    "#     # return MeanSquaredError()\n",
    "#     def weighted_mse(y_true, y_pred):\n",
    "#         print(type(y_true))  # <class 'tensorflow.python.framework.ops.SymbolicTensor'>\n",
    "#         print(y_true.shape)  # (None, 1)\n",
    "#         print(\n",
    "#             f\"true values: {y_true}\"\n",
    "#         )  # true values: Tensor(\"IteratorGetNext:1\", shape=(None, 1), dtype=float32)\n",
    "#         # print the actual values\n",
    "#         print(f\"true values: {K.eval(y_true)}\")\n",
    "\n",
    "#         return K.mean(K.square(y_pred - y_true) * grade_weights[y_true])\n",
    "\n",
    "#     return weighted_mse\n",
    "\n",
    "# grade_weights = {0: 1, 1: 1, 2: 2, 3: 4, 4: 1, 5: 4, 6: 8, 7: 8, 8: 8, 9: 8}\n",
    "# tf equivalent\n",
    "# grade_weights = tf.constant([1, 1, 2, 4, 1, 4, 8, 8, 8, 8], dtype=tf.float32)\n",
    "\n",
    "# class CustomLoss():\n",
    "#     def __init__(self, grade_weights):\n",
    "#         self.grade_weights = grade_weights\n",
    "\n",
    "#     def __call__(self, y_true, y_pred):\n",
    "#         # get_raw_integer =\n",
    "#         return K.mean(K.square(y_pred - y_true) * self.grade_weights[next(iter(y_true))])"
   ]
  },
  {
   "cell_type": "code",
   "execution_count": 99,
   "metadata": {},
   "outputs": [],
   "source": [
    "BATCH_SIZE = 256\n"
   ]
  },
  {
   "cell_type": "code",
   "execution_count": 100,
   "metadata": {},
   "outputs": [],
   "source": [
    "# from tensorflow_addons.optimizers import CyclicalLearningRate\n",
    "\n",
    "# step_size = 2 * len(X_train) // 32\n",
    "# cyclical_learning_rate = CyclicalLearningRate(\n",
    "#     initial_learning_rate=3e-7,\n",
    "#     maximal_learning_rate=3e-5,\n",
    "#     step_size=step_size,\n",
    "#     scale_fn=lambda x: 1 / (2.0 ** (x - 1)),\n",
    "#     scale_mode=\"cycle\",\n",
    "# )"
   ]
  },
  {
   "cell_type": "code",
   "execution_count": 101,
   "metadata": {},
   "outputs": [],
   "source": [
    "def one_off_accuracy(y_true, y_pred):\n",
    "    \"\"\"Computes the accuracy of a grade prediction including +/-1 errors\n",
    "\n",
    "    Args:\n",
    "        y_true: true grades\n",
    "        y_pred: predicted grades\n",
    "    \"\"\"\n",
    "    return tf.reduce_mean(tf.cast(abs(y_true - tf.math.round(y_pred)) <= 1, tf.float32))\n"
   ]
  },
  {
   "cell_type": "code",
   "execution_count": 102,
   "metadata": {},
   "outputs": [],
   "source": [
    "# # TODO: re-enable custom loss, trying to get it to equal sum of intermediate and final loss\n",
    "# def custom_loss(y_true, y_pred):\n",
    "#     \"\"\"Custom loss function with averages the final and interdiate (prior to lstm) losses\"\"\"\n",
    "#     # TODO: what is the distinct benefit of intermediate loss for our use model\n",
    "#     # Improved optimization: By including an additional cross-entropy loss at an intermediate layer, we provide the network with more information about the error signal and can help to prevent vanishing gradients, which can occur in deep networks. This can lead to more stable and efficient optimization during training.\n",
    "#     # Better representation learning: Cross-entropy loss at an intermediate layer can encourage the network to learn better representations of the input data, which can improve the accuracy of the final predictions. This is because the intermediate layer may capture more complex and abstract features of the input data, which can be useful for discriminating between different classes.\n",
    "#     # Regularization: Including an intermediate cross-entropy loss can also act as a form of regularization, by encouraging the network to learn representations that are more useful for classification. This can prevent overfitting and improve the generalization performance of the network.\n",
    "\n",
    "#     # sparse cross entropy is used as y_true is encoded as integers not one-hot vectors\n",
    "#     # returns cross entropy for each prediction\n",
    "#     intermediate_loss = SparseCategoricalCrossentropy()(y_true, intermediate)\n",
    "#     final_loss = SparseCategoricalCrossentropy()(y_true, y_pred)\n",
    "#     # add the cross entropies and average over the predictions\n",
    "#     return tf.reduce_mean(intermediate_loss + final_loss)\n",
    "\n",
    "# TODO: change one_off_accuracy to a custom metric that can be saved with the model\n",
    "# model = GradeNet()\n",
    "\n",
    "grade_weights = {0: 1, 1: 1, 2: 2, 3: 4, 4: 1, 5: 4, 6: 8, 7: 8, 8: 8, 9: 8}\n",
    "\n",
    "model.compile(\n",
    "    optimizer=AdamW(\n",
    "        learning_rate=0.001,\n",
    "        weight_decay=0.004,\n",
    "        beta_1=0.9,\n",
    "        beta_2=0.999,\n",
    "    ),\n",
    "    loss={\n",
    "        # \"softmax\": tf.keras.losses.SparseCategoricalCrossentropy()\n",
    "        \"out\": MeanSquaredError(),\n",
    "        # \"out\": custom_loss,\n",
    "        # \"intermediate\": MeanSquaredError(),\n",
    "    },\n",
    "    metrics=[RootMeanSquaredError(), one_off_accuracy, binary_accuracy],\n",
    ")"
   ]
  },
  {
   "cell_type": "markdown",
   "metadata": {},
   "source": [
    "## 2-1. Training of GradeNet\n",
    "### To load pretrained weights, please skip to 2-2."
   ]
  },
  {
   "cell_type": "code",
   "execution_count": 103,
   "metadata": {},
   "outputs": [],
   "source": [
    "# tensorboard callback\n",
    "log_dir = cwd / \"logs\" / \"GradeNet\" / datetime.now().strftime(\"%Y%m%d-%H%M%S\")\n",
    "tensorboard_callback = TensorBoard(log_dir=log_dir, histogram_freq=1)\n",
    "\n",
    "# checkpoint callback in case we manually end training early (o/w early stopping should restore best weights)\n",
    "checkpoint_path = (\n",
    "    cwd / \"checkpoints\" / \"GradeNet\" / \"epoch{epoch:02d}-loss{val_loss:.2f}.h5\"\n",
    ")\n",
    "cp_callback = ModelCheckpoint(\n",
    "    filepath=str(checkpoint_path),\n",
    "    save_weights_only=True,\n",
    "    save_best_only=True,\n",
    "    verbose=1,\n",
    ")\n",
    "\n",
    "# early stopping callback\n",
    "es_callback = EarlyStopping(\n",
    "    monitor=\"val_loss\", mode=\"min\", verbose=1, patience=10, restore_best_weights=True\n",
    ")"
   ]
  },
  {
   "cell_type": "code",
   "execution_count": 104,
   "metadata": {
    "scrolled": true
   },
   "outputs": [
    {
     "name": "stdout",
     "output_type": "stream",
     "text": [
      "Epoch 1/25\n",
      "166/167 [============================>.] - ETA: 0s - loss: 2.2597 - root_mean_squared_error: 1.5032 - one_off_accuracy: 0.7747 - binary_accuracy: 0.3586\n",
      "Epoch 1: val_loss improved from inf to 1.18465, saving model to /Users/neil/Local/Dev/cs137_dnn/MoonBoardRNN_old/model/checkpoints/GradeNet/epoch01-loss1.18.h5\n",
      "167/167 [==============================] - 13s 40ms/step - loss: 2.2575 - root_mean_squared_error: 1.5025 - one_off_accuracy: 0.7753 - binary_accuracy: 0.3587 - val_loss: 1.1846 - val_root_mean_squared_error: 1.0884 - val_one_off_accuracy: 0.8548 - val_binary_accuracy: 0.4377\n",
      "Epoch 2/25\n",
      "165/167 [============================>.] - ETA: 0s - loss: 1.1304 - root_mean_squared_error: 1.0632 - one_off_accuracy: 0.8634 - binary_accuracy: 0.4451\n",
      "Epoch 2: val_loss improved from 1.18465 to 1.07802, saving model to /Users/neil/Local/Dev/cs137_dnn/MoonBoardRNN_old/model/checkpoints/GradeNet/epoch02-loss1.08.h5\n",
      "167/167 [==============================] - 5s 28ms/step - loss: 1.1314 - root_mean_squared_error: 1.0637 - one_off_accuracy: 0.8633 - binary_accuracy: 0.4450 - val_loss: 1.0780 - val_root_mean_squared_error: 1.0383 - val_one_off_accuracy: 0.8623 - val_binary_accuracy: 0.4453\n",
      "Epoch 3/25\n",
      "165/167 [============================>.] - ETA: 0s - loss: 1.0855 - root_mean_squared_error: 1.0419 - one_off_accuracy: 0.8699 - binary_accuracy: 0.4505\n",
      "Epoch 3: val_loss did not improve from 1.07802\n",
      "167/167 [==============================] - 4s 25ms/step - loss: 1.0848 - root_mean_squared_error: 1.0416 - one_off_accuracy: 0.8700 - binary_accuracy: 0.4502 - val_loss: 1.1158 - val_root_mean_squared_error: 1.0563 - val_one_off_accuracy: 0.8582 - val_binary_accuracy: 0.4460\n",
      "Epoch 4/25\n",
      "165/167 [============================>.] - ETA: 0s - loss: 1.0631 - root_mean_squared_error: 1.0311 - one_off_accuracy: 0.8741 - binary_accuracy: 0.4493\n",
      "Epoch 4: val_loss improved from 1.07802 to 1.02639, saving model to /Users/neil/Local/Dev/cs137_dnn/MoonBoardRNN_old/model/checkpoints/GradeNet/epoch04-loss1.03.h5\n",
      "167/167 [==============================] - 4s 26ms/step - loss: 1.0644 - root_mean_squared_error: 1.0317 - one_off_accuracy: 0.8736 - binary_accuracy: 0.4491 - val_loss: 1.0264 - val_root_mean_squared_error: 1.0131 - val_one_off_accuracy: 0.8715 - val_binary_accuracy: 0.4753\n",
      "Epoch 5/25\n",
      "165/167 [============================>.] - ETA: 0s - loss: 1.0162 - root_mean_squared_error: 1.0081 - one_off_accuracy: 0.8797 - binary_accuracy: 0.4563\n",
      "Epoch 5: val_loss improved from 1.02639 to 0.99164, saving model to /Users/neil/Local/Dev/cs137_dnn/MoonBoardRNN_old/model/checkpoints/GradeNet/epoch05-loss0.99.h5\n",
      "167/167 [==============================] - 5s 27ms/step - loss: 1.0175 - root_mean_squared_error: 1.0087 - one_off_accuracy: 0.8797 - binary_accuracy: 0.4562 - val_loss: 0.9916 - val_root_mean_squared_error: 0.9958 - val_one_off_accuracy: 0.8770 - val_binary_accuracy: 0.4610\n",
      "Epoch 6/25\n",
      "165/167 [============================>.] - ETA: 0s - loss: 0.9938 - root_mean_squared_error: 0.9969 - one_off_accuracy: 0.8841 - binary_accuracy: 0.4565\n",
      "Epoch 6: val_loss improved from 0.99164 to 0.97723, saving model to /Users/neil/Local/Dev/cs137_dnn/MoonBoardRNN_old/model/checkpoints/GradeNet/epoch06-loss0.98.h5\n",
      "167/167 [==============================] - 5s 28ms/step - loss: 0.9930 - root_mean_squared_error: 0.9965 - one_off_accuracy: 0.8840 - binary_accuracy: 0.4561 - val_loss: 0.9772 - val_root_mean_squared_error: 0.9886 - val_one_off_accuracy: 0.8841 - val_binary_accuracy: 0.4657\n",
      "Epoch 7/25\n",
      "166/167 [============================>.] - ETA: 0s - loss: 0.9804 - root_mean_squared_error: 0.9901 - one_off_accuracy: 0.8841 - binary_accuracy: 0.4571\n",
      "Epoch 7: val_loss did not improve from 0.97723\n",
      "167/167 [==============================] - 5s 31ms/step - loss: 0.9810 - root_mean_squared_error: 0.9905 - one_off_accuracy: 0.8839 - binary_accuracy: 0.4569 - val_loss: 0.9867 - val_root_mean_squared_error: 0.9933 - val_one_off_accuracy: 0.8765 - val_binary_accuracy: 0.4747\n",
      "Epoch 8/25\n",
      "167/167 [==============================] - ETA: 0s - loss: 0.9686 - root_mean_squared_error: 0.9842 - one_off_accuracy: 0.8861 - binary_accuracy: 0.4590\n",
      "Epoch 8: val_loss improved from 0.97723 to 0.96134, saving model to /Users/neil/Local/Dev/cs137_dnn/MoonBoardRNN_old/model/checkpoints/GradeNet/epoch08-loss0.96.h5\n",
      "167/167 [==============================] - 5s 27ms/step - loss: 0.9686 - root_mean_squared_error: 0.9842 - one_off_accuracy: 0.8861 - binary_accuracy: 0.4590 - val_loss: 0.9613 - val_root_mean_squared_error: 0.9805 - val_one_off_accuracy: 0.8800 - val_binary_accuracy: 0.4750\n",
      "Epoch 9/25\n",
      "166/167 [============================>.] - ETA: 0s - loss: 0.9485 - root_mean_squared_error: 0.9739 - one_off_accuracy: 0.8893 - binary_accuracy: 0.4599\n",
      "Epoch 9: val_loss improved from 0.96134 to 0.95198, saving model to /Users/neil/Local/Dev/cs137_dnn/MoonBoardRNN_old/model/checkpoints/GradeNet/epoch09-loss0.95.h5\n",
      "167/167 [==============================] - 5s 31ms/step - loss: 0.9487 - root_mean_squared_error: 0.9740 - one_off_accuracy: 0.8891 - binary_accuracy: 0.4600 - val_loss: 0.9520 - val_root_mean_squared_error: 0.9757 - val_one_off_accuracy: 0.8865 - val_binary_accuracy: 0.4733\n",
      "Epoch 10/25\n",
      "166/167 [============================>.] - ETA: 0s - loss: 0.9455 - root_mean_squared_error: 0.9724 - one_off_accuracy: 0.8896 - binary_accuracy: 0.4598\n",
      "Epoch 10: val_loss improved from 0.95198 to 0.95129, saving model to /Users/neil/Local/Dev/cs137_dnn/MoonBoardRNN_old/model/checkpoints/GradeNet/epoch10-loss0.95.h5\n",
      "167/167 [==============================] - 5s 29ms/step - loss: 0.9459 - root_mean_squared_error: 0.9726 - one_off_accuracy: 0.8896 - binary_accuracy: 0.4597 - val_loss: 0.9513 - val_root_mean_squared_error: 0.9753 - val_one_off_accuracy: 0.8875 - val_binary_accuracy: 0.4660\n",
      "Epoch 11/25\n",
      "165/167 [============================>.] - ETA: 0s - loss: 0.9247 - root_mean_squared_error: 0.9616 - one_off_accuracy: 0.8932 - binary_accuracy: 0.4592\n",
      "Epoch 11: val_loss improved from 0.95129 to 0.93050, saving model to /Users/neil/Local/Dev/cs137_dnn/MoonBoardRNN_old/model/checkpoints/GradeNet/epoch11-loss0.93.h5\n",
      "167/167 [==============================] - 5s 28ms/step - loss: 0.9244 - root_mean_squared_error: 0.9614 - one_off_accuracy: 0.8932 - binary_accuracy: 0.4590 - val_loss: 0.9305 - val_root_mean_squared_error: 0.9646 - val_one_off_accuracy: 0.8947 - val_binary_accuracy: 0.4680\n",
      "Epoch 12/25\n",
      "167/167 [==============================] - ETA: 0s - loss: 0.9174 - root_mean_squared_error: 0.9578 - one_off_accuracy: 0.8938 - binary_accuracy: 0.4607\n",
      "Epoch 12: val_loss improved from 0.93050 to 0.92993, saving model to /Users/neil/Local/Dev/cs137_dnn/MoonBoardRNN_old/model/checkpoints/GradeNet/epoch12-loss0.93.h5\n",
      "167/167 [==============================] - 5s 30ms/step - loss: 0.9174 - root_mean_squared_error: 0.9578 - one_off_accuracy: 0.8938 - binary_accuracy: 0.4607 - val_loss: 0.9299 - val_root_mean_squared_error: 0.9643 - val_one_off_accuracy: 0.8910 - val_binary_accuracy: 0.4700\n",
      "Epoch 13/25\n",
      "166/167 [============================>.] - ETA: 0s - loss: 0.9075 - root_mean_squared_error: 0.9526 - one_off_accuracy: 0.8957 - binary_accuracy: 0.4614\n",
      "Epoch 13: val_loss did not improve from 0.92993\n",
      "167/167 [==============================] - 4s 25ms/step - loss: 0.9075 - root_mean_squared_error: 0.9526 - one_off_accuracy: 0.8957 - binary_accuracy: 0.4612 - val_loss: 0.9356 - val_root_mean_squared_error: 0.9673 - val_one_off_accuracy: 0.8892 - val_binary_accuracy: 0.4783\n",
      "Epoch 14/25\n",
      "166/167 [============================>.] - ETA: 0s - loss: 0.9025 - root_mean_squared_error: 0.9500 - one_off_accuracy: 0.8961 - binary_accuracy: 0.4624\n",
      "Epoch 14: val_loss did not improve from 0.92993\n",
      "167/167 [==============================] - 4s 23ms/step - loss: 0.9028 - root_mean_squared_error: 0.9502 - one_off_accuracy: 0.8958 - binary_accuracy: 0.4622 - val_loss: 0.9315 - val_root_mean_squared_error: 0.9651 - val_one_off_accuracy: 0.8915 - val_binary_accuracy: 0.4747\n",
      "Epoch 15/25\n",
      "166/167 [============================>.] - ETA: 0s - loss: 0.8950 - root_mean_squared_error: 0.9461 - one_off_accuracy: 0.8963 - binary_accuracy: 0.4599\n",
      "Epoch 15: val_loss improved from 0.92993 to 0.92398, saving model to /Users/neil/Local/Dev/cs137_dnn/MoonBoardRNN_old/model/checkpoints/GradeNet/epoch15-loss0.92.h5\n",
      "167/167 [==============================] - 4s 25ms/step - loss: 0.8950 - root_mean_squared_error: 0.9460 - one_off_accuracy: 0.8965 - binary_accuracy: 0.4601 - val_loss: 0.9240 - val_root_mean_squared_error: 0.9612 - val_one_off_accuracy: 0.8941 - val_binary_accuracy: 0.4757\n",
      "Epoch 16/25\n",
      "166/167 [============================>.] - ETA: 0s - loss: 0.8829 - root_mean_squared_error: 0.9396 - one_off_accuracy: 0.8983 - binary_accuracy: 0.4619\n",
      "Epoch 16: val_loss did not improve from 0.92398\n",
      "167/167 [==============================] - 4s 24ms/step - loss: 0.8822 - root_mean_squared_error: 0.9393 - one_off_accuracy: 0.8984 - binary_accuracy: 0.4619 - val_loss: 0.9495 - val_root_mean_squared_error: 0.9744 - val_one_off_accuracy: 0.8840 - val_binary_accuracy: 0.4790\n",
      "Epoch 17/25\n",
      "165/167 [============================>.] - ETA: 0s - loss: 0.8652 - root_mean_squared_error: 0.9302 - one_off_accuracy: 0.9017 - binary_accuracy: 0.4627\n",
      "Epoch 17: val_loss did not improve from 0.92398\n",
      "167/167 [==============================] - 4s 24ms/step - loss: 0.8670 - root_mean_squared_error: 0.9311 - one_off_accuracy: 0.9018 - binary_accuracy: 0.4630 - val_loss: 0.9454 - val_root_mean_squared_error: 0.9723 - val_one_off_accuracy: 0.8906 - val_binary_accuracy: 0.4823\n",
      "Epoch 18/25\n",
      "165/167 [============================>.] - ETA: 0s - loss: 0.8667 - root_mean_squared_error: 0.9310 - one_off_accuracy: 0.9004 - binary_accuracy: 0.4621\n",
      "Epoch 18: val_loss improved from 0.92398 to 0.91552, saving model to /Users/neil/Local/Dev/cs137_dnn/MoonBoardRNN_old/model/checkpoints/GradeNet/epoch18-loss0.92.h5\n",
      "167/167 [==============================] - 4s 23ms/step - loss: 0.8670 - root_mean_squared_error: 0.9311 - one_off_accuracy: 0.9002 - binary_accuracy: 0.4621 - val_loss: 0.9155 - val_root_mean_squared_error: 0.9568 - val_one_off_accuracy: 0.8969 - val_binary_accuracy: 0.4687\n",
      "Epoch 19/25\n",
      "166/167 [============================>.] - ETA: 0s - loss: 0.8557 - root_mean_squared_error: 0.9251 - one_off_accuracy: 0.9030 - binary_accuracy: 0.4642\n",
      "Epoch 19: val_loss did not improve from 0.91552\n",
      "167/167 [==============================] - 4s 25ms/step - loss: 0.8563 - root_mean_squared_error: 0.9254 - one_off_accuracy: 0.9028 - binary_accuracy: 0.4640 - val_loss: 0.9283 - val_root_mean_squared_error: 0.9635 - val_one_off_accuracy: 0.8928 - val_binary_accuracy: 0.4727\n",
      "Epoch 20/25\n",
      "166/167 [============================>.] - ETA: 0s - loss: 0.8492 - root_mean_squared_error: 0.9215 - one_off_accuracy: 0.9016 - binary_accuracy: 0.4631\n",
      "Epoch 20: val_loss did not improve from 0.91552\n",
      "167/167 [==============================] - 5s 27ms/step - loss: 0.8496 - root_mean_squared_error: 0.9217 - one_off_accuracy: 0.9017 - binary_accuracy: 0.4633 - val_loss: 0.9217 - val_root_mean_squared_error: 0.9601 - val_one_off_accuracy: 0.8967 - val_binary_accuracy: 0.4647\n",
      "Epoch 21/25\n",
      "167/167 [==============================] - ETA: 0s - loss: 0.8350 - root_mean_squared_error: 0.9138 - one_off_accuracy: 0.9050 - binary_accuracy: 0.4615\n",
      "Epoch 21: val_loss did not improve from 0.91552\n",
      "167/167 [==============================] - 4s 25ms/step - loss: 0.8350 - root_mean_squared_error: 0.9138 - one_off_accuracy: 0.9050 - binary_accuracy: 0.4615 - val_loss: 0.9313 - val_root_mean_squared_error: 0.9650 - val_one_off_accuracy: 0.8889 - val_binary_accuracy: 0.4787\n",
      "Epoch 22/25\n",
      "165/167 [============================>.] - ETA: 0s - loss: 0.8243 - root_mean_squared_error: 0.9079 - one_off_accuracy: 0.9070 - binary_accuracy: 0.4633\n",
      "Epoch 22: val_loss did not improve from 0.91552\n",
      "167/167 [==============================] - 5s 29ms/step - loss: 0.8256 - root_mean_squared_error: 0.9086 - one_off_accuracy: 0.9073 - binary_accuracy: 0.4633 - val_loss: 0.9433 - val_root_mean_squared_error: 0.9712 - val_one_off_accuracy: 0.8856 - val_binary_accuracy: 0.4650\n",
      "Epoch 23/25\n",
      "166/167 [============================>.] - ETA: 0s - loss: 0.8166 - root_mean_squared_error: 0.9037 - one_off_accuracy: 0.9074 - binary_accuracy: 0.4638\n",
      "Epoch 23: val_loss did not improve from 0.91552\n",
      "167/167 [==============================] - 4s 24ms/step - loss: 0.8159 - root_mean_squared_error: 0.9033 - one_off_accuracy: 0.9078 - binary_accuracy: 0.4639 - val_loss: 0.9262 - val_root_mean_squared_error: 0.9624 - val_one_off_accuracy: 0.8931 - val_binary_accuracy: 0.4693\n",
      "Epoch 24/25\n",
      "166/167 [============================>.] - ETA: 0s - loss: 0.8097 - root_mean_squared_error: 0.8998 - one_off_accuracy: 0.9092 - binary_accuracy: 0.4643\n",
      "Epoch 24: val_loss did not improve from 0.91552\n",
      "167/167 [==============================] - 4s 23ms/step - loss: 0.8103 - root_mean_squared_error: 0.9001 - one_off_accuracy: 0.9088 - binary_accuracy: 0.4645 - val_loss: 1.0293 - val_root_mean_squared_error: 1.0145 - val_one_off_accuracy: 0.8783 - val_binary_accuracy: 0.4747\n",
      "Epoch 25/25\n",
      "166/167 [============================>.] - ETA: 0s - loss: 0.8065 - root_mean_squared_error: 0.8981 - one_off_accuracy: 0.9108 - binary_accuracy: 0.4643\n",
      "Epoch 25: val_loss did not improve from 0.91552\n",
      "167/167 [==============================] - 4s 24ms/step - loss: 0.8066 - root_mean_squared_error: 0.8981 - one_off_accuracy: 0.9108 - binary_accuracy: 0.4642 - val_loss: 0.9325 - val_root_mean_squared_error: 0.9657 - val_one_off_accuracy: 0.8911 - val_binary_accuracy: 0.4757\n"
     ]
    }
   ],
   "source": [
    "# TODO: where do the class weights come from, can we load them from a config?\n",
    "# old {0: 1, 1: 1, 2: 2, 3: 2, 4: 1, 5: 4, 6: 2, 7: 4, 8: 8, 9: 8},\n",
    "# new {0: 1, 1: 1, 2: 2, 3: 4, 4: 1, 5: 4, 6: 8, 7: 8, 8: 8, 9: 8},\n",
    "\n",
    "\n",
    "history = model.fit(\n",
    "    X_train,\n",
    "    (Y_train, Y_train),\n",
    "    validation_data=(X_val, (Y_val, Y_val)),\n",
    "    epochs=25,\n",
    "    batch_size=BATCH_SIZE,\n",
    "    # class_weight=grade_weights,\n",
    "    callbacks=[tensorboard_callback, cp_callback, es_callback],\n",
    ")\n",
    "# model.load_weights('GradeNet.h5')"
   ]
  },
  {
   "cell_type": "code",
   "execution_count": 105,
   "metadata": {},
   "outputs": [
    {
     "name": "stdout",
     "output_type": "stream",
     "text": [
      "dict_keys(['loss', 'root_mean_squared_error', 'one_off_accuracy', 'binary_accuracy', 'val_loss', 'val_root_mean_squared_error', 'val_one_off_accuracy', 'val_binary_accuracy'])\n"
     ]
    }
   ],
   "source": [
    "# plot history from tensorboard log\n",
    "# plot_tb_history(log_dir, \"GradeNet\")\n",
    "print(history.history.keys())"
   ]
  },
  {
   "cell_type": "code",
   "execution_count": 106,
   "metadata": {},
   "outputs": [
    {
     "data": {
      "image/png": "[encoded data removed]",
      "text/plain": [
       "<Figure size 1000x500 with 2 Axes>"
      ]
     },
     "metadata": {},
     "output_type": "display_data"
    }
   ],
   "source": [
    "history_path = cwd / \"GradeNet_train_history\"\n",
    "try:\n",
    "    plot_history(\n",
    "        history,\n",
    "        \"GradeNet\",\n",
    "        # losses=[\"out_loss\", \"intermediate_loss\"],\n",
    "        # metrics=[\"out_binary_accuracy\", \"out_one_off_accuracy\"],\n",
    "        losses=[\"loss\"],#, \"intermediate_loss\"],\n",
    "        metrics=[\"binary_accuracy\", \"one_off_accuracy\"],\n",
    "    )\n",
    "    save_pickle(history, history_path)\n",
    "except NameError:\n",
    "    # if history not defined, load from pickle\n",
    "    with open(history_path, \"rb\") as f:\n",
    "        history = pickle.load(f)\n",
    "    plot_history(\n",
    "        history,\n",
    "        \"GradeNet\",\n",
    "        # losses=[\"out_loss\", \"intermediate_loss\"],\n",
    "        # metrics=[\"out_binary_accuracy\", \"out_one_off_accuracy\"],\n",
    "        losses=[\"loss\"],#, \"intermediate_loss\"],\n",
    "        metrics=[\"binary_accuracy\", \"one_off_accuracy\"],\n",
    "    )"
   ]
  },
  {
   "attachments": {},
   "cell_type": "markdown",
   "metadata": {},
   "source": [
    "| change              | optimal epoch | val_loss   | val_rmse  | val_acc    | val_one_off_acc |\n",
    "| ------------------- | ------------- | ---------- | --------- | ---------- | --------------- |\n",
    "| Adam                | 25            | 0.89241356 | 0.9446764 | 0.46846846 | 0.8890254       |\n",
    "| AdamW               | 21            | 0.89716    | 0.9472    | 0.46150696 | 0.88533986      |\n",
    "| + intermediate loss | 25            | 0.8886     | 0.9427    | 0.4701     | 0.8890          |\n"
   ]
  },
  {
   "cell_type": "code",
   "execution_count": 107,
   "metadata": {},
   "outputs": [
    {
     "data": {
      "text/plain": [
       "PosixPath('/Users/neil/Local/Dev/cs137_dnn/MoonBoardRNN_old/model/checkpoints/GradeNet/epoch18-loss0.92.h5')"
      ]
     },
     "execution_count": 107,
     "metadata": {},
     "output_type": "execute_result"
    }
   ],
   "source": [
    "# load best checkpoint\n",
    "best_cp = sorted(checkpoint_path.parent.glob(\"*.h5\"), key=lambda p: float(p.stem.split(\"-\")[1][4:]))[0]\n",
    "best_cp"
   ]
  },
  {
   "cell_type": "code",
   "execution_count": 108,
   "metadata": {},
   "outputs": [],
   "source": [
    "model.load_weights(best_cp)"
   ]
  },
  {
   "attachments": {},
   "cell_type": "markdown",
   "metadata": {},
   "source": [
    "## 2.2 - Saving the model"
   ]
  },
  {
   "cell_type": "code",
   "execution_count": 109,
   "metadata": {},
   "outputs": [
    {
     "name": "stdout",
     "output_type": "stream",
     "text": [
      "INFO:tensorflow:Assets written to: GradeNet/assets\n"
     ]
    },
    {
     "name": "stderr",
     "output_type": "stream",
     "text": [
      "INFO:tensorflow:Assets written to: GradeNet/assets\n"
     ]
    }
   ],
   "source": [
    "model.save('GradeNet', include_optimizer=False)"
   ]
  },
  {
   "cell_type": "code",
   "execution_count": null,
   "metadata": {},
   "outputs": [],
   "source": []
  }
 ],
 "metadata": {
  "kernelspec": {
   "display_name": "moonboardrnn-hW4ed92X-py3.8",
   "language": "python",
   "name": "python3"
  },
  "language_info": {
   "codemirror_mode": {
    "name": "ipython",
    "version": 3
   },
   "file_extension": ".py",
   "mimetype": "text/x-python",
   "name": "python",
   "nbconvert_exporter": "python",
   "pygments_lexer": "ipython3",
   "version": "3.9.18"
  },
  "vscode": {
   "interpreter": {
    "hash": "8d257aaba97b534713eafa91609455863fac8d9daac4f63bd3ddeb8aecd89a62"
   }
  }
 },
 "nbformat": 4,
 "nbformat_minor": 4
}

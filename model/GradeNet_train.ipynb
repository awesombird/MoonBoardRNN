{
 "cells": [
  {
   "cell_type": "code",
   "execution_count": 2,
   "metadata": {},
   "outputs": [],
   "source": [
    "from os import environ\n",
    "environ['TF_CPP_MIN_LOG_LEVEL'] = '1'\n",
    "environ[\"XLA_FLAGS\"] = \"--xla_gpu_cuda_data_dir=/home/valsp/miniconda3/envs/tf/lib\"\n"
   ]
  },
  {
   "cell_type": "code",
   "execution_count": 3,
   "metadata": {},
   "outputs": [],
   "source": [
    "import numpy as np\n",
    "import pickle\n",
    "import tensorflow as tf\n",
    "from tensorflow.keras.models import Model\n",
    "from tensorflow.keras.layers import Input, Activation, Dense, Flatten, LSTM, Masking, Attention, Concatenate, MultiHeadAttention, Dropout, BatchNormalization, LayerNormalization, Softmax\n",
    "from tensorflow.keras.losses import SparseCategoricalCrossentropy, MeanSquaredError\n",
    "from tensorflow.keras.metrics import RootMeanSquaredError, binary_accuracy, categorical_accuracy\n",
    "from tensorflow.keras.callbacks import TensorBoard, ModelCheckpoint, EarlyStopping\n",
    "from tensorflow.keras.optimizers import AdamW\n",
    "from tensorflow.keras import backend as K\n",
    "from tensorflow.keras.utils import to_categorical\n",
    "from model_helper import *\n",
    "from pathlib import Path\n",
    "from datetime import datetime\n",
    "\n",
    "# autoreload\n",
    "%load_ext autoreload\n",
    "%autoreload 2\n"
   ]
  },
  {
   "cell_type": "markdown",
   "metadata": {},
   "source": [
    "## 1. Load in dataset"
   ]
  },
  {
   "cell_type": "code",
   "execution_count": 4,
   "metadata": {},
   "outputs": [],
   "source": [
    "cwd = Path().cwd()"
   ]
  },
  {
   "cell_type": "code",
   "execution_count": 5,
   "metadata": {},
   "outputs": [],
   "source": [
    "with open(cwd.parent / \"preprocessing\" / \"new_data\" / \"training_seq_n_12_rmrp0\", \"rb\") as f:\n",
    "    train_data = pickle.load(f)\n",
    "with open(cwd.parent / \"preprocessing\" / \"new_data\" / \"dev_seq_n_12_rmrp0\", \"rb\") as f:\n",
    "    val_data = pickle.load(f)\n",
    "with open(cwd.parent / \"preprocessing\" / \"new_data\" / \"test_seq_n_12_rmrp0\", \"rb\") as f:\n",
    "    test_data = pickle.load(f)"
   ]
  },
  {
   "cell_type": "code",
   "execution_count": 6,
   "metadata": {},
   "outputs": [
    {
     "name": "stdout",
     "output_type": "stream",
     "text": [
      "X_train shape: (42598, 12, 22)\n",
      "Y_train shape: (42598, 1)\n",
      "X_val shape: (3000, 12, 22)\n",
      "Y_val shape: (3000, 1)\n",
      "X_test shape: (3000, 12, 22)\n",
      "Y_test shape: (3000, 1)\n",
      "Y_train_oh shape: (42598, 11)\n",
      "Y_val_oh shape: (3000, 11)\n",
      "Y_test_oh shape: (3000, 11)\n"
     ]
    }
   ],
   "source": [
    "X_train = np.array(train_data[\"X\"])\n",
    "print(f\"X_train shape: {X_train.shape}\")\n",
    "Y_train = np.array(train_data[\"Y\"]).reshape(-1, 1)\n",
    "print(f\"Y_train shape: {Y_train.shape}\")\n",
    "X_val = np.array(val_data[\"X\"])\n",
    "print(f\"X_val shape: {X_val.shape}\")\n",
    "Y_val = np.array(val_data[\"Y\"]).reshape(-1, 1)\n",
    "print(f\"Y_val shape: {Y_val.shape}\")\n",
    "X_test = np.array(test_data[\"X\"])\n",
    "print(f\"X_test shape: {X_test.shape}\")\n",
    "Y_test = np.array(test_data[\"Y\"]).reshape(-1, 1)\n",
    "print(f\"Y_test shape: {Y_test.shape}\")\n",
    "\n",
    "# one-hot encode Y\n",
    "Y_train_oh = to_categorical(Y_train)\n",
    "print(f\"Y_train_oh shape: {Y_train_oh.shape}\")\n",
    "Y_val_oh = to_categorical(Y_val)\n",
    "print(f\"Y_val_oh shape: {Y_val_oh.shape}\")\n",
    "Y_test_oh = to_categorical(Y_test)\n",
    "print(f\"Y_test_oh shape: {Y_test_oh.shape}\")"
   ]
  },
  {
   "cell_type": "code",
   "execution_count": 7,
   "metadata": {},
   "outputs": [
    {
     "data": {
      "text/plain": [
       "(array([[-0.33863505, -0.69707086,  0.        ,  1.77573042, -0.33863505,\n",
       "         -1.18747248, -0.5874089 ,  0.        ,  0.49040162, -0.33863505,\n",
       "         -1.18747248,  0.35784683,  0.        ,  0.49040162,  0.        ,\n",
       "          0.        ,  0.        ,  1.        ,  1.        ,  1.        ,\n",
       "          0.        , -0.62652588],\n",
       "        [ 0.63552061,  0.03853157,  1.        ,  1.30310256, -0.33863505,\n",
       "         -0.69707086,  1.77573042,  0.97415565,  0.73560243, -0.33863505,\n",
       "         -1.18747248, -0.5874089 ,  0.97415565,  1.22600405,  0.        ,\n",
       "          1.        ,  0.        ,  0.        ,  0.        ,  0.        ,\n",
       "          1.        ,  1.38363084],\n",
       "        [-0.98807215,  0.52893319,  0.        ,  1.77573042,  0.63552061,\n",
       "          0.03853157,  1.30310256, -1.62359275,  0.49040162, -0.33863505,\n",
       "         -0.69707086,  1.77573042, -0.6494371 ,  1.22600405,  1.        ,\n",
       "          0.        ,  0.        ,  1.        ,  0.        ,  0.        ,\n",
       "          0.        ,  0.26120994],\n",
       "        [-0.6633536 ,  1.01933481,  1.        , -0.11478103, -0.98807215,\n",
       "          0.52893319,  1.77573042,  0.32471855,  0.49040162,  0.63552061,\n",
       "          0.03853157,  1.30310256, -1.2988742 ,  0.98080324,  0.        ,\n",
       "          0.        ,  0.        ,  0.        ,  0.        ,  1.        ,\n",
       "          1.        , -0.14017702],\n",
       "        [-1.63750925,  1.75493723,  0.        ,  0.35784683, -0.6633536 ,\n",
       "          1.01933481, -0.11478103, -0.97415565,  0.73560243, -0.98807215,\n",
       "          0.52893319,  1.77573042, -0.6494371 ,  1.22600405,  0.        ,\n",
       "          1.        ,  0.        ,  0.        ,  0.        ,  1.        ,\n",
       "          1.        , -0.1835412 ],\n",
       "        [-0.        , -0.        ,  0.        , -0.        , -0.        ,\n",
       "         -0.        , -0.        ,  0.        ,  0.        , -0.        ,\n",
       "         -0.        , -0.        ,  0.        ,  0.        ,  0.        ,\n",
       "          0.        ,  0.        ,  0.        ,  0.        ,  0.        ,\n",
       "          0.        , -0.        ],\n",
       "        [-0.        , -0.        ,  0.        , -0.        , -0.        ,\n",
       "         -0.        , -0.        ,  0.        ,  0.        , -0.        ,\n",
       "         -0.        , -0.        ,  0.        ,  0.        ,  0.        ,\n",
       "          0.        ,  0.        ,  0.        ,  0.        ,  0.        ,\n",
       "          0.        , -0.        ],\n",
       "        [-0.        , -0.        ,  0.        , -0.        , -0.        ,\n",
       "         -0.        , -0.        ,  0.        ,  0.        , -0.        ,\n",
       "         -0.        , -0.        ,  0.        ,  0.        ,  0.        ,\n",
       "          0.        ,  0.        ,  0.        ,  0.        ,  0.        ,\n",
       "          0.        , -0.        ],\n",
       "        [-0.        , -0.        ,  0.        , -0.        , -0.        ,\n",
       "         -0.        , -0.        ,  0.        ,  0.        , -0.        ,\n",
       "         -0.        , -0.        ,  0.        ,  0.        ,  0.        ,\n",
       "          0.        ,  0.        ,  0.        ,  0.        ,  0.        ,\n",
       "          0.        , -0.        ],\n",
       "        [-0.        , -0.        ,  0.        , -0.        , -0.        ,\n",
       "         -0.        , -0.        ,  0.        ,  0.        , -0.        ,\n",
       "         -0.        , -0.        ,  0.        ,  0.        ,  0.        ,\n",
       "          0.        ,  0.        ,  0.        ,  0.        ,  0.        ,\n",
       "          0.        , -0.        ],\n",
       "        [-0.        , -0.        ,  0.        , -0.        , -0.        ,\n",
       "         -0.        , -0.        ,  0.        ,  0.        , -0.        ,\n",
       "         -0.        , -0.        ,  0.        ,  0.        ,  0.        ,\n",
       "          0.        ,  0.        ,  0.        ,  0.        ,  0.        ,\n",
       "          0.        , -0.        ],\n",
       "        [-0.        , -0.        ,  0.        , -0.        , -0.        ,\n",
       "         -0.        , -0.        ,  0.        ,  0.        , -0.        ,\n",
       "         -0.        , -0.        ,  0.        ,  0.        ,  0.        ,\n",
       "          0.        ,  0.        ,  0.        ,  0.        ,  0.        ,\n",
       "          0.        , -0.        ]]),\n",
       " array([1.]),\n",
       " array([0., 1., 0., 0., 0., 0., 0., 0., 0., 0., 0.], dtype=float32))"
      ]
     },
     "execution_count": 7,
     "metadata": {},
     "output_type": "execute_result"
    }
   ],
   "source": [
    "# Example of one input and output\n",
    "\n",
    "X_train[0], Y_train[0], Y_train_oh[0]"
   ]
  },
  {
   "cell_type": "code",
   "execution_count": 8,
   "metadata": {},
   "outputs": [
    {
     "data": {
      "image/png": "[encoded data removed]",
      "text/plain": [
       "<Figure size 640x480 with 1 Axes>"
      ]
     },
     "metadata": {},
     "output_type": "display_data"
    }
   ],
   "source": [
    "plt.hist(Y_train+4, color=\"red\", alpha=0.33, label=\"train\")\n",
    "plt.hist(Y_val+4, color=\"green\", alpha=0.33, label=\"val\")\n",
    "plt.hist(Y_test+4, color=\"blue\", alpha=0.33, label=\"test\")\n",
    "plt.legend()\n",
    "plt.show()\n"
   ]
  },
  {
   "cell_type": "markdown",
   "metadata": {},
   "source": [
    "## 2. Define GradeNet Model"
   ]
  },
  {
   "cell_type": "code",
   "execution_count": 20,
   "metadata": {},
   "outputs": [],
   "source": [
    "def GradeNet(n_holds=12):\n",
    "    \"\"\"Creates a keras model for the GradeNet architecture\n",
    "\n",
    "    Returns:\n",
    "        Model: GradeNet model\n",
    "    \"\"\"\n",
    "    inputs = Input(shape=(n_holds, 22))\n",
    "    mask = Masking(mask_value=0.0).compute_mask(inputs)\n",
    "    lstm0 = LSTM(\n",
    "        20,\n",
    "        activation=\"tanh\",\n",
    "        input_shape=(n_holds, 22),\n",
    "        kernel_initializer=\"glorot_normal\",\n",
    "        return_sequences=\"True\",\n",
    "    )(inputs, mask=mask)\n",
    "\n",
    "    attention = Attention()([lstm0, lstm0])\n",
    "    attended_sequence = Concatenate()([lstm0, attention])\n",
    "\n",
    "    dense1 = Dense(100, activation=\"relu\", kernel_initializer=\"glorot_normal\")(\n",
    "        attended_sequence\n",
    "    )\n",
    "    dense2 = Dense(80, activation=\"relu\", kernel_initializer=\"glorot_normal\")(dense1)\n",
    "    dense3 = Dense(75, activation=\"relu\", kernel_initializer=\"glorot_normal\")(dense2)\n",
    "    dense4 = Dense(50, activation=\"relu\", kernel_initializer=\"glorot_normal\")(dense3)\n",
    "    dense5 = Dense(20, activation=\"relu\", kernel_initializer=\"glorot_normal\")(dense4)\n",
    "    dense6 = Dense(10, activation=\"relu\", kernel_initializer=\"glorot_normal\")(dense5)\n",
    "    # flat = Flatten()(dense6)\n",
    "    # intermediate = Dense(1, name=\"intermediate\")(flat)\n",
    "    lstm1 = LSTM(\n",
    "        20, activation=\"tanh\", kernel_initializer=\"glorot_normal\", return_sequences=True\n",
    "    )(dense6)\n",
    "    lstm2 = LSTM(20, activation=\"tanh\", kernel_initializer=\"glorot_normal\")(lstm1)\n",
    "    dense7 = Dense(15, activation=\"relu\", kernel_initializer=\"glorot_normal\")(lstm2)\n",
    "    dense8 = Dense(15, activation=\"relu\", kernel_initializer=\"glorot_normal\")(dense7)\n",
    "    out = Dense(1, name=\"out\")(dense8)\n",
    "\n",
    "    # return Model(inputs=[inputs], outputs=[out, intermediate])\n",
    "    return Model(inputs=[inputs], outputs=[out])"
   ]
  },
  {
   "cell_type": "code",
   "execution_count": 10,
   "metadata": {},
   "outputs": [],
   "source": [
    "# A transformer model optimized for a 12-hold sequence, with 22 features per hold\n",
    "def GradeNet(n_holds=12):\n",
    "    \"\"\"Creates a keras model for the GradeNet architecture\n",
    "\n",
    "    Uses a transformer model optimized for a 12-hold sequence, with 22 features per hold,\n",
    "    instead of the LSTM model used in the original GradeNet paper.\n",
    "\n",
    "    No LSTM layers are used in this model.\n",
    "\n",
    "    Outputs are softmax probabilities for each grade (11 different grades).\n",
    "\n",
    "    Returns:\n",
    "        Model: GradeNet model\n",
    "    \"\"\"\n",
    "    inputs = Input(shape=(n_holds, 22))\n",
    "    mask = Masking(mask_value=0.0).compute_mask(inputs)\n",
    "\n",
    "    # Transformer encoder\n",
    "    # Multi-head attention\n",
    "    attention = MultiHeadAttention(num_heads=2, key_dim=22)(inputs, inputs, attention_mask=mask)\n",
    "    # Add and normalize\n",
    "    attention = LayerNormalization(epsilon=1e-6)(attention + inputs)\n",
    "    # Feed forward\n",
    "    dense1 = Dense(64, activation=\"relu\", kernel_initializer=\"glorot_normal\")(attention)\n",
    "    dense2 = Dense(22, activation=\"relu\", kernel_initializer=\"glorot_normal\")(dense1)\n",
    "    # Add and normalize\n",
    "    dense2 = LayerNormalization(epsilon=1e-6)(dense2 + attention)\n",
    "\n",
    "    # Transformer decoder\n",
    "    # Multi-head attention\n",
    "    attention = MultiHeadAttention(num_heads=2, key_dim=22)(dense2, dense2, attention_mask=mask)\n",
    "    # Add and normalize\n",
    "    attention = LayerNormalization(epsilon=1e-6)(attention + dense2)\n",
    "    # Feed forward\n",
    "    dense1 = Dense(64, activation=\"relu\", kernel_initializer=\"glorot_normal\")(attention)\n",
    "    dense2 = Dense(22, activation=\"relu\", kernel_initializer=\"glorot_normal\")(dense1)\n",
    "    # Add and normalize\n",
    "    dense2 = LayerNormalization(epsilon=1e-6)(dense2 + attention)\n",
    "\n",
    "    # Output (softmax)\n",
    "    # out = Dense(11, activation=\"softmax\", name=\"out\")(dense2)\n",
    "    out = Dense(1, name=\"out\")(dense2)\n",
    "\n",
    "    return Model(inputs=[inputs], outputs=[out])\n"
   ]
  },
  {
   "cell_type": "code",
   "execution_count": 11,
   "metadata": {},
   "outputs": [],
   "source": [
    "# # Similar model using branching\n",
    "\n",
    "# def GradeNet(n_holds=12):\n",
    "#     \"\"\"Creates a keras model for the GradeNet architecture\n",
    "\n",
    "#     Returns:\n",
    "#         Model: GradeNet model\n",
    "#     \"\"\"\n",
    "#     # Define inputs\n",
    "#     inputs = Input(shape=(n_holds, 22))\n",
    "#     mask = Masking(mask_value=0.0).compute_mask(inputs)\n",
    "\n",
    "#     # Define shared layers\n",
    "#     lstm0 = LSTM(\n",
    "#         20, activation=\"tanh\", input_shape=(n_holds, 22), kernel_initializer=\"glorot_normal\", return_sequences=\"True\",\n",
    "#     )(inputs, mask=mask)\n",
    "\n",
    "#     # Use self-attention to get a weighted sum of the input sequence\n",
    "#     attention = Attention()([inputs, inputs])\n",
    "\n",
    "#     # Concatenate the weighted sum with the input sequence\n",
    "#     attended_sequence = Concatenate()([inputs, attention])\n",
    "\n",
    "#     # Define the shared dense layers\n",
    "#     dense1 = Dense(100, activation=\"relu\", kernel_initializer=\"glorot_normal\")(attended_sequence)\n",
    "#     dense2 = Dense(80, activation=\"relu\", kernel_initializer=\"glorot_normal\")(dense1)\n",
    "#     dense3 = Dense(75, activation=\"relu\", kernel_initializer=\"glorot_normal\")(dense2)\n",
    "#     dense4 = Dense(50, activation=\"relu\", kernel_initializer=\"glorot_normal\")(dense3)\n",
    "#     dense5 = Dense(20, activation=\"relu\", kernel_initializer=\"glorot_normal\")(dense4)\n",
    "#     dense6 = Dense(10, activation=\"relu\", kernel_initializer=\"glorot_normal\")(dense5)\n",
    "\n",
    "#     # Define the shared LSTM layers\n",
    "#     lstm1 = LSTM(\n",
    "#         20, activation=\"tanh\", kernel_initializer=\"glorot_normal\", return_sequences=True\n",
    "#     )(dense6)\n",
    "#     lstm2 = LSTM(20, activation=\"tanh\", kernel_initializer=\"glorot_normal\")(lstm1)\n",
    "#     dense7 = Dense(15, activation=\"relu\", kernel_initializer=\"glorot_normal\")(lstm2)\n",
    "#     dense8 = Dense(15, activation=\"relu\", kernel_initializer=\"glorot_normal\")(dense7)\n",
    "\n",
    "#     # Define the output layers\n",
    "#     out = Dense(1, name=\"out\")(dense8)\n",
    "\n",
    "#     # return Model(inputs=[inputs], outputs=[out, intermediate])\n",
    "#     return Model(inputs=[inputs], outputs=[out])"
   ]
  },
  {
   "cell_type": "code",
   "execution_count": 21,
   "metadata": {},
   "outputs": [],
   "source": [
    "BATCH_SIZE = 256\n"
   ]
  },
  {
   "cell_type": "code",
   "execution_count": 22,
   "metadata": {},
   "outputs": [],
   "source": [
    "# from tensorflow_addons.optimizers import CyclicalLearningRate\n",
    "\n",
    "# step_size = 2 * len(X_train) // 32\n",
    "# cyclical_learning_rate = CyclicalLearningRate(\n",
    "#     initial_learning_rate=3e-7,\n",
    "#     maximal_learning_rate=3e-5,\n",
    "#     step_size=step_size,\n",
    "#     scale_fn=lambda x: 1 / (2.0 ** (x - 1)),\n",
    "#     scale_mode=\"cycle\",\n",
    "# )"
   ]
  },
  {
   "cell_type": "code",
   "execution_count": 23,
   "metadata": {},
   "outputs": [],
   "source": [
    "def one_off_accuracy(y_true, y_pred):\n",
    "    \"\"\"Computes the accuracy of a grade prediction including +/-1 errors\n",
    "\n",
    "    Args:\n",
    "        y_true: true grades\n",
    "        y_pred: predicted grades\n",
    "    \"\"\"\n",
    "    return tf.reduce_mean(tf.cast(abs(y_true - tf.math.round(y_pred)) <= 1, tf.float32))\n"
   ]
  },
  {
   "cell_type": "code",
   "execution_count": 24,
   "metadata": {},
   "outputs": [],
   "source": [
    "def soft_one_off_accuracy(y_true, y_pred):\n",
    "    \"\"\"Computes the accuracy of a grade prediction including +/-1 errors\n",
    "\n",
    "    Args:\n",
    "        y_true: one-hot encoded true grades\n",
    "        y_pred: softmax probabilities for each grade\n",
    "\n",
    "    Returns:\n",
    "        float: accuracy\n",
    "\n",
    "    The accuracy is computed by summing the probabilities of the true grade\n",
    "    and the two adjacent grades.\n",
    "    \"\"\"\n",
    "    # get the true grade\n",
    "    true_grade = tf.argmax(y_true, axis=1)\n",
    "    # get the probabilities of the true grade and the two adjacent grades\n",
    "    true_grade_probs = tf.gather(y_pred, true_grade, axis=1)\n",
    "    # sum the probabilities\n",
    "    return tf.reduce_mean(true_grade_probs)"
   ]
  },
  {
   "cell_type": "code",
   "execution_count": 25,
   "metadata": {},
   "outputs": [],
   "source": [
    "# # TODO: re-enable custom loss, trying to get it to equal sum of intermediate and final loss\n",
    "# def custom_loss(y_true, y_pred):\n",
    "#     \"\"\"Custom loss function with averages the final and interdiate (prior to lstm) losses\"\"\"\n",
    "#     # TODO: what is the distinct benefit of intermediate loss for our use model\n",
    "#     # Improved optimization: By including an additional cross-entropy loss at an intermediate layer, we provide the network with more information about the error signal and can help to prevent vanishing gradients, which can occur in deep networks. This can lead to more stable and efficient optimization during training.\n",
    "#     # Better representation learning: Cross-entropy loss at an intermediate layer can encourage the network to learn better representations of the input data, which can improve the accuracy of the final predictions. This is because the intermediate layer may capture more complex and abstract features of the input data, which can be useful for discriminating between different classes.\n",
    "#     # Regularization: Including an intermediate cross-entropy loss can also act as a form of regularization, by encouraging the network to learn representations that are more useful for classification. This can prevent overfitting and improve the generalization performance of the network.\n",
    "\n",
    "#     # sparse cross entropy is used as y_true is encoded as integers not one-hot vectors\n",
    "#     # returns cross entropy for each prediction\n",
    "#     intermediate_loss = SparseCategoricalCrossentropy()(y_true, intermediate)\n",
    "#     final_loss = SparseCategoricalCrossentropy()(y_true, y_pred)\n",
    "#     # add the cross entropies and average over the predictions\n",
    "#     return tf.reduce_mean(intermediate_loss + final_loss)\n",
    "\n",
    "# TODO: change one_off_accuracy to a custom metric that can be saved with the model\n",
    "model = GradeNet()\n",
    "\n",
    "grade_weights = {0: 1, 1: 1, 2: 2, 3: 4, 4: 1, 5: 4, 6: 8, 7: 8, 8: 8, 9: 8}\n",
    "\n",
    "model.compile(\n",
    "    optimizer=AdamW(\n",
    "        learning_rate=0.001,\n",
    "        weight_decay=0.004,\n",
    "        beta_1=0.9,\n",
    "        beta_2=0.999,\n",
    "    ),\n",
    "    loss={\n",
    "        # \"softmax\": tf.keras.losses.SparseCategoricalCrossentropy()\n",
    "        \"out\": MeanSquaredError(),\n",
    "        # \"out\": custom_loss,\n",
    "        # \"intermediate\": MeanSquaredError(),\n",
    "    },\n",
    "    metrics=[RootMeanSquaredError(), one_off_accuracy, binary_accuracy],\n",
    ")"
   ]
  },
  {
   "cell_type": "markdown",
   "metadata": {},
   "source": [
    "## 2-1. Training of GradeNet\n",
    "### To load pretrained weights, please skip to 2-2."
   ]
  },
  {
   "cell_type": "code",
   "execution_count": 26,
   "metadata": {},
   "outputs": [],
   "source": [
    "# tensorboard callback\n",
    "log_dir = cwd / \"logs\" / \"GradeNet\" / datetime.now().strftime(\"%Y%m%d-%H%M%S\")\n",
    "tensorboard_callback = TensorBoard(log_dir=log_dir, histogram_freq=1)\n",
    "\n",
    "# checkpoint callback in case we manually end training early (o/w early stopping should restore best weights)\n",
    "checkpoint_path = (\n",
    "    cwd / \"checkpoints\" / \"GradeNet\" / \"epoch{epoch:02d}-loss{val_loss:.2f}.h5\"\n",
    ")\n",
    "cp_callback = ModelCheckpoint(\n",
    "    filepath=str(checkpoint_path),\n",
    "    save_weights_only=True,\n",
    "    save_best_only=True,\n",
    "    verbose=1,\n",
    ")\n",
    "\n",
    "# early stopping callback\n",
    "es_callback = EarlyStopping(\n",
    "    monitor=\"val_loss\", mode=\"min\", verbose=1, patience=10, restore_best_weights=True\n",
    ")"
   ]
  },
  {
   "cell_type": "code",
   "execution_count": 27,
   "metadata": {
    "scrolled": true
   },
   "outputs": [
    {
     "name": "stdout",
     "output_type": "stream",
     "text": [
      "Epoch 1/25\n"
     ]
    },
    {
     "name": "stderr",
     "output_type": "stream",
     "text": [
      "WARNING: All log messages before absl::InitializeLog() is called are written to STDERR\n",
      "W0000 00:00:1703042485.553579       1 op_level_cost_estimator.cc:699] Error in PredictCost() for the op: op: \"Softmax\" attr { key: \"T\" value { type: DT_FLOAT } } inputs { dtype: DT_FLOAT shape { unknown_rank: true } } device { type: \"CPU\" vendor: \"GenuineIntel\" model: \"110\" frequency: 2000 num_cores: 8 environment { key: \"cpu_instruction_set\" value: \"AVX SSE, SSE2, SSE3, SSSE3, SSE4.1, SSE4.2\" } environment { key: \"eigen\" value: \"3.4.90\" } l1_cache_size: 49152 l2_cache_size: 524288 l3_cache_size: 6291456 memory_size: 268435456 } outputs { dtype: DT_FLOAT shape { unknown_rank: true } }\n"
     ]
    },
    {
     "name": "stdout",
     "output_type": "stream",
     "text": [
      "166/167 [============================>.] - ETA: 0s - loss: 2.0931 - root_mean_squared_error: 1.4468 - one_off_accuracy: 0.7848 - binary_accuracy: 0.3671"
     ]
    },
    {
     "name": "stderr",
     "output_type": "stream",
     "text": [
      "W0000 00:00:1703042494.780815       1 op_level_cost_estimator.cc:699] Error in PredictCost() for the op: op: \"Softmax\" attr { key: \"T\" value { type: DT_FLOAT } } inputs { dtype: DT_FLOAT shape { unknown_rank: true } } device { type: \"CPU\" vendor: \"GenuineIntel\" model: \"110\" frequency: 2000 num_cores: 8 environment { key: \"cpu_instruction_set\" value: \"AVX SSE, SSE2, SSE3, SSSE3, SSE4.1, SSE4.2\" } environment { key: \"eigen\" value: \"3.4.90\" } l1_cache_size: 49152 l2_cache_size: 524288 l3_cache_size: 6291456 memory_size: 268435456 } outputs { dtype: DT_FLOAT shape { unknown_rank: true } }\n"
     ]
    },
    {
     "name": "stdout",
     "output_type": "stream",
     "text": [
      "\n",
      "Epoch 1: val_loss improved from inf to 1.13450, saving model to /Users/neil/Local/Dev/cs137_dnn/MoonBoardRNN_old/model/checkpoints/GradeNet/epoch01-loss1.13.h5\n",
      "167/167 [==============================] - 20s 49ms/step - loss: 2.0912 - root_mean_squared_error: 1.4461 - one_off_accuracy: 0.7852 - binary_accuracy: 0.3673 - val_loss: 1.1345 - val_root_mean_squared_error: 1.0651 - val_one_off_accuracy: 0.8628 - val_binary_accuracy: 0.4477\n",
      "Epoch 2/25\n",
      "166/167 [============================>.] - ETA: 0s - loss: 1.1087 - root_mean_squared_error: 1.0529 - one_off_accuracy: 0.8658 - binary_accuracy: 0.4490\n",
      "Epoch 2: val_loss improved from 1.13450 to 1.08926, saving model to /Users/neil/Local/Dev/cs137_dnn/MoonBoardRNN_old/model/checkpoints/GradeNet/epoch02-loss1.09.h5\n",
      "167/167 [==============================] - 5s 30ms/step - loss: 1.1088 - root_mean_squared_error: 1.0530 - one_off_accuracy: 0.8657 - binary_accuracy: 0.4489 - val_loss: 1.0893 - val_root_mean_squared_error: 1.0437 - val_one_off_accuracy: 0.8671 - val_binary_accuracy: 0.4667\n",
      "Epoch 3/25\n",
      "165/167 [============================>.] - ETA: 0s - loss: 1.0539 - root_mean_squared_error: 1.0266 - one_off_accuracy: 0.8737 - binary_accuracy: 0.4548\n",
      "Epoch 3: val_loss improved from 1.08926 to 1.00518, saving model to /Users/neil/Local/Dev/cs137_dnn/MoonBoardRNN_old/model/checkpoints/GradeNet/epoch03-loss1.01.h5\n",
      "167/167 [==============================] - 5s 31ms/step - loss: 1.0539 - root_mean_squared_error: 1.0266 - one_off_accuracy: 0.8739 - binary_accuracy: 0.4548 - val_loss: 1.0052 - val_root_mean_squared_error: 1.0026 - val_one_off_accuracy: 0.8782 - val_binary_accuracy: 0.4760\n",
      "Epoch 4/25\n",
      "165/167 [============================>.] - ETA: 0s - loss: 1.0347 - root_mean_squared_error: 1.0172 - one_off_accuracy: 0.8768 - binary_accuracy: 0.4563\n",
      "Epoch 4: val_loss improved from 1.00518 to 0.98619, saving model to /Users/neil/Local/Dev/cs137_dnn/MoonBoardRNN_old/model/checkpoints/GradeNet/epoch04-loss0.99.h5\n",
      "167/167 [==============================] - 5s 32ms/step - loss: 1.0335 - root_mean_squared_error: 1.0166 - one_off_accuracy: 0.8769 - binary_accuracy: 0.4563 - val_loss: 0.9862 - val_root_mean_squared_error: 0.9931 - val_one_off_accuracy: 0.8810 - val_binary_accuracy: 0.4730\n",
      "Epoch 5/25\n",
      "166/167 [============================>.] - ETA: 0s - loss: 1.0175 - root_mean_squared_error: 1.0087 - one_off_accuracy: 0.8799 - binary_accuracy: 0.4586\n",
      "Epoch 5: val_loss improved from 0.98619 to 0.97300, saving model to /Users/neil/Local/Dev/cs137_dnn/MoonBoardRNN_old/model/checkpoints/GradeNet/epoch05-loss0.97.h5\n",
      "167/167 [==============================] - 5s 31ms/step - loss: 1.0168 - root_mean_squared_error: 1.0084 - one_off_accuracy: 0.8801 - binary_accuracy: 0.4587 - val_loss: 0.9730 - val_root_mean_squared_error: 0.9864 - val_one_off_accuracy: 0.8824 - val_binary_accuracy: 0.4740\n",
      "Epoch 6/25\n",
      "167/167 [==============================] - ETA: 0s - loss: 1.0124 - root_mean_squared_error: 1.0062 - one_off_accuracy: 0.8800 - binary_accuracy: 0.4581\n",
      "Epoch 6: val_loss improved from 0.97300 to 0.96521, saving model to /Users/neil/Local/Dev/cs137_dnn/MoonBoardRNN_old/model/checkpoints/GradeNet/epoch06-loss0.97.h5\n",
      "167/167 [==============================] - 6s 37ms/step - loss: 1.0124 - root_mean_squared_error: 1.0062 - one_off_accuracy: 0.8800 - binary_accuracy: 0.4581 - val_loss: 0.9652 - val_root_mean_squared_error: 0.9825 - val_one_off_accuracy: 0.8790 - val_binary_accuracy: 0.4760\n",
      "Epoch 7/25\n",
      "165/167 [============================>.] - ETA: 0s - loss: 0.9962 - root_mean_squared_error: 0.9981 - one_off_accuracy: 0.8821 - binary_accuracy: 0.4602\n",
      "Epoch 7: val_loss did not improve from 0.96521\n",
      "167/167 [==============================] - 6s 34ms/step - loss: 0.9945 - root_mean_squared_error: 0.9973 - one_off_accuracy: 0.8821 - binary_accuracy: 0.4606 - val_loss: 0.9753 - val_root_mean_squared_error: 0.9876 - val_one_off_accuracy: 0.8811 - val_binary_accuracy: 0.4773\n",
      "Epoch 8/25\n",
      "166/167 [============================>.] - ETA: 0s - loss: 0.9824 - root_mean_squared_error: 0.9912 - one_off_accuracy: 0.8840 - binary_accuracy: 0.4595\n",
      "Epoch 8: val_loss improved from 0.96521 to 0.94906, saving model to /Users/neil/Local/Dev/cs137_dnn/MoonBoardRNN_old/model/checkpoints/GradeNet/epoch08-loss0.95.h5\n",
      "167/167 [==============================] - 5s 30ms/step - loss: 0.9826 - root_mean_squared_error: 0.9912 - one_off_accuracy: 0.8839 - binary_accuracy: 0.4596 - val_loss: 0.9491 - val_root_mean_squared_error: 0.9742 - val_one_off_accuracy: 0.8815 - val_binary_accuracy: 0.4787\n",
      "Epoch 9/25\n",
      "165/167 [============================>.] - ETA: 0s - loss: 0.9763 - root_mean_squared_error: 0.9881 - one_off_accuracy: 0.8852 - binary_accuracy: 0.4613\n",
      "Epoch 9: val_loss did not improve from 0.94906\n",
      "167/167 [==============================] - 5s 32ms/step - loss: 0.9772 - root_mean_squared_error: 0.9885 - one_off_accuracy: 0.8852 - binary_accuracy: 0.4610 - val_loss: 0.9520 - val_root_mean_squared_error: 0.9757 - val_one_off_accuracy: 0.8833 - val_binary_accuracy: 0.4750\n",
      "Epoch 10/25\n",
      "166/167 [============================>.] - ETA: 0s - loss: 0.9838 - root_mean_squared_error: 0.9919 - one_off_accuracy: 0.8830 - binary_accuracy: 0.4598\n",
      "Epoch 10: val_loss did not improve from 0.94906\n",
      "167/167 [==============================] - 6s 33ms/step - loss: 0.9841 - root_mean_squared_error: 0.9920 - one_off_accuracy: 0.8830 - binary_accuracy: 0.4598 - val_loss: 0.9491 - val_root_mean_squared_error: 0.9742 - val_one_off_accuracy: 0.8856 - val_binary_accuracy: 0.4710\n",
      "Epoch 11/25\n",
      "167/167 [==============================] - ETA: 0s - loss: 0.9705 - root_mean_squared_error: 0.9851 - one_off_accuracy: 0.8860 - binary_accuracy: 0.4615\n",
      "Epoch 11: val_loss did not improve from 0.94906\n",
      "167/167 [==============================] - 6s 36ms/step - loss: 0.9705 - root_mean_squared_error: 0.9851 - one_off_accuracy: 0.8860 - binary_accuracy: 0.4615 - val_loss: 0.9552 - val_root_mean_squared_error: 0.9773 - val_one_off_accuracy: 0.8832 - val_binary_accuracy: 0.4833\n",
      "Epoch 12/25\n",
      "165/167 [============================>.] - ETA: 0s - loss: 0.9621 - root_mean_squared_error: 0.9809 - one_off_accuracy: 0.8862 - binary_accuracy: 0.4627\n",
      "Epoch 12: val_loss did not improve from 0.94906\n",
      "167/167 [==============================] - 5s 31ms/step - loss: 0.9647 - root_mean_squared_error: 0.9822 - one_off_accuracy: 0.8857 - binary_accuracy: 0.4626 - val_loss: 0.9710 - val_root_mean_squared_error: 0.9854 - val_one_off_accuracy: 0.8773 - val_binary_accuracy: 0.4797\n",
      "Epoch 13/25\n",
      "166/167 [============================>.] - ETA: 0s - loss: 0.9578 - root_mean_squared_error: 0.9787 - one_off_accuracy: 0.8868 - binary_accuracy: 0.4614\n",
      "Epoch 13: val_loss did not improve from 0.94906\n",
      "167/167 [==============================] - 5s 31ms/step - loss: 0.9581 - root_mean_squared_error: 0.9788 - one_off_accuracy: 0.8866 - binary_accuracy: 0.4614 - val_loss: 0.9570 - val_root_mean_squared_error: 0.9782 - val_one_off_accuracy: 0.8802 - val_binary_accuracy: 0.4797\n",
      "Epoch 14/25\n",
      "166/167 [============================>.] - ETA: 0s - loss: 0.9515 - root_mean_squared_error: 0.9754 - one_off_accuracy: 0.8880 - binary_accuracy: 0.4623\n",
      "Epoch 14: val_loss did not improve from 0.94906\n",
      "167/167 [==============================] - 5s 32ms/step - loss: 0.9514 - root_mean_squared_error: 0.9754 - one_off_accuracy: 0.8880 - binary_accuracy: 0.4626 - val_loss: 0.9507 - val_root_mean_squared_error: 0.9750 - val_one_off_accuracy: 0.8812 - val_binary_accuracy: 0.4807\n",
      "Epoch 15/25\n",
      "166/167 [============================>.] - ETA: 0s - loss: 0.9522 - root_mean_squared_error: 0.9758 - one_off_accuracy: 0.8894 - binary_accuracy: 0.4631\n",
      "Epoch 15: val_loss improved from 0.94906 to 0.94496, saving model to /Users/neil/Local/Dev/cs137_dnn/MoonBoardRNN_old/model/checkpoints/GradeNet/epoch15-loss0.94.h5\n",
      "167/167 [==============================] - 5s 32ms/step - loss: 0.9521 - root_mean_squared_error: 0.9757 - one_off_accuracy: 0.8893 - binary_accuracy: 0.4630 - val_loss: 0.9450 - val_root_mean_squared_error: 0.9721 - val_one_off_accuracy: 0.8835 - val_binary_accuracy: 0.4807\n",
      "Epoch 16/25\n",
      "166/167 [============================>.] - ETA: 0s - loss: 0.9434 - root_mean_squared_error: 0.9713 - one_off_accuracy: 0.8898 - binary_accuracy: 0.4641\n",
      "Epoch 16: val_loss did not improve from 0.94496\n",
      "167/167 [==============================] - 6s 33ms/step - loss: 0.9428 - root_mean_squared_error: 0.9710 - one_off_accuracy: 0.8900 - binary_accuracy: 0.4640 - val_loss: 0.9585 - val_root_mean_squared_error: 0.9790 - val_one_off_accuracy: 0.8806 - val_binary_accuracy: 0.4827\n",
      "Epoch 17/25\n",
      "166/167 [============================>.] - ETA: 0s - loss: 0.9452 - root_mean_squared_error: 0.9722 - one_off_accuracy: 0.8886 - binary_accuracy: 0.4643\n",
      "Epoch 17: val_loss improved from 0.94496 to 0.93101, saving model to /Users/neil/Local/Dev/cs137_dnn/MoonBoardRNN_old/model/checkpoints/GradeNet/epoch17-loss0.93.h5\n",
      "167/167 [==============================] - 6s 36ms/step - loss: 0.9459 - root_mean_squared_error: 0.9726 - one_off_accuracy: 0.8884 - binary_accuracy: 0.4642 - val_loss: 0.9310 - val_root_mean_squared_error: 0.9649 - val_one_off_accuracy: 0.8848 - val_binary_accuracy: 0.4790\n",
      "Epoch 18/25\n",
      "167/167 [==============================] - ETA: 0s - loss: 0.9376 - root_mean_squared_error: 0.9683 - one_off_accuracy: 0.8904 - binary_accuracy: 0.4632\n",
      "Epoch 18: val_loss did not improve from 0.93101\n",
      "167/167 [==============================] - 6s 35ms/step - loss: 0.9376 - root_mean_squared_error: 0.9683 - one_off_accuracy: 0.8904 - binary_accuracy: 0.4632 - val_loss: 0.9425 - val_root_mean_squared_error: 0.9708 - val_one_off_accuracy: 0.8887 - val_binary_accuracy: 0.4793\n",
      "Epoch 19/25\n",
      "166/167 [============================>.] - ETA: 0s - loss: 0.9371 - root_mean_squared_error: 0.9680 - one_off_accuracy: 0.8902 - binary_accuracy: 0.4637\n",
      "Epoch 19: val_loss did not improve from 0.93101\n",
      "167/167 [==============================] - 5s 30ms/step - loss: 0.9365 - root_mean_squared_error: 0.9677 - one_off_accuracy: 0.8904 - binary_accuracy: 0.4635 - val_loss: 0.9549 - val_root_mean_squared_error: 0.9772 - val_one_off_accuracy: 0.8851 - val_binary_accuracy: 0.4633\n",
      "Epoch 20/25\n",
      "165/167 [============================>.] - ETA: 0s - loss: 0.9301 - root_mean_squared_error: 0.9644 - one_off_accuracy: 0.8900 - binary_accuracy: 0.4648\n",
      "Epoch 20: val_loss did not improve from 0.93101\n",
      "167/167 [==============================] - 6s 35ms/step - loss: 0.9310 - root_mean_squared_error: 0.9649 - one_off_accuracy: 0.8901 - binary_accuracy: 0.4646 - val_loss: 0.9399 - val_root_mean_squared_error: 0.9695 - val_one_off_accuracy: 0.8835 - val_binary_accuracy: 0.4817\n",
      "Epoch 21/25\n",
      "167/167 [==============================] - ETA: 0s - loss: 0.9314 - root_mean_squared_error: 0.9651 - one_off_accuracy: 0.8910 - binary_accuracy: 0.4644\n",
      "Epoch 21: val_loss improved from 0.93101 to 0.92451, saving model to /Users/neil/Local/Dev/cs137_dnn/MoonBoardRNN_old/model/checkpoints/GradeNet/epoch21-loss0.92.h5\n",
      "167/167 [==============================] - 6s 34ms/step - loss: 0.9314 - root_mean_squared_error: 0.9651 - one_off_accuracy: 0.8910 - binary_accuracy: 0.4644 - val_loss: 0.9245 - val_root_mean_squared_error: 0.9615 - val_one_off_accuracy: 0.8813 - val_binary_accuracy: 0.4807\n",
      "Epoch 22/25\n",
      "165/167 [============================>.] - ETA: 0s - loss: 0.9159 - root_mean_squared_error: 0.9570 - one_off_accuracy: 0.8921 - binary_accuracy: 0.4641\n",
      "Epoch 22: val_loss did not improve from 0.92451\n",
      "167/167 [==============================] - 5s 30ms/step - loss: 0.9169 - root_mean_squared_error: 0.9575 - one_off_accuracy: 0.8925 - binary_accuracy: 0.4641 - val_loss: 0.9247 - val_root_mean_squared_error: 0.9616 - val_one_off_accuracy: 0.8872 - val_binary_accuracy: 0.4810\n",
      "Epoch 23/25\n",
      "166/167 [============================>.] - ETA: 0s - loss: 0.9231 - root_mean_squared_error: 0.9608 - one_off_accuracy: 0.8932 - binary_accuracy: 0.4652\n",
      "Epoch 23: val_loss did not improve from 0.92451\n",
      "167/167 [==============================] - 5s 29ms/step - loss: 0.9234 - root_mean_squared_error: 0.9609 - one_off_accuracy: 0.8929 - binary_accuracy: 0.4652 - val_loss: 0.9305 - val_root_mean_squared_error: 0.9646 - val_one_off_accuracy: 0.8829 - val_binary_accuracy: 0.4837\n",
      "Epoch 24/25\n",
      "166/167 [============================>.] - ETA: 0s - loss: 0.9169 - root_mean_squared_error: 0.9575 - one_off_accuracy: 0.8917 - binary_accuracy: 0.4653\n",
      "Epoch 24: val_loss did not improve from 0.92451\n",
      "167/167 [==============================] - 5s 29ms/step - loss: 0.9170 - root_mean_squared_error: 0.9576 - one_off_accuracy: 0.8917 - binary_accuracy: 0.4652 - val_loss: 0.9351 - val_root_mean_squared_error: 0.9670 - val_one_off_accuracy: 0.8814 - val_binary_accuracy: 0.4850\n",
      "Epoch 25/25\n",
      "166/167 [============================>.] - ETA: 0s - loss: 0.9136 - root_mean_squared_error: 0.9558 - one_off_accuracy: 0.8923 - binary_accuracy: 0.4656\n",
      "Epoch 25: val_loss did not improve from 0.92451\n",
      "167/167 [==============================] - 5s 29ms/step - loss: 0.9139 - root_mean_squared_error: 0.9560 - one_off_accuracy: 0.8921 - binary_accuracy: 0.4656 - val_loss: 0.9320 - val_root_mean_squared_error: 0.9654 - val_one_off_accuracy: 0.8829 - val_binary_accuracy: 0.4800\n"
     ]
    }
   ],
   "source": [
    "# TODO: where do the class weights come from, can we load them from a config?\n",
    "# old {0: 1, 1: 1, 2: 2, 3: 2, 4: 1, 5: 4, 6: 2, 7: 4, 8: 8, 9: 8},\n",
    "# new {0: 1, 1: 1, 2: 2, 3: 4, 4: 1, 5: 4, 6: 8, 7: 8, 8: 8, 9: 8},\n",
    "\n",
    "\n",
    "history = model.fit(\n",
    "    X_train,\n",
    "    (Y_train, Y_train),\n",
    "    validation_data=(X_val, (Y_val, Y_val)),\n",
    "    epochs=25,\n",
    "    batch_size=BATCH_SIZE,\n",
    "    # class_weight=grade_weights,\n",
    "    callbacks=[tensorboard_callback, cp_callback, es_callback],\n",
    ")\n",
    "# model.load_weights('GradeNet.h5')"
   ]
  },
  {
   "cell_type": "code",
   "execution_count": 28,
   "metadata": {},
   "outputs": [
    {
     "name": "stdout",
     "output_type": "stream",
     "text": [
      "dict_keys(['loss', 'root_mean_squared_error', 'one_off_accuracy', 'binary_accuracy', 'val_loss', 'val_root_mean_squared_error', 'val_one_off_accuracy', 'val_binary_accuracy'])\n"
     ]
    }
   ],
   "source": [
    "# plot history from tensorboard log\n",
    "# plot_tb_history(log_dir, \"GradeNet\")\n",
    "print(history.history.keys())"
   ]
  },
  {
   "cell_type": "code",
   "execution_count": 29,
   "metadata": {},
   "outputs": [
    {
     "data": {
      "image/png": "[encoded data removed]",
      "text/plain": [
       "<Figure size 1000x500 with 2 Axes>"
      ]
     },
     "metadata": {},
     "output_type": "display_data"
    }
   ],
   "source": [
    "history_path = cwd / \"GradeNet_train_history\"\n",
    "try:\n",
    "    plot_history(\n",
    "        history,\n",
    "        \"GradeNet\",\n",
    "        # losses=[\"out_loss\", \"intermediate_loss\"],\n",
    "        # metrics=[\"out_binary_accuracy\", \"out_one_off_accuracy\"],\n",
    "        losses=[\"loss\"],#, \"intermediate_loss\"],\n",
    "        metrics=[\"binary_accuracy\", \"one_off_accuracy\"],\n",
    "    )\n",
    "    save_pickle(history, history_path)\n",
    "except NameError:\n",
    "    # if history not defined, load from pickle\n",
    "    with open(history_path, \"rb\") as f:\n",
    "        history = pickle.load(f)\n",
    "    plot_history(\n",
    "        history,\n",
    "        \"GradeNet\",\n",
    "        # losses=[\"out_loss\", \"intermediate_loss\"],\n",
    "        # metrics=[\"out_binary_accuracy\", \"out_one_off_accuracy\"],\n",
    "        losses=[\"loss\"],#, \"intermediate_loss\"],\n",
    "        metrics=[\"binary_accuracy\", \"one_off_accuracy\"],\n",
    "    )"
   ]
  },
  {
   "attachments": {},
   "cell_type": "markdown",
   "metadata": {},
   "source": [
    "| change              | optimal epoch | val_loss   | val_rmse  | val_acc    | val_one_off_acc |\n",
    "| ------------------- | ------------- | ---------- | --------- | ---------- | --------------- |\n",
    "| Adam                | 25            | 0.89241356 | 0.9446764 | 0.46846846 | 0.8890254       |\n",
    "| AdamW               | 21            | 0.89716    | 0.9472    | 0.46150696 | 0.88533986      |\n",
    "| + intermediate loss | 25            | 0.8886     | 0.9427    | 0.4701     | 0.8890          |\n"
   ]
  },
  {
   "cell_type": "code",
   "execution_count": 30,
   "metadata": {},
   "outputs": [
    {
     "data": {
      "text/plain": [
       "PosixPath('/Users/neil/Local/Dev/cs137_dnn/MoonBoardRNN_old/model/checkpoints/GradeNet/epoch21-loss0.92.h5')"
      ]
     },
     "execution_count": 30,
     "metadata": {},
     "output_type": "execute_result"
    }
   ],
   "source": [
    "# load best checkpoint\n",
    "best_cp = sorted(checkpoint_path.parent.glob(\"*.h5\"), key=lambda p: float(p.stem.split(\"-\")[1][4:]))[0]\n",
    "best_cp"
   ]
  },
  {
   "cell_type": "code",
   "execution_count": 31,
   "metadata": {},
   "outputs": [],
   "source": [
    "model.load_weights(best_cp)"
   ]
  },
  {
   "attachments": {},
   "cell_type": "markdown",
   "metadata": {},
   "source": [
    "## 2.2 - Saving the model"
   ]
  },
  {
   "cell_type": "code",
   "execution_count": 32,
   "metadata": {},
   "outputs": [
    {
     "name": "stdout",
     "output_type": "stream",
     "text": [
      "INFO:tensorflow:Assets written to: GradeNet/assets\n"
     ]
    },
    {
     "name": "stderr",
     "output_type": "stream",
     "text": [
      "INFO:tensorflow:Assets written to: GradeNet/assets\n"
     ]
    }
   ],
   "source": [
    "model.save('GradeNet', include_optimizer=False)"
   ]
  },
  {
   "cell_type": "code",
   "execution_count": null,
   "metadata": {},
   "outputs": [],
   "source": []
  }
 ],
 "metadata": {
  "kernelspec": {
   "display_name": "moonboardrnn-hW4ed92X-py3.8",
   "language": "python",
   "name": "python3"
  },
  "language_info": {
   "codemirror_mode": {
    "name": "ipython",
    "version": 3
   },
   "file_extension": ".py",
   "mimetype": "text/x-python",
   "name": "python",
   "nbconvert_exporter": "python",
   "pygments_lexer": "ipython3",
   "version": "3.9.18"
  },
  "vscode": {
   "interpreter": {
    "hash": "8d257aaba97b534713eafa91609455863fac8d9daac4f63bd3ddeb8aecd89a62"
   }
  }
 },
 "nbformat": 4,
 "nbformat_minor": 4
}

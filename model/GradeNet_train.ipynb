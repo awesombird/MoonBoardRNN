{
 "cells": [
  {
   "cell_type": "code",
   "execution_count": 1,
   "metadata": {},
   "outputs": [],
   "source": [
    "from os import environ\n",
    "environ['TF_CPP_MIN_LOG_LEVEL'] = '1'\n",
    "environ[\"XLA_FLAGS\"] = \"--xla_gpu_cuda_data_dir=/home/valsp/miniconda3/envs/tf/lib\"\n"
   ]
  },
  {
   "cell_type": "code",
   "execution_count": 7,
   "metadata": {},
   "outputs": [
    {
     "name": "stdout",
     "output_type": "stream",
     "text": [
      "The autoreload extension is already loaded. To reload it, use:\n",
      "  %reload_ext autoreload\n"
     ]
    }
   ],
   "source": [
    "import numpy as np\n",
    "import pickle\n",
    "import tensorflow as tf\n",
    "from tensorflow.keras.models import Model\n",
    "from tensorflow.keras.layers import Input, Activation, Dense, Flatten, LSTM, Masking, Attention, Concatenate, MultiHeadAttention, Dropout, BatchNormalization, LayerNormalization\n",
    "from tensorflow.keras.losses import SparseCategoricalCrossentropy, MeanSquaredError\n",
    "from tensorflow.keras.metrics import RootMeanSquaredError, binary_accuracy\n",
    "from tensorflow.keras.callbacks import TensorBoard, ModelCheckpoint, EarlyStopping\n",
    "from tensorflow.keras.optimizers import AdamW\n",
    "from model_helper import *\n",
    "from pathlib import Path\n",
    "from datetime import datetime\n",
    "\n",
    "# autoreload\n",
    "%load_ext autoreload\n",
    "%autoreload 2\n"
   ]
  },
  {
   "cell_type": "markdown",
   "metadata": {},
   "source": [
    "## 1. Load in dataset"
   ]
  },
  {
   "cell_type": "code",
   "execution_count": 3,
   "metadata": {},
   "outputs": [],
   "source": [
    "cwd = Path().cwd()"
   ]
  },
  {
   "cell_type": "code",
   "execution_count": 4,
   "metadata": {},
   "outputs": [],
   "source": [
    "with open(cwd.parent / \"preprocessing\" / \"training_seq_n_12_rmrp0\", \"rb\") as f:\n",
    "    train_data = pickle.load(f)\n",
    "with open(cwd.parent / \"preprocessing\" / \"dev_seq_n_12_rmrp0\", \"rb\") as f:\n",
    "    val_data = pickle.load(f)\n",
    "with open(cwd.parent / \"preprocessing\" / \"test_seq_n_12_rmrp0\", \"rb\") as f:\n",
    "    test_data = pickle.load(f)"
   ]
  },
  {
   "cell_type": "code",
   "execution_count": 5,
   "metadata": {},
   "outputs": [
    {
     "name": "stdout",
     "output_type": "stream",
     "text": [
      "X_train shape: (20157, 12, 22)\n",
      "Y_train shape: (20157, 1)\n",
      "X_val shape: (2442, 12, 22)\n",
      "Y_val shape: (2442, 1)\n",
      "X_test shape: (2497, 12, 22)\n",
      "Y_test shape: (2497, 1)\n"
     ]
    }
   ],
   "source": [
    "X_train = np.array(train_data[\"X\"])\n",
    "print(f\"X_train shape: {X_train.shape}\")\n",
    "Y_train = np.array(train_data[\"Y\"]).reshape(-1, 1)\n",
    "print(f\"Y_train shape: {Y_train.shape}\")\n",
    "X_val = np.array(val_data[\"X\"])\n",
    "print(f\"X_val shape: {X_val.shape}\")\n",
    "Y_val = np.array(val_data[\"Y\"]).reshape(-1, 1)\n",
    "print(f\"Y_val shape: {Y_val.shape}\")\n",
    "X_test = np.array(test_data[\"X\"])\n",
    "print(f\"X_test shape: {X_test.shape}\")\n",
    "Y_test = np.array(test_data[\"Y\"]).reshape(-1, 1)\n",
    "print(f\"Y_test shape: {Y_test.shape}\")"
   ]
  },
  {
   "cell_type": "code",
   "execution_count": 8,
   "metadata": {},
   "outputs": [
    {
     "data": {
      "image/png": "[encoded data removed]",
      "text/plain": [
       "<Figure size 640x480 with 1 Axes>"
      ]
     },
     "metadata": {},
     "output_type": "display_data"
    }
   ],
   "source": [
    "plt.hist(Y_train+4, color=\"red\", alpha=0.33, label=\"train\")\n",
    "plt.hist(Y_val+4, color=\"green\", alpha=0.33, label=\"val\")\n",
    "plt.hist(Y_test+4, color=\"blue\", alpha=0.33, label=\"test\")\n",
    "plt.legend()\n",
    "plt.show()\n"
   ]
  },
  {
   "cell_type": "markdown",
   "metadata": {},
   "source": [
    "## 2. Define GradeNet Model"
   ]
  },
  {
   "cell_type": "code",
   "execution_count": 10,
   "metadata": {},
   "outputs": [],
   "source": [
    "def GradeNet(n_holds=12):\n",
    "    \"\"\"Creates a keras model for the GradeNet architecture\n",
    "\n",
    "    Returns:\n",
    "        Model: GradeNet model\n",
    "    \"\"\"\n",
    "    inputs = Input(shape=(n_holds, 22))\n",
    "    mask = Masking(mask_value=0.0).compute_mask(inputs)\n",
    "    lstm0 = LSTM(\n",
    "        20,\n",
    "        activation=\"tanh\",\n",
    "        input_shape=(n_holds, 22),\n",
    "        kernel_initializer=\"glorot_normal\",\n",
    "        return_sequences=\"True\",\n",
    "    )(inputs, mask=mask)\n",
    "\n",
    "    attention = Attention()([lstm0, lstm0])\n",
    "    attended_sequence = Concatenate()([lstm0, attention])\n",
    "\n",
    "    dense1 = Dense(100, activation=\"relu\", kernel_initializer=\"glorot_normal\")(attended_sequence)\n",
    "    dense2 = Dense(80, activation=\"relu\", kernel_initializer=\"glorot_normal\")(dense1)\n",
    "    dense3 = Dense(75, activation=\"relu\", kernel_initializer=\"glorot_normal\")(dense2)\n",
    "    dense4 = Dense(50, activation=\"relu\", kernel_initializer=\"glorot_normal\")(dense3)\n",
    "    dense5 = Dense(20, activation=\"relu\", kernel_initializer=\"glorot_normal\")(dense4)\n",
    "    dense6 = Dense(10, activation=\"relu\", kernel_initializer=\"glorot_normal\")(dense5)\n",
    "    # flat = Flatten()(dense6)\n",
    "    # intermediate = Dense(1, name=\"intermediate\")(flat)\n",
    "    lstm1 = LSTM(\n",
    "        20, activation=\"tanh\", kernel_initializer=\"glorot_normal\", return_sequences=True\n",
    "    )(dense6)\n",
    "    lstm2 = LSTM(20, activation=\"tanh\", kernel_initializer=\"glorot_normal\")(lstm1)\n",
    "    dense7 = Dense(15, activation=\"relu\", kernel_initializer=\"glorot_normal\")(lstm2)\n",
    "    dense8 = Dense(15, activation=\"relu\", kernel_initializer=\"glorot_normal\")(dense7)\n",
    "    out = Dense(1, name=\"out\")(dense8)\n",
    "\n",
    "    # return Model(inputs=[inputs], outputs=[out, intermediate])\n",
    "    return Model(inputs=[inputs], outputs=[out])"
   ]
  },
  {
   "cell_type": "code",
   "execution_count": 17,
   "metadata": {},
   "outputs": [],
   "source": [
    "# Similar model using branching\n",
    "\n",
    "def GradeNet(n_holds=12):\n",
    "    \"\"\"Creates a keras model for the GradeNet architecture\n",
    "\n",
    "    Returns:\n",
    "        Model: GradeNet model\n",
    "    \"\"\"\n",
    "    # Define inputs\n",
    "    inputs = Input(shape=(n_holds, 22))\n",
    "    mask = Masking(mask_value=0.0).compute_mask(inputs)\n",
    "\n",
    "    # Define shared layers\n",
    "    lstm0 = LSTM(\n",
    "        20, activation=\"tanh\", input_shape=(n_holds, 22), kernel_initializer=\"glorot_normal\", return_sequences=\"True\",\n",
    "    )(inputs, mask=mask)\n",
    "\n",
    "    # Use self-attention to get a weighted sum of the input sequence\n",
    "    attention = Attention()([inputs, inputs])\n",
    "\n",
    "    # Concatenate the weighted sum with the input sequence\n",
    "    attended_sequence = Concatenate()([inputs, attention])\n",
    "\n",
    "    # Define the shared dense layers\n",
    "    dense1 = Dense(100, activation=\"relu\", kernel_initializer=\"glorot_normal\")(attended_sequence)\n",
    "    dense2 = Dense(80, activation=\"relu\", kernel_initializer=\"glorot_normal\")(dense1)\n",
    "    dense3 = Dense(75, activation=\"relu\", kernel_initializer=\"glorot_normal\")(dense2)\n",
    "    dense4 = Dense(50, activation=\"relu\", kernel_initializer=\"glorot_normal\")(dense3)\n",
    "    dense5 = Dense(20, activation=\"relu\", kernel_initializer=\"glorot_normal\")(dense4)\n",
    "    dense6 = Dense(10, activation=\"relu\", kernel_initializer=\"glorot_normal\")(dense5)\n",
    "\n",
    "    # Define the shared LSTM layers\n",
    "    lstm1 = LSTM(\n",
    "        20, activation=\"tanh\", kernel_initializer=\"glorot_normal\", return_sequences=True\n",
    "    )(dense6)\n",
    "    lstm2 = LSTM(20, activation=\"tanh\", kernel_initializer=\"glorot_normal\")(lstm1)\n",
    "    dense7 = Dense(15, activation=\"relu\", kernel_initializer=\"glorot_normal\")(lstm2)\n",
    "    dense8 = Dense(15, activation=\"relu\", kernel_initializer=\"glorot_normal\")(dense7)\n",
    "\n",
    "    # Define the output layers\n",
    "    out = Dense(1, name=\"out\")(dense8)\n",
    "\n",
    "    # return Model(inputs=[inputs], outputs=[out, intermediate])\n",
    "    return Model(inputs=[inputs], outputs=[out])"
   ]
  },
  {
   "cell_type": "code",
   "execution_count": 18,
   "metadata": {},
   "outputs": [],
   "source": [
    "# def GradeNet(n_holds=12):\n",
    "#     \"\"\"Creates a keras model for the GradeNet architecture\n",
    "\n",
    "#     Returns:\n",
    "#         Model: GradeNet model\n",
    "#     \"\"\"\n",
    "#     inputs = Input(shape=(n_holds, 22))\n",
    "#     mask = Masking(mask_value=0.0).compute_mask(inputs)\n",
    "#     lstm0 = LSTM(\n",
    "#         20,\n",
    "#         activation=\"tanh\",\n",
    "#         input_shape=(n_holds, 22),\n",
    "#         kernel_initializer=\"glorot_normal\",\n",
    "#         return_sequences=\"True\",\n",
    "#     )(inputs, mask=mask)\n",
    "#     dense1 = Dense(100, activation=\"relu\", kernel_initializer=\"glorot_normal\")(lstm0)\n",
    "#     dense2 = Dense(80, activation=\"relu\", kernel_initializer=\"glorot_normal\")(dense1)\n",
    "#     dense3 = Dense(75, activation=\"relu\", kernel_initializer=\"glorot_normal\")(dense2)\n",
    "#     dense4 = Dense(50, activation=\"relu\", kernel_initializer=\"glorot_normal\")(dense3)\n",
    "#     dense5 = Dense(20, activation=\"relu\", kernel_initializer=\"glorot_normal\")(dense4)\n",
    "#     dense6 = Dense(10, activation=\"relu\", kernel_initializer=\"glorot_normal\")(dense5)\n",
    "#     # flat = Flatten()(dense6)\n",
    "#     # intermediate = Dense(1, name=\"intermediate\")(flat)\n",
    "#     lstm1 = LSTM(\n",
    "#         20, activation=\"tanh\", kernel_initializer=\"glorot_normal\", return_sequences=True\n",
    "#     )(dense6)\n",
    "#     lstm2 = LSTM(20, activation=\"tanh\", kernel_initializer=\"glorot_normal\")(lstm1)\n",
    "#     dense7 = Dense(15, activation=\"relu\", kernel_initializer=\"glorot_normal\")(lstm2)\n",
    "#     dense8 = Dense(15, activation=\"relu\", kernel_initializer=\"glorot_normal\")(dense7)\n",
    "#     out = Dense(1, name=\"out\")(dense8)\n",
    "\n",
    "#     # return Model(inputs=[inputs], outputs=[out, intermediate])\n",
    "#     return Model(inputs=[inputs], outputs=[out])\n",
    "\n",
    "# The model above works well, but LSTM layers are outdated. We can use a model with multihead attention instead."
   ]
  },
  {
   "cell_type": "code",
   "execution_count": 19,
   "metadata": {},
   "outputs": [],
   "source": [
    "BATCH_SIZE = 256\n"
   ]
  },
  {
   "cell_type": "code",
   "execution_count": 20,
   "metadata": {},
   "outputs": [],
   "source": [
    "# from tensorflow_addons.optimizers import CyclicalLearningRate\n",
    "\n",
    "# step_size = 2 * len(X_train) // 32\n",
    "# cyclical_learning_rate = CyclicalLearningRate(\n",
    "#     initial_learning_rate=3e-7,\n",
    "#     maximal_learning_rate=3e-5,\n",
    "#     step_size=step_size,\n",
    "#     scale_fn=lambda x: 1 / (2.0 ** (x - 1)),\n",
    "#     scale_mode=\"cycle\",\n",
    "# )"
   ]
  },
  {
   "cell_type": "code",
   "execution_count": 21,
   "metadata": {},
   "outputs": [],
   "source": [
    "def one_off_accuracy(y_true, y_pred):\n",
    "    \"\"\"Computes the accuracy of a grade prediction including +/-1 errors\n",
    "\n",
    "    Args:\n",
    "        y_true: true grades\n",
    "        y_pred: predicted grades\n",
    "    \"\"\"\n",
    "    return tf.reduce_mean(tf.cast(abs(y_true - tf.math.round(y_pred)) <= 1, tf.float32))\n"
   ]
  },
  {
   "cell_type": "code",
   "execution_count": 22,
   "metadata": {},
   "outputs": [],
   "source": [
    "# TODO: re-enable custom loss, trying to get it to equal sum of intermediate and final loss\n",
    "# def custom_loss(y_true, y_pred):\n",
    "#     \"\"\"Custom loss function with averages the final and interdiate (prior to lstm) losses\"\"\"\n",
    "#     # TODO: what is the distinct benefit of intermediate loss for our use model\n",
    "#     # Improved optimization: By including an additional cross-entropy loss at an intermediate layer, we provide the network with more information about the error signal and can help to prevent vanishing gradients, which can occur in deep networks. This can lead to more stable and efficient optimization during training.\n",
    "#     # Better representation learning: Cross-entropy loss at an intermediate layer can encourage the network to learn better representations of the input data, which can improve the accuracy of the final predictions. This is because the intermediate layer may capture more complex and abstract features of the input data, which can be useful for discriminating between different classes.\n",
    "#     # Regularization: Including an intermediate cross-entropy loss can also act as a form of regularization, by encouraging the network to learn representations that are more useful for classification. This can prevent overfitting and improve the generalization performance of the network.\n",
    "\n",
    "#     # sparse cross entropy is used as y_true is encoded as integers not one-hot vectors\n",
    "#     # returns cross entropy for each prediction\n",
    "#     intermediate_loss = SparseCategoricalCrossentropy()(y_true, intermediate)\n",
    "#     final_loss = SparseCategoricalCrossentropy()(y_true, y_pred)\n",
    "#     # add the cross entropies and average over the predictions\n",
    "#     return tf.reduce_mean(intermediate_loss + final_loss)\n",
    "\n",
    "# TODO: change one_off_accuracy to a custom metric that can be saved with the model\n",
    "model = GradeNet()\n",
    "model.compile(\n",
    "    optimizer=AdamW(\n",
    "        learning_rate=0.001,\n",
    "        weight_decay=0.004,\n",
    "        beta_1=0.9,\n",
    "        beta_2=0.999,\n",
    "    ),\n",
    "    loss={\n",
    "        \"out\": MeanSquaredError(),\n",
    "        # \"intermediate\": MeanSquaredError(),\n",
    "    },\n",
    "    metrics=[RootMeanSquaredError(), binary_accuracy, one_off_accuracy],\n",
    ")"
   ]
  },
  {
   "cell_type": "markdown",
   "metadata": {},
   "source": [
    "## 2-1. Training of GradeNet\n",
    "### To load pretrained weights, please skip to 2-2."
   ]
  },
  {
   "cell_type": "code",
   "execution_count": 23,
   "metadata": {},
   "outputs": [],
   "source": [
    "# tensorboard callback\n",
    "log_dir = cwd / \"logs\" / \"GradeNet\" / datetime.now().strftime(\"%Y%m%d-%H%M%S\")\n",
    "tensorboard_callback = TensorBoard(log_dir=log_dir, histogram_freq=1)\n",
    "\n",
    "# checkpoint callback in case we manually end training early (o/w early stopping should restore best weights)\n",
    "checkpoint_path = (\n",
    "    cwd / \"checkpoints\" / \"GradeNet\" / \"epoch{epoch:02d}-loss{val_loss:.2f}.h5\"\n",
    ")\n",
    "cp_callback = ModelCheckpoint(\n",
    "    filepath=str(checkpoint_path),\n",
    "    save_weights_only=True,\n",
    "    save_best_only=True,\n",
    "    verbose=1,\n",
    ")\n",
    "\n",
    "# early stopping callback\n",
    "es_callback = EarlyStopping(\n",
    "    monitor=\"val_loss\", mode=\"min\", verbose=1, patience=10, restore_best_weights=True\n",
    ")"
   ]
  },
  {
   "cell_type": "code",
   "execution_count": 24,
   "metadata": {
    "scrolled": true
   },
   "outputs": [
    {
     "name": "stdout",
     "output_type": "stream",
     "text": [
      "Epoch 1/25\n",
      "79/79 [==============================] - ETA: 0s - loss: 2.6697 - root_mean_squared_error: 1.6339 - binary_accuracy: 0.2991 - one_off_accuracy: 0.7442\n",
      "Epoch 1: val_loss improved from inf to 1.50999, saving model to /Users/neil/Local/Dev/cs137_dnn/MoonBoardRNN_old/model/checkpoints/GradeNet/epoch01-loss1.51.h5\n",
      "79/79 [==============================] - 8s 39ms/step - loss: 2.6697 - root_mean_squared_error: 1.6339 - binary_accuracy: 0.2991 - one_off_accuracy: 0.7442 - val_loss: 1.5100 - val_root_mean_squared_error: 1.2288 - val_binary_accuracy: 0.2879 - val_one_off_accuracy: 0.8091\n",
      "Epoch 2/25\n",
      "79/79 [==============================] - ETA: 0s - loss: 1.2286 - root_mean_squared_error: 1.1084 - binary_accuracy: 0.3778 - one_off_accuracy: 0.8478\n",
      "Epoch 2: val_loss improved from 1.50999 to 1.08995, saving model to /Users/neil/Local/Dev/cs137_dnn/MoonBoardRNN_old/model/checkpoints/GradeNet/epoch02-loss1.09.h5\n",
      "79/79 [==============================] - 2s 23ms/step - loss: 1.2286 - root_mean_squared_error: 1.1084 - binary_accuracy: 0.3778 - one_off_accuracy: 0.8478 - val_loss: 1.0899 - val_root_mean_squared_error: 1.0440 - val_binary_accuracy: 0.4509 - val_one_off_accuracy: 0.8619\n",
      "Epoch 3/25\n",
      "78/79 [============================>.] - ETA: 0s - loss: 1.0576 - root_mean_squared_error: 1.0284 - binary_accuracy: 0.4370 - one_off_accuracy: 0.8641\n",
      "Epoch 3: val_loss improved from 1.08995 to 0.99488, saving model to /Users/neil/Local/Dev/cs137_dnn/MoonBoardRNN_old/model/checkpoints/GradeNet/epoch03-loss0.99.h5\n",
      "79/79 [==============================] - 2s 23ms/step - loss: 1.0563 - root_mean_squared_error: 1.0278 - binary_accuracy: 0.4370 - one_off_accuracy: 0.8641 - val_loss: 0.9949 - val_root_mean_squared_error: 0.9974 - val_binary_accuracy: 0.4472 - val_one_off_accuracy: 0.8758\n",
      "Epoch 4/25\n",
      "79/79 [==============================] - ETA: 0s - loss: 1.0023 - root_mean_squared_error: 1.0011 - binary_accuracy: 0.4426 - one_off_accuracy: 0.8722\n",
      "Epoch 4: val_loss improved from 0.99488 to 0.96481, saving model to /Users/neil/Local/Dev/cs137_dnn/MoonBoardRNN_old/model/checkpoints/GradeNet/epoch04-loss0.96.h5\n",
      "79/79 [==============================] - 2s 22ms/step - loss: 1.0023 - root_mean_squared_error: 1.0011 - binary_accuracy: 0.4426 - one_off_accuracy: 0.8722 - val_loss: 0.9648 - val_root_mean_squared_error: 0.9822 - val_binary_accuracy: 0.4521 - val_one_off_accuracy: 0.8783\n",
      "Epoch 5/25\n",
      "79/79 [==============================] - ETA: 0s - loss: 0.9678 - root_mean_squared_error: 0.9837 - binary_accuracy: 0.4484 - one_off_accuracy: 0.8761\n",
      "Epoch 5: val_loss did not improve from 0.96481\n",
      "79/79 [==============================] - 2s 22ms/step - loss: 0.9678 - root_mean_squared_error: 0.9837 - binary_accuracy: 0.4484 - one_off_accuracy: 0.8761 - val_loss: 1.0030 - val_root_mean_squared_error: 1.0015 - val_binary_accuracy: 0.4656 - val_one_off_accuracy: 0.8736\n",
      "Epoch 6/25\n",
      "79/79 [==============================] - ETA: 0s - loss: 0.9534 - root_mean_squared_error: 0.9764 - binary_accuracy: 0.4488 - one_off_accuracy: 0.8793\n",
      "Epoch 6: val_loss improved from 0.96481 to 0.96335, saving model to /Users/neil/Local/Dev/cs137_dnn/MoonBoardRNN_old/model/checkpoints/GradeNet/epoch06-loss0.96.h5\n",
      "79/79 [==============================] - 2s 22ms/step - loss: 0.9534 - root_mean_squared_error: 0.9764 - binary_accuracy: 0.4488 - one_off_accuracy: 0.8793 - val_loss: 0.9633 - val_root_mean_squared_error: 0.9815 - val_binary_accuracy: 0.4636 - val_one_off_accuracy: 0.8749\n",
      "Epoch 7/25\n",
      "78/79 [============================>.] - ETA: 0s - loss: 0.9351 - root_mean_squared_error: 0.9670 - binary_accuracy: 0.4523 - one_off_accuracy: 0.8820\n",
      "Epoch 7: val_loss improved from 0.96335 to 0.93359, saving model to /Users/neil/Local/Dev/cs137_dnn/MoonBoardRNN_old/model/checkpoints/GradeNet/epoch07-loss0.93.h5\n",
      "79/79 [==============================] - 2s 30ms/step - loss: 0.9366 - root_mean_squared_error: 0.9678 - binary_accuracy: 0.4520 - one_off_accuracy: 0.8821 - val_loss: 0.9336 - val_root_mean_squared_error: 0.9662 - val_binary_accuracy: 0.4607 - val_one_off_accuracy: 0.8806\n",
      "Epoch 8/25\n",
      "79/79 [==============================] - ETA: 0s - loss: 0.9306 - root_mean_squared_error: 0.9647 - binary_accuracy: 0.4488 - one_off_accuracy: 0.8810\n",
      "Epoch 8: val_loss improved from 0.93359 to 0.92844, saving model to /Users/neil/Local/Dev/cs137_dnn/MoonBoardRNN_old/model/checkpoints/GradeNet/epoch08-loss0.93.h5\n",
      "79/79 [==============================] - 2s 22ms/step - loss: 0.9306 - root_mean_squared_error: 0.9647 - binary_accuracy: 0.4488 - one_off_accuracy: 0.8810 - val_loss: 0.9284 - val_root_mean_squared_error: 0.9636 - val_binary_accuracy: 0.4570 - val_one_off_accuracy: 0.8830\n",
      "Epoch 9/25\n",
      "79/79 [==============================] - ETA: 0s - loss: 0.9138 - root_mean_squared_error: 0.9559 - binary_accuracy: 0.4525 - one_off_accuracy: 0.8870\n",
      "Epoch 9: val_loss improved from 0.92844 to 0.92112, saving model to /Users/neil/Local/Dev/cs137_dnn/MoonBoardRNN_old/model/checkpoints/GradeNet/epoch09-loss0.92.h5\n",
      "79/79 [==============================] - 2s 22ms/step - loss: 0.9138 - root_mean_squared_error: 0.9559 - binary_accuracy: 0.4525 - one_off_accuracy: 0.8870 - val_loss: 0.9211 - val_root_mean_squared_error: 0.9598 - val_binary_accuracy: 0.4656 - val_one_off_accuracy: 0.8838\n",
      "Epoch 10/25\n",
      "77/79 [============================>.] - ETA: 0s - loss: 0.9048 - root_mean_squared_error: 0.9512 - binary_accuracy: 0.4541 - one_off_accuracy: 0.8872\n",
      "Epoch 10: val_loss did not improve from 0.92112\n",
      "79/79 [==============================] - 2s 24ms/step - loss: 0.9082 - root_mean_squared_error: 0.9530 - binary_accuracy: 0.4534 - one_off_accuracy: 0.8865 - val_loss: 0.9272 - val_root_mean_squared_error: 0.9629 - val_binary_accuracy: 0.4631 - val_one_off_accuracy: 0.8857\n",
      "Epoch 11/25\n",
      "78/79 [============================>.] - ETA: 0s - loss: 0.8820 - root_mean_squared_error: 0.9392 - binary_accuracy: 0.4543 - one_off_accuracy: 0.8908\n",
      "Epoch 11: val_loss did not improve from 0.92112\n",
      "79/79 [==============================] - 2s 24ms/step - loss: 0.8819 - root_mean_squared_error: 0.9391 - binary_accuracy: 0.4543 - one_off_accuracy: 0.8906 - val_loss: 0.9785 - val_root_mean_squared_error: 0.9892 - val_binary_accuracy: 0.4668 - val_one_off_accuracy: 0.8760\n",
      "Epoch 12/25\n",
      "79/79 [==============================] - ETA: 0s - loss: 0.8807 - root_mean_squared_error: 0.9385 - binary_accuracy: 0.4533 - one_off_accuracy: 0.8886\n",
      "Epoch 12: val_loss improved from 0.92112 to 0.91436, saving model to /Users/neil/Local/Dev/cs137_dnn/MoonBoardRNN_old/model/checkpoints/GradeNet/epoch12-loss0.91.h5\n",
      "79/79 [==============================] - 2s 23ms/step - loss: 0.8807 - root_mean_squared_error: 0.9385 - binary_accuracy: 0.4533 - one_off_accuracy: 0.8886 - val_loss: 0.9144 - val_root_mean_squared_error: 0.9562 - val_binary_accuracy: 0.4660 - val_one_off_accuracy: 0.8876\n",
      "Epoch 13/25\n",
      "79/79 [==============================] - ETA: 0s - loss: 0.8587 - root_mean_squared_error: 0.9267 - binary_accuracy: 0.4553 - one_off_accuracy: 0.8944\n",
      "Epoch 13: val_loss did not improve from 0.91436\n",
      "79/79 [==============================] - 2s 22ms/step - loss: 0.8587 - root_mean_squared_error: 0.9267 - binary_accuracy: 0.4553 - one_off_accuracy: 0.8944 - val_loss: 0.9171 - val_root_mean_squared_error: 0.9577 - val_binary_accuracy: 0.4582 - val_one_off_accuracy: 0.8873\n",
      "Epoch 14/25\n",
      "79/79 [==============================] - ETA: 0s - loss: 0.8597 - root_mean_squared_error: 0.9272 - binary_accuracy: 0.4538 - one_off_accuracy: 0.8931\n",
      "Epoch 14: val_loss did not improve from 0.91436\n",
      "79/79 [==============================] - 2s 22ms/step - loss: 0.8597 - root_mean_squared_error: 0.9272 - binary_accuracy: 0.4538 - one_off_accuracy: 0.8931 - val_loss: 0.9595 - val_root_mean_squared_error: 0.9796 - val_binary_accuracy: 0.4562 - val_one_off_accuracy: 0.8852\n",
      "Epoch 15/25\n",
      "77/79 [============================>.] - ETA: 0s - loss: 0.8449 - root_mean_squared_error: 0.9192 - binary_accuracy: 0.4537 - one_off_accuracy: 0.8950\n",
      "Epoch 15: val_loss did not improve from 0.91436\n",
      "79/79 [==============================] - 2s 24ms/step - loss: 0.8466 - root_mean_squared_error: 0.9201 - binary_accuracy: 0.4533 - one_off_accuracy: 0.8946 - val_loss: 0.9179 - val_root_mean_squared_error: 0.9581 - val_binary_accuracy: 0.4730 - val_one_off_accuracy: 0.8899\n",
      "Epoch 16/25\n",
      "79/79 [==============================] - ETA: 0s - loss: 0.8677 - root_mean_squared_error: 0.9315 - binary_accuracy: 0.4527 - one_off_accuracy: 0.8922\n",
      "Epoch 16: val_loss did not improve from 0.91436\n",
      "79/79 [==============================] - 2s 22ms/step - loss: 0.8677 - root_mean_squared_error: 0.9315 - binary_accuracy: 0.4527 - one_off_accuracy: 0.8922 - val_loss: 0.9339 - val_root_mean_squared_error: 0.9664 - val_binary_accuracy: 0.4697 - val_one_off_accuracy: 0.8812\n",
      "Epoch 17/25\n",
      "78/79 [============================>.] - ETA: 0s - loss: 0.8383 - root_mean_squared_error: 0.9156 - binary_accuracy: 0.4530 - one_off_accuracy: 0.8975\n",
      "Epoch 17: val_loss improved from 0.91436 to 0.88861, saving model to /Users/neil/Local/Dev/cs137_dnn/MoonBoardRNN_old/model/checkpoints/GradeNet/epoch17-loss0.89.h5\n",
      "79/79 [==============================] - 2s 23ms/step - loss: 0.8371 - root_mean_squared_error: 0.9149 - binary_accuracy: 0.4529 - one_off_accuracy: 0.8976 - val_loss: 0.8886 - val_root_mean_squared_error: 0.9427 - val_binary_accuracy: 0.4717 - val_one_off_accuracy: 0.8931\n",
      "Epoch 18/25\n",
      "78/79 [============================>.] - ETA: 0s - loss: 0.8249 - root_mean_squared_error: 0.9082 - binary_accuracy: 0.4543 - one_off_accuracy: 0.9002\n",
      "Epoch 18: val_loss did not improve from 0.88861\n",
      "79/79 [==============================] - 2s 23ms/step - loss: 0.8252 - root_mean_squared_error: 0.9084 - binary_accuracy: 0.4545 - one_off_accuracy: 0.9002 - val_loss: 0.9089 - val_root_mean_squared_error: 0.9534 - val_binary_accuracy: 0.4689 - val_one_off_accuracy: 0.8847\n",
      "Epoch 19/25\n",
      "79/79 [==============================] - ETA: 0s - loss: 0.8219 - root_mean_squared_error: 0.9066 - binary_accuracy: 0.4553 - one_off_accuracy: 0.8993\n",
      "Epoch 19: val_loss did not improve from 0.88861\n",
      "79/79 [==============================] - 2s 22ms/step - loss: 0.8219 - root_mean_squared_error: 0.9066 - binary_accuracy: 0.4553 - one_off_accuracy: 0.8993 - val_loss: 0.9018 - val_root_mean_squared_error: 0.9496 - val_binary_accuracy: 0.4615 - val_one_off_accuracy: 0.8916\n",
      "Epoch 20/25\n",
      "79/79 [==============================] - ETA: 0s - loss: 0.8307 - root_mean_squared_error: 0.9114 - binary_accuracy: 0.4572 - one_off_accuracy: 0.8976\n",
      "Epoch 20: val_loss did not improve from 0.88861\n",
      "79/79 [==============================] - 2s 22ms/step - loss: 0.8307 - root_mean_squared_error: 0.9114 - binary_accuracy: 0.4572 - one_off_accuracy: 0.8976 - val_loss: 0.9140 - val_root_mean_squared_error: 0.9561 - val_binary_accuracy: 0.4562 - val_one_off_accuracy: 0.8868\n",
      "Epoch 21/25\n",
      "79/79 [==============================] - ETA: 0s - loss: 0.8120 - root_mean_squared_error: 0.9011 - binary_accuracy: 0.4548 - one_off_accuracy: 0.9005\n",
      "Epoch 21: val_loss did not improve from 0.88861\n",
      "79/79 [==============================] - 2s 28ms/step - loss: 0.8120 - root_mean_squared_error: 0.9011 - binary_accuracy: 0.4548 - one_off_accuracy: 0.9005 - val_loss: 0.9454 - val_root_mean_squared_error: 0.9723 - val_binary_accuracy: 0.4705 - val_one_off_accuracy: 0.8757\n",
      "Epoch 22/25\n",
      "78/79 [============================>.] - ETA: 0s - loss: 0.7935 - root_mean_squared_error: 0.8908 - binary_accuracy: 0.4544 - one_off_accuracy: 0.9037\n",
      "Epoch 22: val_loss did not improve from 0.88861\n",
      "79/79 [==============================] - 2s 27ms/step - loss: 0.7964 - root_mean_squared_error: 0.8924 - binary_accuracy: 0.4549 - one_off_accuracy: 0.9034 - val_loss: 0.8947 - val_root_mean_squared_error: 0.9459 - val_binary_accuracy: 0.4681 - val_one_off_accuracy: 0.8916\n",
      "Epoch 23/25\n",
      "77/79 [============================>.] - ETA: 0s - loss: 0.7901 - root_mean_squared_error: 0.8889 - binary_accuracy: 0.4577 - one_off_accuracy: 0.9044\n",
      "Epoch 23: val_loss did not improve from 0.88861\n",
      "79/79 [==============================] - 2s 27ms/step - loss: 0.7904 - root_mean_squared_error: 0.8890 - binary_accuracy: 0.4570 - one_off_accuracy: 0.9043 - val_loss: 0.8919 - val_root_mean_squared_error: 0.9444 - val_binary_accuracy: 0.4644 - val_one_off_accuracy: 0.8915\n",
      "Epoch 24/25\n",
      "78/79 [============================>.] - ETA: 0s - loss: 0.7831 - root_mean_squared_error: 0.8849 - binary_accuracy: 0.4549 - one_off_accuracy: 0.9053\n",
      "Epoch 24: val_loss did not improve from 0.88861\n",
      "79/79 [==============================] - 2s 24ms/step - loss: 0.7816 - root_mean_squared_error: 0.8841 - binary_accuracy: 0.4556 - one_off_accuracy: 0.9056 - val_loss: 0.9123 - val_root_mean_squared_error: 0.9552 - val_binary_accuracy: 0.4668 - val_one_off_accuracy: 0.8891\n",
      "Epoch 25/25\n",
      "79/79 [==============================] - ETA: 0s - loss: 0.7676 - root_mean_squared_error: 0.8761 - binary_accuracy: 0.4568 - one_off_accuracy: 0.9089\n",
      "Epoch 25: val_loss did not improve from 0.88861\n",
      "79/79 [==============================] - 2s 24ms/step - loss: 0.7676 - root_mean_squared_error: 0.8761 - binary_accuracy: 0.4568 - one_off_accuracy: 0.9089 - val_loss: 0.9586 - val_root_mean_squared_error: 0.9791 - val_binary_accuracy: 0.4754 - val_one_off_accuracy: 0.8768\n"
     ]
    }
   ],
   "source": [
    "# TODO: where do the class weights come from, can we load them from a config?\n",
    "# old {0: 1, 1: 1, 2: 2, 3: 2, 4: 1, 5: 4, 6: 2, 7: 4, 8: 8, 9: 8},\n",
    "# new {0: 1, 1: 1, 2: 2, 3: 4, 4: 1, 5: 4, 6: 8, 7: 8, 8: 8, 9: 8},\n",
    "\n",
    "# grade_weights = {0: 1, 1: 1, 2: 2, 3: 4, 4: 1, 5: 4, 6: 8, 7: 8, 8: 8, 9: 8}\n",
    "history = model.fit(\n",
    "    X_train,\n",
    "    (Y_train, Y_train),\n",
    "    validation_data=(X_val, (Y_val, Y_val)),\n",
    "    epochs=25,\n",
    "    batch_size=BATCH_SIZE,\n",
    "    # class_weight=grade_weights,\n",
    "    callbacks=[tensorboard_callback, cp_callback, es_callback],\n",
    ")\n",
    "# model.load_weights('GradeNet.h5')"
   ]
  },
  {
   "cell_type": "code",
   "execution_count": 25,
   "metadata": {},
   "outputs": [
    {
     "name": "stdout",
     "output_type": "stream",
     "text": [
      "dict_keys(['loss', 'root_mean_squared_error', 'binary_accuracy', 'one_off_accuracy', 'val_loss', 'val_root_mean_squared_error', 'val_binary_accuracy', 'val_one_off_accuracy'])\n"
     ]
    }
   ],
   "source": [
    "# plot history from tensorboard log\n",
    "# plot_tb_history(log_dir, \"GradeNet\")\n",
    "print(history.history.keys())"
   ]
  },
  {
   "cell_type": "code",
   "execution_count": 26,
   "metadata": {},
   "outputs": [
    {
     "data": {
      "image/png": "[encoded data removed]",
      "text/plain": [
       "<Figure size 1000x500 with 2 Axes>"
      ]
     },
     "metadata": {},
     "output_type": "display_data"
    }
   ],
   "source": [
    "history_path = cwd / \"GradeNet_train_history\"\n",
    "try:\n",
    "    plot_history(\n",
    "        history,\n",
    "        \"GradeNet\",\n",
    "        # losses=[\"out_loss\", \"intermediate_loss\"],\n",
    "        # metrics=[\"out_binary_accuracy\", \"out_one_off_accuracy\"],\n",
    "        losses=[\"loss\"],#, \"intermediate_loss\"],\n",
    "        metrics=[\"binary_accuracy\", \"one_off_accuracy\"],\n",
    "    )\n",
    "    save_pickle(history, history_path)\n",
    "except NameError:\n",
    "    # if history not defined, load from pickle\n",
    "    with open(history_path, \"rb\") as f:\n",
    "        history = pickle.load(f)\n",
    "    plot_history(\n",
    "        history,\n",
    "        \"GradeNet\",\n",
    "        # losses=[\"out_loss\", \"intermediate_loss\"],\n",
    "        # metrics=[\"out_binary_accuracy\", \"out_one_off_accuracy\"],\n",
    "        losses=[\"loss\"],#, \"intermediate_loss\"],\n",
    "        metrics=[\"binary_accuracy\", \"one_off_accuracy\"],\n",
    "    )"
   ]
  },
  {
   "attachments": {},
   "cell_type": "markdown",
   "metadata": {},
   "source": [
    "| change              | optimal epoch | val_loss   | val_rmse  | val_acc    | val_one_off_acc |\n",
    "| ------------------- | ------------- | ---------- | --------- | ---------- | --------------- |\n",
    "| Adam                | 25            | 0.89241356 | 0.9446764 | 0.46846846 | 0.8890254       |\n",
    "| AdamW               | 21            | 0.89716    | 0.9472    | 0.46150696 | 0.88533986      |\n",
    "| + intermediate loss | 25            | 0.8886     | 0.9427    | 0.4701     | 0.8890          |\n"
   ]
  },
  {
   "cell_type": "code",
   "execution_count": 27,
   "metadata": {},
   "outputs": [
    {
     "data": {
      "text/plain": [
       "PosixPath('/Users/neil/Local/Dev/cs137_dnn/MoonBoardRNN_old/model/checkpoints/GradeNet/epoch17-loss0.89.h5')"
      ]
     },
     "execution_count": 27,
     "metadata": {},
     "output_type": "execute_result"
    }
   ],
   "source": [
    "# load best checkpoint\n",
    "best_cp = sorted(checkpoint_path.parent.glob(\"*.h5\"), key=lambda p: float(p.stem.split(\"-\")[1][4:]))[0]\n",
    "best_cp"
   ]
  },
  {
   "cell_type": "code",
   "execution_count": 28,
   "metadata": {},
   "outputs": [],
   "source": [
    "model.load_weights(best_cp)"
   ]
  },
  {
   "attachments": {},
   "cell_type": "markdown",
   "metadata": {},
   "source": [
    "## 2.2 - Saving the model"
   ]
  },
  {
   "cell_type": "code",
   "execution_count": 29,
   "metadata": {},
   "outputs": [
    {
     "name": "stdout",
     "output_type": "stream",
     "text": [
      "INFO:tensorflow:Assets written to: GradeNet/assets\n"
     ]
    },
    {
     "name": "stderr",
     "output_type": "stream",
     "text": [
      "INFO:tensorflow:Assets written to: GradeNet/assets\n"
     ]
    }
   ],
   "source": [
    "model.save('GradeNet', include_optimizer=False)"
   ]
  },
  {
   "cell_type": "code",
   "execution_count": null,
   "metadata": {},
   "outputs": [],
   "source": []
  }
 ],
 "metadata": {
  "kernelspec": {
   "display_name": "moonboardrnn-hW4ed92X-py3.8",
   "language": "python",
   "name": "python3"
  },
  "language_info": {
   "codemirror_mode": {
    "name": "ipython",
    "version": 3
   },
   "file_extension": ".py",
   "mimetype": "text/x-python",
   "name": "python",
   "nbconvert_exporter": "python",
   "pygments_lexer": "ipython3",
   "version": "3.9.18"
  },
  "vscode": {
   "interpreter": {
    "hash": "8d257aaba97b534713eafa91609455863fac8d9daac4f63bd3ddeb8aecd89a62"
   }
  }
 },
 "nbformat": 4,
 "nbformat_minor": 4
}

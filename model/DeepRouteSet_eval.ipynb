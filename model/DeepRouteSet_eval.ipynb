{
 "cells": [
  {
   "attachments": {},
   "cell_type": "markdown",
   "metadata": {},
   "source": [
    "# DeepRouteSet Testing\n"
   ]
  },
  {
   "cell_type": "code",
   "execution_count": 1,
   "metadata": {},
   "outputs": [],
   "source": [
    "from os import environ\n",
    "environ['TF_CPP_MIN_LOG_LEVEL'] = '1'\n",
    "environ[\"XLA_FLAGS\"] = \"--xla_gpu_cuda_data_dir=/home/valsp/miniconda3/envs/tf/lib\"\n"
   ]
  },
  {
   "cell_type": "code",
   "execution_count": 2,
   "metadata": {},
   "outputs": [
    {
     "name": "stderr",
     "output_type": "stream",
     "text": [
      "2023-04-24 11:02:26.677247: W tensorflow/compiler/tf2tensorrt/utils/py_utils.cc:38] TF-TRT Warning: Could not find TensorRT\n"
     ]
    }
   ],
   "source": [
    "import numpy as np\n",
    "import pandas as pd\n",
    "import matplotlib.pyplot as plt\n",
    "import pickle\n",
    "from collections import Counter\n",
    "from pathlib import Path\n",
    "import tensorflow as tf\n",
    "from tensorflow.keras.backend import argmax\n",
    "from tensorflow.keras.layers import RepeatVector\n",
    "from tensorflow.keras.models import load_model\n",
    "from tensorflow.keras.utils import to_categorical\n",
    "\n",
    "from DeepRouteSet_helper import *\n"
   ]
  },
  {
   "cell_type": "code",
   "execution_count": 3,
   "metadata": {},
   "outputs": [],
   "source": [
    "cwd = Path().cwd()\n",
    "n_values = 278\n",
    "n_a = 64"
   ]
  },
  {
   "cell_type": "code",
   "execution_count": 4,
   "metadata": {},
   "outputs": [],
   "source": [
    "with open(cwd.parent / \"raw_data\" / \"holdStr_to_holdIx\", 'rb') as f:\n",
    "    holdStr_to_holdIx = pickle.load(f)\n",
    "with open(cwd.parent / \"raw_data\" / \"holdIx_to_holdStr\", 'rb') as f:\n",
    "    holdIx_to_holdStr = pickle.load(f)"
   ]
  },
  {
   "attachments": {},
   "cell_type": "markdown",
   "metadata": {},
   "source": [
    "## 3 - Generating moonboard problem\n",
    "\n",
    "We already have trained model which has learned the patterns of climbing move and route set spirit. Lets now use this model to synthesize new route.\n",
    "Importantly we reuse the `LSTM_cell` and `densor` layers from the model we trained.\n"
   ]
  },
  {
   "attachments": {},
   "cell_type": "markdown",
   "metadata": {},
   "source": [
    "### 3.1 - Loading the model"
   ]
  },
  {
   "attachments": {},
   "cell_type": "markdown",
   "metadata": {},
   "source": [
    "### 3.2 - Initialization of inference model\n",
    "The following code creates the zero-valued vectors you will use to initialize `x` and the LSTM state variables `a` and `c`. "
   ]
  },
  {
   "cell_type": "code",
   "execution_count": 5,
   "metadata": {},
   "outputs": [],
   "source": [
    "x_initializer = np.random.rand(1, 1, n_values) / 100\n",
    "a_initializer = np.random.rand(1, n_a) * 150\n",
    "c_initializer = np.random.rand(1, n_a) /2"
   ]
  },
  {
   "cell_type": "markdown",
   "metadata": {},
   "source": [
    "## 4.  Prediction with pretrained model"
   ]
  },
  {
   "cell_type": "markdown",
   "metadata": {},
   "source": [
    "### 4.1 - DeepRouteSet generated one problem"
   ]
  },
  {
   "cell_type": "code",
   "execution_count": 6,
   "metadata": {},
   "outputs": [],
   "source": [
    "def predict_and_sample(inference_model, x_initializer = x_initializer, a_initializer = a_initializer, \n",
    "                       c_initializer = c_initializer):\n",
    "    \"\"\"\n",
    "    Generates a new climb using the inference model and a set of intial hidden and cell states.\n",
    "    \n",
    "    Arguments:\n",
    "    inference_model -- Keras model instance for inference time\n",
    "    x_initializer -- numpy array of shape (1, 1, n_values), one-hot vector initializing the values generation\n",
    "    a_initializer -- numpy array of shape (1, n_a), initializing the hidden state of the LSTM_cell\n",
    "    c_initializer -- numpy array of shape (1, n_a), initializing the cell state of the LSTM_cel\n",
    "    \n",
    "    Returns:\n",
    "    results -- numpy-array of shape (Ty, n_values), matrix of one-hot vectors representing the values generated\n",
    "    indices -- numpy-array of shape (Ty, 1), matrix of indices representing the values generated\n",
    "    \"\"\"\n",
    "    \n",
    "    # Step 1: Use your inference model to predict an output sequence given x_initializer, a_initializer and c_initializer.\n",
    "    pred = inference_model.predict([x_initializer, a_initializer, c_initializer])\n",
    "    # Step 2: Convert \"pred\" into an np.array() of indices with the maximum probabilities\n",
    "    indices =  np.argmax(pred, axis = 2)\n",
    "    # Step 3: Convert indices to one-hot vectors, the shape of the results should be (Ty, n_values)\n",
    "    results =  to_categorical(indices, num_classes = np.shape(x_initializer)[2])\n",
    "    \n",
    "    return results, indices"
   ]
  },
  {
   "cell_type": "code",
   "execution_count": 7,
   "metadata": {},
   "outputs": [
    {
     "name": "stdout",
     "output_type": "stream",
     "text": [
      "WARNING:tensorflow:No training configuration found in save file, so the model was *not* compiled. Compile it manually.\n"
     ]
    }
   ],
   "source": [
    "model_dir = cwd / 'DeepRouteSet'\n",
    "inference_model = load_model(model_dir)\n",
    "# inference_model.load_weights(cwd / 'DeepRouteSet_medium.h5')\n",
    "# Check the inference model\n",
    "# inference_model.summary()"
   ]
  },
  {
   "cell_type": "code",
   "execution_count": 14,
   "metadata": {},
   "outputs": [
    {
     "name": "stdout",
     "output_type": "stream",
     "text": [
      "1/1 [==============================] - 0s 73ms/step\n",
      "np.argmax(results[2]) = 0\n",
      "np.argmax(results[7]) = 0\n",
      "list(indices[2:8]) = [array([0]), array([0]), array([0]), array([0]), array([0]), array([0])]\n"
     ]
    }
   ],
   "source": [
    "#Initial conditions like x,a,c can be changed\n",
    "x_initializer = np.random.rand(1, 1, n_values) / 100\n",
    "a_initializer = np.random.rand(1, n_a) * 150\n",
    "c_initializer = np.random.rand(1, n_a) /2\n",
    "\n",
    "results, indices = predict_and_sample(inference_model, x_initializer, a_initializer, c_initializer)\n",
    "print(\"np.argmax(results[2]) =\", np.argmax(results[2]))\n",
    "print(\"np.argmax(results[7]) =\", np.argmax(results[7]))\n",
    "print(\"list(indices[2:8]) =\", list(indices[2:8]))"
   ]
  },
  {
   "cell_type": "code",
   "execution_count": 15,
   "metadata": {},
   "outputs": [
    {
     "name": "stdout",
     "output_type": "stream",
     "text": [
      "DeepRouteSet's generated problem:\n",
      "End\n",
      "End\n",
      "End\n",
      "End\n",
      "End\n",
      "End\n",
      "End\n",
      "End\n",
      "End\n",
      "End\n",
      "End\n",
      "End\n"
     ]
    }
   ],
   "source": [
    "print(\"DeepRouteSet's generated problem:\")\n",
    "for i in range(12):\n",
    "    print(holdIx_to_holdStr[int(indices[i])])"
   ]
  },
  {
   "cell_type": "markdown",
   "metadata": {},
   "source": [
    "### 4.2 - Sanity Check \n",
    "Check and filter out some of the not right problem"
   ]
  },
  {
   "cell_type": "code",
   "execution_count": 12,
   "metadata": {},
   "outputs": [
    {
     "name": "stdout",
     "output_type": "stream",
     "text": [
      "Repeat hand error ['A18-RH', 'E13-LH']\n"
     ]
    },
    {
     "data": {
      "text/plain": [
       "(False, ['A18-RH', 'E13-LH'], [17, 145])"
      ]
     },
     "execution_count": 12,
     "metadata": {},
     "output_type": "execute_result"
    }
   ],
   "source": [
    "sanityCheckAndOutput(indices, holdIx_to_holdStr, printError=True)"
   ]
  },
  {
   "cell_type": "markdown",
   "metadata": {},
   "source": [
    "### 4.3 - Plot 40 generated moonboard problems\n",
    "Plot 40 generated moonboard problems "
   ]
  },
  {
   "cell_type": "markdown",
   "metadata": {},
   "source": [
    "Things to try:\n",
    "1. change x, a, c initializer and see how it behave\n",
    "2. Change the how many more benchmark should add into training set. Now it is 6 duplicate of benchMark problem"
   ]
  },
  {
   "cell_type": "code",
   "execution_count": 46,
   "metadata": {
    "scrolled": true
   },
   "outputs": [
    {
     "name": "stdout",
     "output_type": "stream",
     "text": [
      "1/1 [==============================] - 0s 41ms/step\n",
      "Warning: Too high start ['C13-LH', 'D18-RH']\n",
      "1/1 [==============================] - 0s 38ms/step\n",
      "Repeat hand error ['F5-RH', 'F5-LH', 'F5-RH']\n",
      "1/1 [==============================] - 0s 37ms/step\n",
      "['A5-LH', 'A5-RH', 'C5-LH', 'E8-RH', 'E9-LH', 'H12-RH', 'G15-LH', 'K18-RH']\n",
      "1/1 [==============================] - 0s 38ms/step\n",
      "['F5-LH', 'F5-RH', 'B9-LH', 'E12-RH', 'C13-LH', 'D18-RH']\n",
      "1/1 [==============================] - 0s 38ms/step\n",
      "Warning: Second match hand with third ['H5-RH', 'E6-LH', 'E6-RH', 'F10-RH', 'C13-LH', 'D18-RH']\n",
      "1/1 [==============================] - 0s 37ms/step\n",
      "Warning: Second match hand with third ['G9-LH', 'F5-LH', 'F5-RH', 'K5-RH', 'G8-LH', 'J9-RH', 'G13-LH', 'D15-RH', 'B18-LH']\n",
      "1/1 [==============================] - 0s 34ms/step\n",
      "['E6-LH', 'E6-RH', 'F10-RH', 'C13-LH', 'D18-RH']\n",
      "1/1 [==============================] - 0s 32ms/step\n",
      "Warning: Too high start ['C13-LH', 'D18-RH']\n",
      "1/1 [==============================] - 0s 32ms/step\n",
      "Repeat hand error ['K5-RH', 'H5-LH', 'H5-RH', 'B4-RH']\n",
      "1/1 [==============================] - 0s 33ms/step\n",
      "Warning: Second match hand with third ['H5-RH', 'J5-LH', 'J5-RH', 'E6-LH', 'H8-RH', 'E9-LH', 'F10-RH', 'C13-LH', 'I14-RH', 'I18-LH']\n",
      "1/1 [==============================] - 0s 32ms/step\n",
      "['F5-LH', 'F5-RH', 'B8-LH', 'F10-RH', 'C13-LH', 'E18-RH']\n",
      "1/1 [==============================] - 0s 32ms/step\n",
      "['F5-LH', 'F5-RH', 'H11-RH', 'C13-LH', 'E18-RH']\n",
      "1/1 [==============================] - 0s 32ms/step\n",
      "['E6-LH', 'E6-RH', 'F10-RH', 'C13-LH', 'D18-RH']\n",
      "1/1 [==============================] - 0s 32ms/step\n",
      "Repeat hand error ['B6-LH', 'B6-RH']\n",
      "1/1 [==============================] - 0s 32ms/step\n",
      "Warning: Too high start ['E8-LH', 'F10-RH', 'C13-LH', 'D18-RH']\n",
      "1/1 [==============================] - 0s 32ms/step\n",
      "Warning: Second match hand with third ['G9-LH', 'F5-LH', 'F5-RH', 'J10-RH', 'F13-LH', 'F15-RH', 'C18-LH']\n",
      "1/1 [==============================] - 0s 32ms/step\n",
      "Warning: Second match hand with third ['K9-RH', 'F5-LH', 'F5-RH', 'F10-RH', 'C13-LH', 'I14-RH', 'H16-LH', 'K18-RH']\n",
      "1/1 [==============================] - 0s 31ms/step\n",
      "['J5-LH', 'J5-RH', 'E6-LH', 'E6-RH', 'E8-LH', 'G10-RH', 'B10-LH', 'F11-RH', 'C13-LH', 'I14-RH', 'G15-LH', 'I18-RH']\n",
      "1/1 [==============================] - 0s 33ms/step\n",
      "['F5-RH', 'A5-LH', 'D8-RH', 'C10-LH', 'E13-RH', 'E15-LH', 'I18-RH']\n",
      "1/1 [==============================] - 0s 31ms/step\n",
      "Warning: Second match hand with third ['H8-LH', 'F5-LH', 'F5-RH', 'C7-LH', 'F11-RH', 'C13-LH', 'H14-RH', 'G18-LH']\n",
      "1/1 [==============================] - 0s 31ms/step\n",
      "Warning: Second match hand with third ['B4-LH', 'F5-LH', 'F5-RH', 'C10-LH', 'E12-RH', 'A14-LH', 'D18-RH']\n",
      "1/1 [==============================] - 0s 31ms/step\n",
      "Warning: Second match hand with third ['H8-LH', 'F5-LH', 'F5-RH', 'J10-RH', 'H12-LH', 'K14-RH', 'G15-LH', 'K18-RH']\n",
      "1/1 [==============================] - 0s 31ms/step\n",
      "['E6-LH', 'E6-RH', 'H8-RH', 'C10-LH', 'E12-RH', 'A14-LH', 'D18-RH']\n",
      "1/1 [==============================] - 0s 32ms/step\n",
      "['H5-RH', 'E6-LH', 'G9-RH', 'C13-LH', 'D18-RH']\n",
      "1/1 [==============================] - 0s 32ms/step\n",
      "Warning: Second match hand with third ['D9-LH', 'F5-LH', 'F5-RH', 'J10-RH', 'G12-LH', 'G14-RH', 'C15-LH', 'G18-RH']\n",
      "1/1 [==============================] - 0s 31ms/step\n",
      "Repeat hand error ['F5-LH', 'F5-RH']\n",
      "1/1 [==============================] - 0s 31ms/step\n",
      "['A5-RH', 'C5-LH', 'E6-RH', 'E8-LH', 'I9-RH', 'H12-LH', 'K14-RH', 'H16-LH', 'G17-RH', 'D18-LH']\n",
      "1/1 [==============================] - 0s 32ms/step\n",
      "Warning: Second match hand with third ['C5-RH', 'A5-LH', 'A5-RH', 'B8-LH', 'F10-RH', 'C13-LH', 'D18-RH']\n",
      "1/1 [==============================] - 0s 32ms/step\n",
      "['E6-LH', 'E6-RH', 'A9-LH', 'F11-RH', 'C13-LH', 'D18-RH']\n",
      "1/1 [==============================] - 0s 32ms/step\n",
      "Repeat hand error ['H10-LH', 'J5-LH']\n",
      "1/1 [==============================] - 0s 33ms/step\n",
      "['C5-LH', 'C5-RH', 'E6-LH', 'G9-RH', 'D11-LH', 'I14-RH', 'G18-LH']\n",
      "1/1 [==============================] - 0s 32ms/step\n",
      "['E6-LH', 'E6-RH', 'H8-RH', 'C10-LH', 'D15-RH', 'A18-LH']\n",
      "1/1 [==============================] - 0s 33ms/step\n",
      "Warning: Second match hand with third ['J5-LH', 'F5-LH', 'F5-RH', 'F7-LH', 'J10-RH', 'G12-LH', 'F12-RH', 'C14-LH', 'G18-RH']\n",
      "1/1 [==============================] - 0s 31ms/step\n",
      "Repeat hand error ['H5-RH', 'F5-LH', 'F5-RH', 'F7-LH', 'F5-RH', 'B8-LH', 'F5-RH']\n",
      "1/1 [==============================] - 0s 39ms/step\n",
      "Warning: Too high start ['K8-LH', 'G2-RH', 'F5-LH', 'J8-RH', 'E10-LH', 'I14-RH', 'G18-LH']\n",
      "1/1 [==============================] - 0s 32ms/step\n",
      "Warning: Second match hand with third ['G10-LH', 'F5-LH', 'F5-RH', 'J8-RH', 'E10-LH', 'I13-RH', 'G15-LH', 'K18-RH']\n",
      "1/1 [==============================] - 0s 33ms/step\n",
      "['E6-LH', 'E6-RH', 'F10-RH', 'C13-LH', 'D18-RH']\n",
      "1/1 [==============================] - 0s 32ms/step\n",
      "Repeat hand error ['F6-LH']\n",
      "1/1 [==============================] - 0s 32ms/step\n",
      "Warning: Second match hand with third ['B3-RH', 'F5-LH', 'F5-RH', 'E8-LH', 'J10-RH', 'H12-LH', 'I13-RH', 'E15-LH', 'D18-RH']\n",
      "1/1 [==============================] - 0s 33ms/step\n",
      "Warning: Second match hand with third ['H10-LH', 'J5-LH', 'J5-RH', 'G6-LH', 'H8-RH', 'F11-LH', 'G14-RH', 'D18-LH']\n",
      "15 valid out of 40\n"
     ]
    }
   ],
   "source": [
    "NUM_GEN = 40\n",
    "passCount = 0\n",
    "passGeneratedHandSequenceList = []\n",
    "for i in range(NUM_GEN):\n",
    "    x_initializer = np.zeros((1, 1, n_values))\n",
    "    x_initializer = np.random.rand(1, 1, n_values) / 100\n",
    "    a_initializer = np.random.rand(1, n_a) * 150\n",
    "    c_initializer = np.random.rand(1, n_a) /2\n",
    "    \n",
    "    results, indices = predict_and_sample(inference_model, x_initializer, a_initializer, c_initializer)\n",
    "    passCheck, outputListInString, outputListInIx = sanityCheckAndOutput(\n",
    "        indices, holdIx_to_holdStr, printError = True)\n",
    "    if passCheck:\n",
    "        print(outputListInString)\n",
    "        # plotAProblem(outputListInString)\n",
    "        passCount = passCount + 1\n",
    "        passGeneratedHandSequenceList.append(outputListInString)\n",
    "print (f\"{passCount} valid out of {NUM_GEN}\")        "
   ]
  },
  {
   "cell_type": "code",
   "execution_count": 47,
   "metadata": {},
   "outputs": [
    {
     "data": {
      "text/plain": [
       "15"
      ]
     },
     "execution_count": 47,
     "metadata": {},
     "output_type": "execute_result"
    }
   ],
   "source": [
    "len(passGeneratedHandSequenceList)"
   ]
  },
  {
   "cell_type": "code",
   "execution_count": 48,
   "metadata": {},
   "outputs": [
    {
     "name": "stdout",
     "output_type": "stream",
     "text": [
      "['A5-LH', 'A5-RH', 'C5-LH', 'E8-RH', 'E9-LH', 'H12-RH', 'G15-LH', 'K18-RH']\n"
     ]
    }
   ],
   "source": [
    "print(passGeneratedHandSequenceList[0])"
   ]
  },
  {
   "cell_type": "markdown",
   "metadata": {},
   "source": [
    "### 4.4 - Produce move generator\n",
    "To feed into GradeNet, we should transform from hand sequence to move sequence"
   ]
  },
  {
   "cell_type": "code",
   "execution_count": 49,
   "metadata": {},
   "outputs": [],
   "source": [
    "# Feed in the hold feature.csv files\n",
    "left_hold_feature_path = cwd.parent / 'raw_data' / 'hold_features_2016_LH.csv'\n",
    "right_hold_feature_path = cwd.parent / 'raw_data' / 'hold_features_2016_RH.csv'\n",
    "\n",
    "# convert the csv to saved pickle dictionary\n",
    "LeftHandfeatures = pd.read_csv(left_hold_feature_path, dtype=str)\n",
    "RightHandfeatures = pd.read_csv(right_hold_feature_path, dtype=str)\n",
    "# convert features from pd dataframe to dictionary of left and right hand\n",
    "RightHandfeature_dict = {}\n",
    "LeftHandfeature_dict = {}\n",
    "for index in RightHandfeatures.index:\n",
    "    LeftHandfeature_item = LeftHandfeatures.loc[index]\n",
    "    LeftHandfeature_dict[(int(LeftHandfeature_item['X_coord']), int(LeftHandfeature_item['Y_coord']))] = np.array(\n",
    "        list(LeftHandfeature_item['Difficulties'])).astype(int)\n",
    "    RightHandfeature_item = RightHandfeatures.loc[index]\n",
    "    RightHandfeature_dict[(int(RightHandfeature_item['X_coord']), int(RightHandfeature_item['Y_coord']))] = np.array(\n",
    "        list(RightHandfeature_item['Difficulties'])).astype(int)"
   ]
  },
  {
   "cell_type": "code",
   "execution_count": 51,
   "metadata": {
    "scrolled": true
   },
   "outputs": [
    {
     "data": {
      "text/plain": [
       "[{'TargetHoldString': (2, 4),\n",
       "  'TargetHoldHand': 0,\n",
       "  'TargetHoldScore': array([5]),\n",
       "  'RemainingHoldString': (0, 4),\n",
       "  'RemainingHoldHand': 1,\n",
       "  'RemainingHoldScore': array([4]),\n",
       "  'dxdyRtoT': (2, 0),\n",
       "  'MovingHoldString': (0, 4),\n",
       "  'MovingHoldHand': 0,\n",
       "  'MovingHoldScore': array([4]),\n",
       "  'dxdyMtoT': (2, 0),\n",
       "  'FootPlacement': [0, 0, 0, 1, 1, 1, 0],\n",
       "  'MoveSuccessRate': array([5.44768087])},\n",
       " {'TargetHoldString': (4, 7),\n",
       "  'TargetHoldHand': 1,\n",
       "  'TargetHoldScore': array([8]),\n",
       "  'RemainingHoldString': (2, 4),\n",
       "  'RemainingHoldHand': 0,\n",
       "  'RemainingHoldScore': array([5]),\n",
       "  'dxdyRtoT': (2, 3),\n",
       "  'MovingHoldString': (0, 4),\n",
       "  'MovingHoldHand': 1,\n",
       "  'MovingHoldScore': array([4]),\n",
       "  'dxdyMtoT': (4, 3),\n",
       "  'FootPlacement': [0, 0, 0, 1, 1, 1, 0],\n",
       "  'MoveSuccessRate': array([14.84316105])},\n",
       " {'TargetHoldString': (4, 8),\n",
       "  'TargetHoldHand': 0,\n",
       "  'TargetHoldScore': array([3]),\n",
       "  'RemainingHoldString': (4, 7),\n",
       "  'RemainingHoldHand': 1,\n",
       "  'RemainingHoldScore': array([8]),\n",
       "  'dxdyRtoT': (0, 1),\n",
       "  'MovingHoldString': (2, 4),\n",
       "  'MovingHoldHand': 0,\n",
       "  'MovingHoldScore': array([5]),\n",
       "  'dxdyMtoT': (2, 4),\n",
       "  'FootPlacement': [1, 0, 0, 0, 0, 0, 1],\n",
       "  'MoveSuccessRate': array([7.92060407])},\n",
       " {'TargetHoldString': (7, 11),\n",
       "  'TargetHoldHand': 1,\n",
       "  'TargetHoldScore': array([4]),\n",
       "  'RemainingHoldString': (4, 8),\n",
       "  'RemainingHoldHand': 0,\n",
       "  'RemainingHoldScore': array([3]),\n",
       "  'dxdyRtoT': (3, 3),\n",
       "  'MovingHoldString': (4, 7),\n",
       "  'MovingHoldHand': 1,\n",
       "  'MovingHoldScore': array([8]),\n",
       "  'dxdyMtoT': (3, 4),\n",
       "  'FootPlacement': [0, 0, 0, 1, 0, 0, 1],\n",
       "  'MoveSuccessRate': array([6.00506278])},\n",
       " {'TargetHoldString': (6, 14),\n",
       "  'TargetHoldHand': 0,\n",
       "  'TargetHoldScore': array([5]),\n",
       "  'RemainingHoldString': (7, 11),\n",
       "  'RemainingHoldHand': 1,\n",
       "  'RemainingHoldScore': array([4]),\n",
       "  'dxdyRtoT': (-1, 3),\n",
       "  'MovingHoldString': (4, 8),\n",
       "  'MovingHoldHand': 0,\n",
       "  'MovingHoldScore': array([3]),\n",
       "  'dxdyMtoT': (2, 6),\n",
       "  'FootPlacement': [1, 0, 0, 1, 0, 0, 0],\n",
       "  'MoveSuccessRate': array([3.2565201])},\n",
       " {'TargetHoldString': (10, 17),\n",
       "  'TargetHoldHand': 1,\n",
       "  'TargetHoldScore': array([9]),\n",
       "  'RemainingHoldString': (6, 14),\n",
       "  'RemainingHoldHand': 0,\n",
       "  'RemainingHoldScore': array([5]),\n",
       "  'dxdyRtoT': (4, 3),\n",
       "  'MovingHoldString': (7, 11),\n",
       "  'MovingHoldHand': 1,\n",
       "  'MovingHoldScore': array([4]),\n",
       "  'dxdyMtoT': (3, 6),\n",
       "  'FootPlacement': [0, 1, 0, 1, 0, 0, 1],\n",
       "  'MoveSuccessRate': array([16.53569963])}]"
      ]
     },
     "execution_count": 51,
     "metadata": {},
     "output_type": "execute_result"
    }
   ],
   "source": [
    "# Output with a list of dictionary means moves\n",
    "moveGeneratorFromStrList(passGeneratedHandSequenceList[0], string_mode = False)"
   ]
  },
  {
   "cell_type": "markdown",
   "metadata": {},
   "source": [
    "### 4.5 - Generate moves and save the result (Don't overwrite)\n",
    "Two things to save:\n",
    "1. Move sequence -- For GradeNet and StyleNet purpose\n",
    "2. List of holds -- For ploting purpose"
   ]
  },
  {
   "cell_type": "code",
   "execution_count": 55,
   "metadata": {},
   "outputs": [],
   "source": [
    "save_path = cwd / 'DeepRouteSet_medium_out'"
   ]
  },
  {
   "cell_type": "code",
   "execution_count": 59,
   "metadata": {
    "scrolled": true
   },
   "outputs": [
    {
     "name": "stdout",
     "output_type": "stream",
     "text": [
      "completed MediumDeepRouteSet_v1_id1\n",
      "completed MediumDeepRouteSet_v1_id2\n",
      "completed MediumDeepRouteSet_v1_id3\n",
      "completed MediumDeepRouteSet_v1_id4\n",
      "completed MediumDeepRouteSet_v1_id5\n",
      "skip duplicate ['E6-LH', 'E6-RH', 'F10-RH', 'C13-LH', 'D18-RH']\n",
      "completed MediumDeepRouteSet_v1_id6\n",
      "completed MediumDeepRouteSet_v1_id7\n",
      "completed MediumDeepRouteSet_v1_id8\n",
      "completed MediumDeepRouteSet_v1_id9\n",
      "completed MediumDeepRouteSet_v1_id10\n",
      "completed MediumDeepRouteSet_v1_id11\n",
      "completed MediumDeepRouteSet_v1_id12\n",
      "completed MediumDeepRouteSet_v1_id13\n",
      "skip duplicate ['E6-LH', 'E6-RH', 'F10-RH', 'C13-LH', 'D18-RH']\n",
      "result saved. Store  13 out of 15\n"
     ]
    }
   ],
   "source": [
    "dim22Vec, listOfSavedSequence = moveGeneratorForAllGeneratedProblem(\n",
    "    passGeneratedHandSequenceList,\n",
    "    save_path,\n",
    "    \"MediumDeepRouteSet_v1_id\",\n",
    "    print_result=True,\n",
    ")\n"
   ]
  },
  {
   "cell_type": "code",
   "execution_count": null,
   "metadata": {},
   "outputs": [],
   "source": [
    "# TODO: investigate why only some are"
   ]
  },
  {
   "cell_type": "code",
   "execution_count": null,
   "metadata": {},
   "outputs": [
    {
     "name": "stdout",
     "output_type": "stream",
     "text": [
      "[[ 5.          2.          3.          0.        ]\n",
      " [ 9.         12.         14.         17.        ]\n",
      " [ 1.          0.          1.          0.        ]\n",
      " [ 5.          8.          4.          5.        ]\n",
      " [ 4.          5.          2.          3.        ]\n",
      " [ 5.          9.         12.         14.        ]\n",
      " [ 5.          5.          8.          4.        ]\n",
      " [ 1.         -3.          1.         -3.        ]\n",
      " [ 4.          3.          2.          3.        ]\n",
      " [ 4.          4.          5.          2.        ]\n",
      " [ 5.          5.          9.         12.        ]\n",
      " [ 3.          5.          5.          8.        ]\n",
      " [ 1.         -2.         -2.         -2.        ]\n",
      " [ 4.          7.          5.          5.        ]\n",
      " [ 0.          0.          0.          0.        ]\n",
      " [ 0.          0.          0.          1.        ]\n",
      " [ 0.          0.          1.          0.        ]\n",
      " [ 1.          0.          0.          0.        ]\n",
      " [ 1.          1.          0.          0.        ]\n",
      " [ 1.          0.          0.          1.        ]\n",
      " [ 0.          0.          1.          1.        ]\n",
      " [ 1.13008937 20.01687593 10.50692437 10.00843797]]\n"
     ]
    }
   ],
   "source": [
    "print(dim22Vec[next(iter(dim22Vec))])"
   ]
  },
  {
   "cell_type": "code",
   "execution_count": null,
   "metadata": {},
   "outputs": [
    {
     "data": {
      "text/plain": [
       "(22, 4)"
      ]
     },
     "execution_count": 48,
     "metadata": {},
     "output_type": "execute_result"
    }
   ],
   "source": [
    "dim22Vec[next(iter(dim22Vec))].shape"
   ]
  },
  {
   "cell_type": "code",
   "execution_count": null,
   "metadata": {},
   "outputs": [],
   "source": [
    "save_pickle(listOfSavedSequence, cwd / 'DeepRouteSet_medium_out_seq')"
   ]
  },
  {
   "cell_type": "markdown",
   "metadata": {},
   "source": [
    "### 4.6 - Plot stored file"
   ]
  },
  {
   "cell_type": "code",
   "execution_count": 52,
   "metadata": {},
   "outputs": [],
   "source": [
    "with open(cwd.parent / \"out\" / \"DeepRouteSet_medium_out_seq\", 'rb') as f:\n",
    "    listOfSavedSequence = pickle.load(f)"
   ]
  },
  {
   "cell_type": "code",
   "execution_count": 53,
   "metadata": {},
   "outputs": [
    {
     "data": {
      "text/plain": [
       "['E6-LH', 'E6-RH', 'I10-RH', 'C13-LH', 'E16-RH', 'A18-LH']"
      ]
     },
     "execution_count": 53,
     "metadata": {},
     "output_type": "execute_result"
    }
   ],
   "source": [
    "listOfSavedSequence[0]"
   ]
  },
  {
   "cell_type": "code",
   "execution_count": 54,
   "metadata": {
    "scrolled": true
   },
   "outputs": [
    {
     "name": "stdout",
     "output_type": "stream",
     "text": [
      "MediumRouteSet_v1_id 1\n",
      "beta ['E6-LH', 'E6-RH', 'I10-RH', 'C13-LH', 'E16-RH', 'A18-LH']\n",
      "MediumRouteSet_v1_id 2\n",
      "beta ['H5-LH', 'H5-RH', 'E6-LH', 'H8-RH', 'F10-LH', 'H12-RH', 'G15-LH', 'K18-RH']\n",
      "MediumRouteSet_v1_id 3\n",
      "beta ['G2-LH', 'G2-RH', 'F5-LH', 'F5-RH', 'B8-LH', 'F10-RH', 'E13-LH', 'H14-RH', 'E18-LH']\n",
      "MediumRouteSet_v1_id 4\n",
      "beta ['A5-LH', 'A5-RH', 'D5-RH', 'B8-LH', 'F10-RH', 'F12-LH', 'J13-RH', 'G15-LH', 'K18-RH']\n",
      "MediumRouteSet_v1_id 5\n",
      "beta ['A5-LH', 'C5-RH', 'B6-LH', 'E9-RH', 'D11-LH', 'I14-RH', 'E18-LH']\n",
      "MediumRouteSet_v1_id 6\n",
      "beta ['K5-LH', 'K5-RH', 'G6-LH', 'J9-RH', 'F14-LH', 'E18-RH']\n",
      "MediumRouteSet_v1_id 7\n",
      "beta ['E6-LH', 'E6-RH', 'F10-RH', 'C13-LH', 'D18-RH']\n",
      "MediumRouteSet_v1_id 8\n",
      "beta ['E6-LH', 'E6-RH', 'F10-RH', 'C13-LH', 'E16-RH', 'G18-LH']\n",
      "MediumRouteSet_v1_id 9\n",
      "beta ['E6-LH', 'E6-RH', 'H8-RH', 'C10-LH', 'G14-RH', 'D18-LH']\n",
      "MediumRouteSet_v1_id 10\n",
      "beta ['A5-LH', 'A5-RH', 'C5-LH', 'E8-RH', 'F10-LH', 'H12-RH', 'G15-LH', 'K18-RH']\n",
      "MediumRouteSet_v1_id 11\n",
      "beta ['C5-LH', 'C5-RH', 'E6-RH', 'A9-LH', 'F11-RH', 'C13-LH', 'I14-RH', 'G18-LH']\n",
      "MediumRouteSet_v1_id 12\n",
      "beta ['B4-LH', 'C5-RH', 'D6-RH', 'A9-LH', 'F11-RH', 'F13-LH', 'H16-RH', 'D18-LH']\n",
      "MediumRouteSet_v1_id 13\n",
      "beta ['A5-LH', 'E6-RH', 'C10-LH', 'C13-LH', 'E18-RH']\n",
      "MediumRouteSet_v1_id 14\n",
      "beta ['B4-LH', 'C5-RH', 'D6-RH', 'D10-LH', 'G11-RH', 'F15-LH', 'H18-RH']\n",
      "MediumRouteSet_v1_id 15\n",
      "beta ['A5-RH', 'C5-LH', 'E6-RH', 'C8-LH', 'F11-RH', 'C13-LH', 'D18-RH']\n",
      "MediumRouteSet_v1_id 16\n",
      "beta ['F5-LH', 'F5-RH', 'F10-RH', 'C13-LH', 'E16-RH', 'G18-LH']\n",
      "MediumRouteSet_v1_id 17\n",
      "beta ['F5-LH', 'F5-RH', 'C13-LH', 'D18-RH']\n",
      "MediumRouteSet_v1_id 18\n",
      "beta ['F5-LH', 'F5-RH', 'A5-LH', 'B8-LH', 'F10-RH', 'E13-LH', 'I14-RH', 'G18-LH']\n",
      "MediumRouteSet_v1_id 19\n",
      "beta ['H5-LH', 'H5-RH', 'E6-LH', 'H8-RH', 'E9-LH', 'F10-RH', 'C13-LH', 'D18-RH']\n",
      "MediumRouteSet_v1_id 20\n",
      "beta ['F5-LH', 'F5-RH', 'C10-LH', 'F11-RH', 'F14-LH', 'I18-RH']\n",
      "MediumRouteSet_v1_id 21\n",
      "beta ['F5-LH', 'F5-RH', 'B8-LH', 'F10-RH', 'E13-LH', 'I16-RH', 'G18-LH']\n",
      "MediumRouteSet_v1_id 22\n",
      "beta ['C5-LH', 'C5-RH', 'D6-RH', 'B8-LH', 'F10-RH', 'F12-LH', 'H14-RH', 'F15-LH', 'H18-RH']\n",
      "MediumRouteSet_v1_id 23\n",
      "beta ['D3-RH', 'B4-LH', 'D6-RH', 'C7-LH', 'G11-RH', 'D13-LH', 'D16-RH', 'C18-LH']\n",
      "MediumRouteSet_v1_id 24\n",
      "beta ['G2-LH', 'G2-RH', 'H5-LH', 'H5-RH', 'E8-LH', 'E9-RH', 'D10-LH', 'I12-RH', 'F15-LH', 'H18-RH']\n",
      "MediumRouteSet_v1_id 25\n",
      "beta ['A5-LH', 'A5-RH', 'D5-RH', 'B8-LH', 'F10-RH', 'F12-LH', 'J13-RH', 'H16-LH', 'K18-RH']\n",
      "MediumRouteSet_v1_id 26\n",
      "beta ['E6-LH', 'E6-RH', 'F11-RH', 'C13-LH', 'D18-RH']\n",
      "MediumRouteSet_v1_id 27\n",
      "beta ['F5-LH', 'F5-RH', 'J8-RH', 'F10-LH', 'I13-RH', 'G15-LH', 'K18-RH']\n",
      "MediumRouteSet_v1_id 28\n",
      "beta ['H5-LH', 'H5-RH', 'E6-LH', 'G9-RH', 'C10-LH', 'G14-RH', 'E16-LH', 'I18-RH']\n",
      "MediumRouteSet_v1_id 29\n",
      "beta ['H5-LH', 'H5-RH', 'E6-LH', 'G9-RH', 'C13-LH', 'D15-RH', 'A18-LH']\n",
      "MediumRouteSet_v1_id 30\n",
      "beta ['E6-LH', 'E6-RH', 'E8-LH', 'F10-RH', 'C13-LH', 'H14-RH', 'H16-LH', 'K18-RH']\n",
      "MediumRouteSet_v1_id 31\n",
      "beta ['G2-LH', 'G2-RH', 'F5-LH', 'F5-RH', 'B8-LH', 'E10-RH', 'A12-LH', 'E13-RH', 'B16-LH', 'G18-RH']\n",
      "MediumRouteSet_v1_id 32\n",
      "beta ['J5-LH', 'J5-RH', 'E6-LH', 'H8-RH', 'E9-LH', 'F10-RH', 'C13-LH', 'D18-RH']\n",
      "MediumRouteSet_v1_id 33\n",
      "beta ['K5-LH', 'K5-RH', 'G6-LH', 'J9-RH', 'F13-LH', 'H14-RH', 'D18-LH']\n",
      "MediumRouteSet_v1_id 34\n",
      "beta ['E6-LH', 'E6-RH', 'H8-RH', 'C10-LH', 'G14-RH', 'E16-LH', 'I18-RH']\n",
      "MediumRouteSet_v1_id 35\n",
      "beta ['F5-LH', 'F5-RH', 'J8-RH', 'E10-LH', 'I14-RH', 'E18-LH']\n",
      "MediumRouteSet_v1_id 36\n",
      "beta ['F5-LH', 'F5-RH', 'C5-LH', 'E6-RH', 'B8-LH', 'F10-RH', 'C13-LH', 'H14-RH', 'G15-LH', 'K18-RH']\n",
      "MediumRouteSet_v1_id 37\n",
      "beta ['G4-LH', 'G4-RH', 'E6-LH', 'E6-RH', 'C8-LH', 'F11-RH', 'C13-LH', 'D18-RH']\n",
      "MediumRouteSet_v1_id 38\n",
      "beta ['A5-LH', 'C5-RH', 'E6-LH', 'G9-RH', 'D11-LH', 'I14-RH', 'G18-LH']\n",
      "MediumRouteSet_v1_id 39\n",
      "beta ['E6-LH', 'E6-RH', 'G4-RH', 'E6-LH', 'E8-RH', 'A9-LH', 'F11-RH', 'C13-LH', 'I14-RH', 'G18-LH']\n",
      "MediumRouteSet_v1_id 40\n",
      "beta ['F5-RH', 'A5-LH', 'C13-LH', 'D18-RH']\n",
      "MediumRouteSet_v1_id 41\n",
      "beta ['C5-LH', 'C5-RH', 'F10-RH', 'C13-LH', 'D18-RH']\n",
      "MediumRouteSet_v1_id 42\n",
      "beta ['H5-LH', 'H5-RH', 'E6-LH', 'E6-RH', 'E8-LH', 'H10-RH', 'C13-LH', 'D15-RH', 'A18-LH']\n",
      "MediumRouteSet_v1_id 43\n",
      "beta ['J5-LH', 'J5-RH', 'E6-LH', 'G9-RH', 'C13-LH', 'D15-RH', 'A18-LH']\n",
      "MediumRouteSet_v1_id 44\n",
      "beta ['H5-LH', 'H5-RH', 'E6-LH', 'H8-RH', 'F10-LH', 'H12-RH', 'G15-LH', 'G17-RH', 'D18-LH']\n",
      "MediumRouteSet_v1_id 45\n",
      "beta ['F5-LH', 'F5-RH', 'A9-LH', 'F11-RH', 'C13-LH', 'I14-RH', 'G18-LH']\n",
      "MediumRouteSet_v1_id 46\n",
      "beta ['J5-LH', 'J5-RH', 'G6-LH', 'I9-RH', 'F13-LH', 'H16-RH', 'D18-LH']\n",
      "MediumRouteSet_v1_id 47\n",
      "beta ['F5-LH', 'F5-RH', 'C5-LH', 'E8-RH', 'A9-LH', 'F11-RH', 'C13-LH', 'I14-RH', 'G18-LH']\n",
      "MediumRouteSet_v1_id 48\n",
      "beta ['E6-LH', 'E6-RH', 'F10-RH', 'C13-LH', 'D15-RH', 'A18-LH']\n",
      "MediumRouteSet_v1_id 49\n",
      "beta ['G4-LH', 'G4-RH', 'E6-LH', 'H8-RH', 'C10-LH', 'E12-RH', 'A14-LH', 'D18-RH']\n",
      "MediumRouteSet_v1_id 50\n",
      "beta ['K5-RH', 'F5-LH', 'I10-RH', 'C13-LH', 'E16-RH', 'D18-LH']\n",
      "MediumRouteSet_v1_id 51\n",
      "beta ['J5-LH', 'J5-RH', 'G6-LH', 'I10-RH', 'F13-LH', 'H16-RH', 'D18-LH']\n",
      "MediumRouteSet_v1_id 52\n",
      "beta ['A5-RH', 'C5-LH', 'E8-RH', 'C10-LH', 'G14-RH', 'E18-LH']\n",
      "MediumRouteSet_v1_id 53\n",
      "beta ['B3-RH', 'A5-LH', 'E6-RH', 'C10-LH', 'G13-RH', 'E18-LH']\n",
      "MediumRouteSet_v1_id 54\n",
      "beta ['E6-LH', 'C5-RH', 'E6-LH', 'H8-RH', 'E9-LH', 'G10-RH', 'C13-LH', 'D18-RH']\n",
      "MediumRouteSet_v1_id 55\n",
      "beta ['H5-LH', 'H5-RH', 'E6-LH', 'E6-RH', 'C8-LH', 'F11-RH', 'C13-LH', 'D18-RH']\n",
      "MediumRouteSet_v1_id 56\n",
      "beta ['E6-LH', 'E6-RH', 'A9-LH', 'F11-RH', 'C13-LH', 'D18-RH']\n",
      "MediumRouteSet_v1_id 57\n",
      "beta ['E6-LH', 'E6-RH', 'E8-LH', 'F10-RH', 'C13-LH', 'D18-RH']\n",
      "MediumRouteSet_v1_id 58\n",
      "beta ['I5-RH', 'E6-LH', 'F10-RH', 'C13-LH', 'D18-RH']\n",
      "MediumRouteSet_v1_id 59\n",
      "beta ['F6-LH', 'F5-RH', 'A5-LH', 'A5-RH', 'B8-LH', 'F10-RH', 'E13-LH', 'I16-RH', 'G18-LH']\n",
      "MediumRouteSet_v1_id 60\n",
      "beta ['A5-LH', 'A5-RH', 'B8-LH', 'F10-RH', 'E14-LH', 'G18-RH']\n",
      "MediumRouteSet_v1_id 61\n",
      "beta ['J5-LH', 'J5-RH', 'H8-RH', 'C10-LH', 'D15-RH', 'A18-LH']\n",
      "MediumRouteSet_v1_id 62\n",
      "beta ['C5-LH', 'C5-RH', 'A5-LH', 'F10-RH', 'C13-LH', 'D18-RH']\n",
      "MediumRouteSet_v1_id 63\n",
      "beta ['H5-LH', 'H5-RH', 'E6-LH', 'E6-RH', 'A9-LH', 'F11-RH', 'C13-LH', 'D18-RH']\n",
      "MediumRouteSet_v1_id 64\n",
      "beta ['B4-LH', 'C5-RH', 'E6-LH', 'G9-RH', 'C13-LH', 'D18-RH']\n",
      "MediumRouteSet_v1_id 65\n",
      "beta ['I5-RH', 'F5-LH', 'F10-RH', 'C13-LH', 'E16-RH', 'D18-LH']\n"
     ]
    }
   ],
   "source": [
    "count = 1\n",
    "for seq in listOfSavedSequence:\n",
    "    print (\"MediumRouteSet_v1_id\", count)\n",
    "    print (\"beta\", seq)\n",
    "    plotAProblem(seq)\n",
    "    count = count + 1"
   ]
  },
  {
   "cell_type": "markdown",
   "metadata": {},
   "source": [
    "**Space to play with**: \n",
    "\n",
    "* Initial conditions like x,a,c can be changed\n",
    "* Should compare the similarity with the training set. \n",
    "* Package the DeepRouteSet with gradeNet to predict the grade"
   ]
  },
  {
   "cell_type": "markdown",
   "metadata": {},
   "source": [
    "**References**\n",
    "\n",
    "This program is adapted from Andrew Ng coursera's course Jazz music\n",
    "The ideas presented in this notebook came primarily from three computational music papers cited below. The implementation here also took significant inspiration and used many components from Ji-Sung Kim's GitHub repository.\n",
    "\n",
    "- Ji-Sung Kim, 2016, [deepjazz](https://github.com/jisungk/deepjazz)\n",
    "- Jon Gillick, Kevin Tang and Robert Keller, 2009. [Learning Jazz Grammars](http://ai.stanford.edu/~kdtang/papers/smc09-jazzgrammar.pdf)\n",
    "- Robert Keller and David Morrison, 2007, [A Grammatical Approach to Automatic Improvisation](http://smc07.uoa.gr/SMC07%20Proceedings/SMC07%20Paper%2055.pdf)\n",
    "- François Pachet, 1999, [Surprising Harmonies](http://citeseerx.ist.psu.edu/viewdoc/download?doi=10.1.1.5.7473&rep=rep1&type=pdf)"
   ]
  }
 ],
 "metadata": {
  "coursera": {
   "course_slug": "nlp-sequence-models",
   "graded_item_id": "EG0F7",
   "launcher_item_id": "cxJXc"
  },
  "kernelspec": {
   "display_name": "moonboardrnn-hW4ed92X-py3.8",
   "language": "python",
   "name": "python3"
  },
  "language_info": {
   "codemirror_mode": {
    "name": "ipython",
    "version": 3
   },
   "file_extension": ".py",
   "mimetype": "text/x-python",
   "name": "python",
   "nbconvert_exporter": "python",
   "pygments_lexer": "ipython3",
   "version": "3.9.16"
  },
  "vscode": {
   "interpreter": {
    "hash": "8d257aaba97b534713eafa91609455863fac8d9daac4f63bd3ddeb8aecd89a62"
   }
  }
 },
 "nbformat": 4,
 "nbformat_minor": 4
}
